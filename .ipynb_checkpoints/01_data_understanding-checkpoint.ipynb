{
 "cells": [
  {
   "cell_type": "markdown",
   "metadata": {},
   "source": [
    "# 1. Overview"
   ]
  },
  {
   "cell_type": "markdown",
   "metadata": {},
   "source": [
    "The notebook should include a summary at the beginning that briefly and accurately describes your process. The summary should be approximately 250 words -- about the size of a research paper abstract.\n",
    "\n",
    "Summary elements:\n",
    "\n",
    "  -  Business and data understanding: what kind of data are you using, and what makes it well-suited for the business problem?\n",
    "       - You do not need to include any data visualizations in your summary, but consider including relevant descriptive statistics\n",
    "  -  Data preparation: why did you choose the data preparation steps that you did, and what was the result?\n",
    "       - This should be specific to the kind of data you are working with. For example, if you are doing an NLP project, what did you decide to do with stopwords?\n",
    "       - Be sure to list the packages/libraries used to prepare the data, and why\n",
    "  -  Modeling: what modeling package(s) did you use, which model(s) within the package(s), and what tuning steps did you take?\n",
    "       - For some projects there may be only one applicable package; you should still briefly explain why this was the appropriate choice\n",
    "  -  Evaluation: how well did your final model perform?\n",
    "       - Include one or more relevant metrics\n",
    "       - Be sure to briefly describe your validation approach\n"
   ]
  },
  {
   "cell_type": "code",
   "execution_count": null,
   "metadata": {},
   "outputs": [],
   "source": []
  },
  {
   "cell_type": "markdown",
   "metadata": {},
   "source": [
    "# 2. Business Understanding"
   ]
  },
  {
   "cell_type": "code",
   "execution_count": null,
   "metadata": {},
   "outputs": [],
   "source": []
  },
  {
   "cell_type": "code",
   "execution_count": null,
   "metadata": {},
   "outputs": [],
   "source": []
  },
  {
   "cell_type": "code",
   "execution_count": null,
   "metadata": {},
   "outputs": [],
   "source": []
  },
  {
   "cell_type": "markdown",
   "metadata": {},
   "source": [
    "# 3. Data Understanding"
   ]
  },
  {
   "cell_type": "markdown",
   "metadata": {},
   "source": [
    "## 3.1 Data Description"
   ]
  },
  {
   "cell_type": "code",
   "execution_count": null,
   "metadata": {},
   "outputs": [],
   "source": []
  },
  {
   "cell_type": "markdown",
   "metadata": {},
   "source": [
    "## 3.2 Import necessary libraries"
   ]
  },
  {
   "cell_type": "code",
   "execution_count": 1,
   "metadata": {},
   "outputs": [
    {
     "name": "stderr",
     "output_type": "stream",
     "text": [
      "[nltk_data] Downloading package punkt to\n",
      "[nltk_data]     C:\\Users\\Usuario\\AppData\\Roaming\\nltk_data...\n",
      "[nltk_data]   Package punkt is already up-to-date!\n"
     ]
    }
   ],
   "source": [
    "import pandas as pd\n",
    "import numpy as np\n",
    "import matplotlib.pyplot as plt\n",
    "%matplotlib inline\n",
    "import seaborn as sns\n",
    "import re  # Import regular expressions library\n",
    "\n",
    "import nltk\n",
    "nltk.download('punkt')\n",
    "from nltk.corpus import stopwords\n",
    "from nltk.tokenize import word_tokenize\n",
    "\n"
   ]
  },
  {
   "cell_type": "code",
   "execution_count": null,
   "metadata": {},
   "outputs": [],
   "source": []
  },
  {
   "cell_type": "markdown",
   "metadata": {},
   "source": [
    "## 3.3 Define global variables"
   ]
  },
  {
   "cell_type": "code",
   "execution_count": null,
   "metadata": {},
   "outputs": [],
   "source": []
  },
  {
   "cell_type": "code",
   "execution_count": null,
   "metadata": {},
   "outputs": [],
   "source": []
  },
  {
   "cell_type": "markdown",
   "metadata": {},
   "source": [
    "## 3.4 Functions"
   ]
  },
  {
   "cell_type": "code",
   "execution_count": 2,
   "metadata": {},
   "outputs": [],
   "source": [
    "def plot_categorical_proportions(df):\n",
    "    \"\"\"\n",
    "    Plots bar charts for each categorical variable in a DataFrame, showing the proportion of each category,\n",
    "    ordered by proportion in descending order. Each bar is labeled with its percentage value.\n",
    "\n",
    "    Inputs:\n",
    "    df (pd.DataFrame): The DataFrame to analyze.\n",
    "\n",
    "    Outputs:\n",
    "    None\n",
    "\n",
    "    Description:\n",
    "    This function identifies categorical variables, calculates the proportion of each category, sorts them,\n",
    "    and plots a bar chart for each categorical variable. Labels on the bars display the percentage proportion of each category,\n",
    "    excluding the 'tweet_text' column.\n",
    "    \"\"\"\n",
    "    # Excluding 'tweet_text' column\n",
    "    df = df.drop(columns=['tweet_text'])\n",
    "    \n",
    "    for col in df.columns:\n",
    "        # Calculating proportions\n",
    "        value_counts = df[col].value_counts(normalize=True).sort_values(ascending=False)\n",
    "        percentages = value_counts * 100  # Convert proportions to percentages\n",
    "        \n",
    "        # Plotting\n",
    "        plt.figure(figsize=(10, 6))\n",
    "        ax = percentages.plot(kind='bar')\n",
    "        ax.set_title(f'Proportion of Categories in {col}')\n",
    "        ax.set_ylabel('Percentage')\n",
    "        \n",
    "        # Adding percentage labels on the bars\n",
    "        for p in ax.patches:\n",
    "            ax.annotate(f'{p.get_height():.2f}%', (p.get_x() + p.get_width() / 2., p.get_height()),\n",
    "                        ha='center', va='center', xytext=(0, 10), textcoords='offset points')\n",
    "\n",
    "        plt.show()"
   ]
  },
  {
   "cell_type": "code",
   "execution_count": 3,
   "metadata": {},
   "outputs": [],
   "source": [
    "def plot_grouped_charts(df):\n",
    "    \"\"\"\n",
    "    Creates combined plots for each column in the DataFrame based on their data type, grouped by the 'is_there_an_emotion_directed_at_a_brand_or_product' column.\n",
    "    For numeric columns, histograms for all statuses are combined in one plot, and boxplots for all statuses are combined in another.\n",
    "    For categorical columns, grouped bar charts are created.\n",
    "    \n",
    "    Args:\n",
    "        df (pd.DataFrame): The DataFrame containing the data.\n",
    "    \"\"\"\n",
    "    status_col = 'is_there_an_emotion_directed_at_a_brand_or_product'\n",
    "    unique_statuses = df[status_col].unique()\n",
    "    colors = plt.get_cmap('tab10')  # Fetches a colormap with distinct colors\n",
    "\n",
    "    for col in df.columns:\n",
    "        if col not in [status_col, 'tweet_text']:\n",
    "            if df[col].dtype in ['int64', 'float64']:  # Numeric Columns\n",
    "                plt.figure(figsize=(12, 6))\n",
    "                \n",
    "                # Histogram for all statuses\n",
    "                for i, status in enumerate(unique_statuses):\n",
    "                    sns.histplot(df[df[status_col] == status][col], kde=True, element='step', \n",
    "                                 stat='density', label=str(status), color=colors(i))\n",
    "                \n",
    "                plt.title(f'Combined Histogram of {col} by {status_col}')\n",
    "                plt.legend(title=status_col)\n",
    "                plt.show()\n",
    "                \n",
    "                # Boxplot for all statuses\n",
    "                plt.figure(figsize=(12, 6))\n",
    "                sns.boxplot(x=status_col, y=col, data=df, palette='tab10')\n",
    "                plt.title(f'Combined Boxplot of {col} by {status_col}')\n",
    "                plt.show()\n",
    "            \n",
    "            elif df[col].dtype == 'object':  # Categorical Columns\n",
    "                plt.figure(figsize=(10, 6))\n",
    "                sns.countplot(data=df, x=status_col, hue=col)\n",
    "                plt.title(f'Grouped Bar Chart of {status_col} by {col}')\n",
    "                plt.ylabel('Count')\n",
    "                plt.xlabel(status_col)\n",
    "                plt.legend(title=col, loc='upper right')\n",
    "                plt.xticks(rotation=45)\n",
    "                plt.show()\n"
   ]
  },
  {
   "cell_type": "code",
   "execution_count": 4,
   "metadata": {},
   "outputs": [
    {
     "name": "stderr",
     "output_type": "stream",
     "text": [
      "<>:55: SyntaxWarning: \"is not\" with a literal. Did you mean \"!=\"?\n",
      "<>:55: SyntaxWarning: \"is not\" with a literal. Did you mean \"!=\"?\n",
      "<ipython-input-4-86f6436174b5>:55: SyntaxWarning: \"is not\" with a literal. Did you mean \"!=\"?\n",
      "  t = [w for w in t if w is not 'app']\n"
     ]
    }
   ],
   "source": [
    "def txt_clean(txt, lem):\n",
    "    '''\n",
    "    Description\n",
    "    - A method we use to clean every inputed string and prepare it for model processing\n",
    "    \n",
    "    Inputs:\n",
    "    - Takes in a string and returns a cleaned up version of it.\n",
    "    - Takes in a  boolean variable to determine whether or not the lemmatizing function will be used.\n",
    "    \n",
    "    Steps:\n",
    "    1. Split the tweet into tokens\n",
    "    2. Convert all capitalized letters into lower-case\n",
    "    3. Remove punctuation\n",
    "    4. Remove twitter jargon such as @ mentions\n",
    "    5. Remove leftover numbers\n",
    "    6. Remove words with accents\n",
    "    7. Remove stop words\n",
    "    8. Replace instances of the target in the text with 'product_target'\n",
    "    9. Remove empty strings\n",
    "    10. Lemmatize the words\n",
    "    11. Rejoin all the tokens into one string\n",
    "    \n",
    "    Outputs:\n",
    "    - A cleaned up string of words ready for model processing.\n",
    "    '''\n",
    "    sw = stopwords.words('english')\n",
    "    sw.extend(['link', 'rt', 'get'])\n",
    "    punctuation = '!\"$%&\\'()*+,-./:;<=>?[\\\\]^_`{|}~“!#'\n",
    "    no_accents_re = re.compile('^[a-z]+$')\n",
    "    accents = ['á', 'â', 'ã', 'à', 'å', 'ª', 'ç', 'è', '¼', '¾', 'î', 'ï', 'ì', 'ó', 'ö', 'ð', 'ü', 'ù', 'û', 'ý']\n",
    "    twitter_re = re.compile('[@][a-zA-Z]*')\n",
    "    num_re = re.compile('^\\d+$')\n",
    "    \n",
    "    # splitting the text up into words\n",
    "    if isinstance(txt, list):\n",
    "        t = txt[0].split(' ')\n",
    "    else:\n",
    "        t = txt.split(' ')\n",
    "    # turning the words lowercase\n",
    "    t = [w.lower() for w in t]\n",
    "    # removing punctuation\n",
    "    t = [w.translate(w.maketrans('','', punctuation)) for w in t]\n",
    "    # removing @'s which are twitter jargon\n",
    "    t = [w for w in t if not twitter_re.match(w)]\n",
    "    # removing leftover numbers\n",
    "    t = [w for w in t if not num_re.match(w)]\n",
    "    # removing words with accents\n",
    "    t = [w for w in t if no_accents_re.match(w)]\n",
    "    # removing stop words and more twitter jargon\n",
    "    t = [w for w in t if w not in sw]\n",
    "    # change targets in string to 'product_target' if a target exists\n",
    "    if isinstance(txt, list):\n",
    "        t = ['product_target' if w in product_target(txt[1]) else w for w in t]\n",
    "        if txt[1].lower() in ['android app', 'ipad or iphone app']:\n",
    "            t = [w for w in t if w is not 'app']\n",
    "    # removing empty strings\n",
    "    t = [w for w in t if w]\n",
    "    # word lemmatizing\n",
    "    if lem: \n",
    "        lemm = WordNetLemmatizer()\n",
    "        t = pos_tag(t)\n",
    "        t = [(w[0], get_wordnet_pos(w[1])) for w in t]\n",
    "        t = [lemm.lemmatize(w[0], w[1]) for w in t]\n",
    "    # joining all the strings together into one\n",
    "    return ' '.join(t)"
   ]
  },
  {
   "cell_type": "code",
   "execution_count": 5,
   "metadata": {},
   "outputs": [],
   "source": [
    "# Define the function to identify if the tweet is about a Google or Apple product\n",
    "def identify_product(tweet_text):\n",
    "    \"\"\"\n",
    "    Identify if the tweet is about a Google or Apple product.\n",
    "    \n",
    "    Parameters:\n",
    "    tweet_text (str): The text of the tweet.\n",
    "    \n",
    "    Returns:\n",
    "    str: 'Google' if the tweet mentions a Google product, 'Apple' if the tweet mentions an Apple product,\n",
    "         'Both' if the tweet mentions both, 'Unknown' if it mentions neither.\n",
    "    \"\"\"\n",
    "    google_keywords = ['google', 'pixel', 'pixels', 'nexus', 'nexuses', 'android', 'androids', \n",
    "                       'chromebook', 'chromebooks', 'nest', 'nests', 'stadia', 'stadias']\n",
    "    apple_keywords = ['apple', 'apples', 'iphone', 'iphones', 'ipad', 'ipads', 'macbook', \n",
    "                      'macbooks', 'imac', 'imacs', 'watch', 'watches', 'airpods', \n",
    "                      'appstore', 'ios', 'itunes']\n",
    "    \n",
    "    # Ensure tweet_text is a string\n",
    "    if not isinstance(tweet_text, str):\n",
    "        return 'Unknown'\n",
    "    \n",
    "    # Replace \"app store\" with \"appstore\" before tokenization\n",
    "    tweet_text = tweet_text.replace(\"app store\", \"appstore\")\n",
    "    \n",
    "    # Remove all numbers from the tweet text\n",
    "    tweet_text = re.sub(r'\\d+', '', tweet_text)\n",
    "    \n",
    "    # List of additional strange characters to remove\n",
    "    strange_chars = '!\"$%&\\'()*+,-./:;<=>?[\\\\]^_`{|}~“!#Ûª'\n",
    "    \n",
    "    # Text cleaning function for tokenization and preparation\n",
    "    def txt_clean(txt):\n",
    "        sw = stopwords.words('english')\n",
    "        sw.extend(['link', 'rt', 'get'])\n",
    "        no_accents_re = re.compile('^[a-z]+$')\n",
    "        twitter_re = re.compile('[@][a-zA-Z]*')\n",
    "        \n",
    "        # Replace punctuation and strange characters with spaces\n",
    "        txt = txt.translate(str.maketrans(strange_chars, ' ' * len(strange_chars)))\n",
    "        \n",
    "        # Tokenize the text\n",
    "        tokens = word_tokenize(txt)\n",
    "        \n",
    "        # Convert to lowercase\n",
    "        tokens = [w.lower() for w in tokens]\n",
    "        # Remove @ mentions\n",
    "        tokens = [w for w in tokens if not twitter_re.match(w)]\n",
    "        # Remove words with accents\n",
    "        tokens = [w for w in tokens if no_accents_re.match(w)]\n",
    "        # Remove stopwords\n",
    "        tokens = [w for w in tokens if w not in sw]\n",
    "        # Remove empty strings\n",
    "        tokens = [w for w in tokens if w]\n",
    "        \n",
    "        return tokens\n",
    "    \n",
    "    # Clean the text and obtain tokens\n",
    "    tokens = txt_clean(tweet_text)\n",
    "    \n",
    "    # Check if any keyword exists as a substring within the tokens\n",
    "    google_mentioned = any(any(keyword in token for keyword in google_keywords) for token in tokens)\n",
    "    apple_mentioned = any(any(keyword in token for keyword in apple_keywords) for token in tokens)\n",
    "    \n",
    "    if google_mentioned and apple_mentioned:\n",
    "        return 'Both'\n",
    "    elif google_mentioned:\n",
    "        return 'Google'\n",
    "    elif apple_mentioned:\n",
    "        return 'Apple'\n",
    "    else:\n",
    "        return 'Unknown'"
   ]
  },
  {
   "cell_type": "code",
   "execution_count": 25,
   "metadata": {},
   "outputs": [],
   "source": [
    "def plot_emotion_distribution(df, product_column='product_mention', emotion_column='emotion_type'):\n",
    "    \"\"\"\n",
    "    Plots a bar chart showing the distribution of emotion types by product mention,\n",
    "    with annotations displaying the counts and percentages.\n",
    "\n",
    "    Parameters:\n",
    "    df (pandas.DataFrame): The DataFrame containing the data.\n",
    "    product_column (str): The name of the column that contains product mentions. Default is 'product_mention'.\n",
    "    emotion_column (str): The name of the column that contains emotion types. Default is 'emotion_type'.\n",
    "    \"\"\"\n",
    "    # Calculate the counts and normalize to get percentages\n",
    "    counts = df.groupby([product_column, emotion_column]).size().reset_index(name='counts')\n",
    "    total_counts = df[product_column].value_counts().reset_index()\n",
    "    total_counts.columns = [product_column, 'total']\n",
    "\n",
    "    # Merge counts with totals to calculate percentages\n",
    "    counts = counts.merge(total_counts, on=product_column)\n",
    "    counts['percentage'] = (counts['counts'] / counts['total']) * 100\n",
    "\n",
    "    # Plotting\n",
    "    plt.figure(figsize=(10, 6))\n",
    "    ax = sns.barplot(data=counts, x=product_column, y='percentage', hue=emotion_column)\n",
    "\n",
    "    # Annotate each bar with the corresponding count and percentage\n",
    "    for p in ax.patches:\n",
    "        height = p.get_height()\n",
    "        ax.annotate(f'{int(height)} ({height:.1f}%)', \n",
    "                    xy=(p.get_x() + p.get_width() / 2, height), \n",
    "                    xytext=(0, 5),  # Offset label position above the bar\n",
    "                    textcoords='offset points',\n",
    "                    ha='center', va='center')\n",
    "    \n",
    "    plt.title('Distribution of Emotion Types by Product Mention')\n",
    "    plt.ylabel('Percentage')\n",
    "    plt.xlabel('Product Mention')\n",
    "    plt.xticks(rotation=45)\n",
    "    plt.legend(title=emotion_column)\n",
    "    plt.show()\n"
   ]
  },
  {
   "cell_type": "code",
   "execution_count": 35,
   "metadata": {},
   "outputs": [],
   "source": [
    "def get_contingency_table_with_percentage_sign(df, product_column='product_mention', emotion_column='emotion_type'):\n",
    "    \"\"\"\n",
    "    Generates a contingency table for the given DataFrame based on product mentions and emotion types,\n",
    "    showing the proportions as percentages with a percentage sign, rounded to 2 decimal places.\n",
    "\n",
    "    Parameters:\n",
    "    df (pandas.DataFrame): The DataFrame containing the data.\n",
    "    product_column (str): The name of the column that contains product mentions. Default is 'product_mention'.\n",
    "    emotion_column (str): The name of the column that contains emotion types. Default is 'emotion_type'.\n",
    "\n",
    "    Returns:\n",
    "    pd.DataFrame: A contingency table with proportions (as percentages) of emotion types for each product mention.\n",
    "    \"\"\"\n",
    "    # Create a contingency table with counts\n",
    "    contingency_table = pd.crosstab(df[product_column], df[emotion_column])\n",
    "\n",
    "    # Convert counts to proportions by dividing each cell by the row sum and multiply by 100 to get percentages\n",
    "    contingency_table_percentage = contingency_table.div(contingency_table.sum(axis=1), axis=0) * 100\n",
    "\n",
    "    # Round the percentages to 2 decimal places and add the percentage sign\n",
    "    contingency_table_percentage = contingency_table_percentage.round(2).astype(str) + '%'\n",
    "\n",
    "    return contingency_table_percentage"
   ]
  },
  {
   "cell_type": "markdown",
   "metadata": {},
   "source": [
    "## 3.5 Code"
   ]
  },
  {
   "cell_type": "markdown",
   "metadata": {},
   "source": [
    "### 3.5.1 Exploratory Analysis"
   ]
  },
  {
   "attachments": {
    "imagen.png": {
     "image/png": "[encoded data removed]"
    }
   },
   "cell_type": "markdown",
   "metadata": {},
   "source": [
    "![imagen.png](attachment:imagen.png)"
   ]
  },
  {
   "cell_type": "markdown",
   "metadata": {},
   "source": [
    "Ver el dataframe, ver el shape, ver el describe (para ver las estadisticas de cada feature)"
   ]
  },
  {
   "cell_type": "markdown",
   "metadata": {},
   "source": [
    "#### 3.5.1.1 Looking at the dataset"
   ]
  },
  {
   "cell_type": "code",
   "execution_count": 6,
   "metadata": {},
   "outputs": [
    {
     "data": {
      "text/html": [
       "<div>\n",
       "<style scoped>\n",
       "    .dataframe tbody tr th:only-of-type {\n",
       "        vertical-align: middle;\n",
       "    }\n",
       "\n",
       "    .dataframe tbody tr th {\n",
       "        vertical-align: top;\n",
       "    }\n",
       "\n",
       "    .dataframe thead th {\n",
       "        text-align: right;\n",
       "    }\n",
       "</style>\n",
       "<table border=\"1\" class=\"dataframe\">\n",
       "  <thead>\n",
       "    <tr style=\"text-align: right;\">\n",
       "      <th></th>\n",
       "      <th>tweet_text</th>\n",
       "      <th>emotion_in_tweet_is_directed_at</th>\n",
       "      <th>is_there_an_emotion_directed_at_a_brand_or_product</th>\n",
       "    </tr>\n",
       "  </thead>\n",
       "  <tbody>\n",
       "    <tr>\n",
       "      <th>0</th>\n",
       "      <td>.@wesley83 I have a 3G iPhone. After 3 hrs twe...</td>\n",
       "      <td>iPhone</td>\n",
       "      <td>Negative emotion</td>\n",
       "    </tr>\n",
       "    <tr>\n",
       "      <th>1</th>\n",
       "      <td>@jessedee Know about @fludapp ? Awesome iPad/i...</td>\n",
       "      <td>iPad or iPhone App</td>\n",
       "      <td>Positive emotion</td>\n",
       "    </tr>\n",
       "    <tr>\n",
       "      <th>2</th>\n",
       "      <td>@swonderlin Can not wait for #iPad 2 also. The...</td>\n",
       "      <td>iPad</td>\n",
       "      <td>Positive emotion</td>\n",
       "    </tr>\n",
       "    <tr>\n",
       "      <th>3</th>\n",
       "      <td>@sxsw I hope this year's festival isn't as cra...</td>\n",
       "      <td>iPad or iPhone App</td>\n",
       "      <td>Negative emotion</td>\n",
       "    </tr>\n",
       "    <tr>\n",
       "      <th>4</th>\n",
       "      <td>@sxtxstate great stuff on Fri #SXSW: Marissa M...</td>\n",
       "      <td>Google</td>\n",
       "      <td>Positive emotion</td>\n",
       "    </tr>\n",
       "  </tbody>\n",
       "</table>\n",
       "</div>"
      ],
      "text/plain": [
       "                                          tweet_text  \\\n",
       "0  .@wesley83 I have a 3G iPhone. After 3 hrs twe...   \n",
       "1  @jessedee Know about @fludapp ? Awesome iPad/i...   \n",
       "2  @swonderlin Can not wait for #iPad 2 also. The...   \n",
       "3  @sxsw I hope this year's festival isn't as cra...   \n",
       "4  @sxtxstate great stuff on Fri #SXSW: Marissa M...   \n",
       "\n",
       "  emotion_in_tweet_is_directed_at  \\\n",
       "0                          iPhone   \n",
       "1              iPad or iPhone App   \n",
       "2                            iPad   \n",
       "3              iPad or iPhone App   \n",
       "4                          Google   \n",
       "\n",
       "  is_there_an_emotion_directed_at_a_brand_or_product  \n",
       "0                                   Negative emotion  \n",
       "1                                   Positive emotion  \n",
       "2                                   Positive emotion  \n",
       "3                                   Negative emotion  \n",
       "4                                   Positive emotion  "
      ]
     },
     "execution_count": 6,
     "metadata": {},
     "output_type": "execute_result"
    }
   ],
   "source": [
    "df_train = pd.read_csv('judge-1377884607_tweet_product_company.csv', encoding='ISO-8859-1')\n",
    "df_train.head()"
   ]
  },
  {
   "cell_type": "code",
   "execution_count": 7,
   "metadata": {},
   "outputs": [
    {
     "data": {
      "text/plain": [
       "(9093, 3)"
      ]
     },
     "execution_count": 7,
     "metadata": {},
     "output_type": "execute_result"
    }
   ],
   "source": [
    "df_train.shape"
   ]
  },
  {
   "cell_type": "markdown",
   "metadata": {},
   "source": [
    "#### 3.5.1.2 Looking at the data types"
   ]
  },
  {
   "cell_type": "code",
   "execution_count": 8,
   "metadata": {},
   "outputs": [
    {
     "data": {
      "text/plain": [
       "tweet_text                                            object\n",
       "emotion_in_tweet_is_directed_at                       object\n",
       "is_there_an_emotion_directed_at_a_brand_or_product    object\n",
       "dtype: object"
      ]
     },
     "execution_count": 8,
     "metadata": {},
     "output_type": "execute_result"
    }
   ],
   "source": [
    "# Let's start by having a look at the type of each column\n",
    "df_train.dtypes"
   ]
  },
  {
   "cell_type": "markdown",
   "metadata": {},
   "source": [
    "#### 3.5.1.3 Null values"
   ]
  },
  {
   "cell_type": "code",
   "execution_count": 9,
   "metadata": {},
   "outputs": [
    {
     "data": {
      "text/plain": [
       "tweet_text                                             0.010997\n",
       "emotion_in_tweet_is_directed_at                       63.807324\n",
       "is_there_an_emotion_directed_at_a_brand_or_product     0.000000\n",
       "dtype: float64"
      ]
     },
     "execution_count": 9,
     "metadata": {},
     "output_type": "execute_result"
    }
   ],
   "source": [
    "# Let's see how the proportion of null values\n",
    "(df_train.isna().sum()/len(df_train))*100"
   ]
  },
  {
   "cell_type": "markdown",
   "metadata": {},
   "source": [
    "### 3.5.2 Descriptive Analysis"
   ]
  },
  {
   "cell_type": "markdown",
   "metadata": {},
   "source": [
    "All the columns from our dataset are categorical"
   ]
  },
  {
   "cell_type": "markdown",
   "metadata": {},
   "source": [
    "#### 3.5.2.1 Univaried Analysis"
   ]
  },
  {
   "cell_type": "markdown",
   "metadata": {},
   "source": [
    "Let's see the Univaried results of the initial dataset without any changes"
   ]
  },
  {
   "cell_type": "code",
   "execution_count": 10,
   "metadata": {
    "scrolled": false
   },
   "outputs": [
    {
     "data": {
      "image/png": "[encoded data removed]",
      "text/plain": [
       "<Figure size 720x432 with 1 Axes>"
      ]
     },
     "metadata": {
      "needs_background": "light"
     },
     "output_type": "display_data"
    },
    {
     "data": {
      "image/png": "[encoded data removed]",
      "text/plain": [
       "<Figure size 720x432 with 1 Axes>"
      ]
     },
     "metadata": {
      "needs_background": "light"
     },
     "output_type": "display_data"
    }
   ],
   "source": [
    "plot_categorical_proportions(df_train)"
   ]
  },
  {
   "cell_type": "markdown",
   "metadata": {},
   "source": [
    "As we can see in the column emotion_in_tweet_is_directed_at, most of the tweets are about iPad or Apple devices. However, there are labels marked as different but that are actually talking about the same category. For example, Android and Android App. "
   ]
  },
  {
   "cell_type": "markdown",
   "metadata": {},
   "source": [
    "Regarding the is_there_an_emotion_directed_at_a_brand_or_product variable, we can see that only 39.02% of the tweets have actually either a positive or negative emotion. "
   ]
  },
  {
   "cell_type": "markdown",
   "metadata": {},
   "source": [
    "Considering the miss classification in the column emotion_in_tweet_is_directed_at, let's start by looking at the tweets related to the null values of that column."
   ]
  },
  {
   "cell_type": "code",
   "execution_count": 11,
   "metadata": {},
   "outputs": [
    {
     "data": {
      "text/plain": [
       "5       @teachntech00 New iPad Apps For #SpeechTherapy...\n",
       "6                                                     NaN\n",
       "16      Holler Gram for iPad on the iTunes App Store -...\n",
       "32      Attn: All  #SXSW frineds, @mention Register fo...\n",
       "33          Anyone at  #sxsw want to sell their old iPad?\n",
       "                              ...                        \n",
       "9087    @mention Yup, but I don't have a third app yet...\n",
       "9089    Wave, buzz... RT @mention We interrupt your re...\n",
       "9090    Google's Zeiger, a physician never reported po...\n",
       "9091    Some Verizon iPhone customers complained their...\n",
       "9092    Ï¡Ïàü_ÊÎÒ£Áââ_£â_ÛâRT @...\n",
       "Name: tweet_text, Length: 5802, dtype: object"
      ]
     },
     "execution_count": 11,
     "metadata": {},
     "output_type": "execute_result"
    }
   ],
   "source": [
    "# Filter rows where the column 'emotion_in_tweet_is_directed_at' is null\n",
    "null_emotion_tweets = df_train[df_train['emotion_in_tweet_is_directed_at'].isnull()]\n",
    "\n",
    "# Display the first 5 records of the 'tweet_text' column where 'emotion_in_tweet_is_directed_at' is null\n",
    "null_emotion_tweets['tweet_text']"
   ]
  },
  {
   "cell_type": "markdown",
   "metadata": {},
   "source": [
    "Looking at the data, we identify that some labels regarding the device were miss classified. So based on our business problem, we decide to create a function capable of identifying, based on the tweet, which device it's talking about (ie, Google or Apple). And we create a new column with that classification"
   ]
  },
  {
   "cell_type": "code",
   "execution_count": 12,
   "metadata": {},
   "outputs": [
    {
     "data": {
      "text/plain": [
       "Apple      5341\n",
       "Google     2735\n",
       "Unknown     710\n",
       "Both        307\n",
       "Name: product_mention, dtype: int64"
      ]
     },
     "execution_count": 12,
     "metadata": {},
     "output_type": "execute_result"
    }
   ],
   "source": [
    "# Apply the function to the DataFrame and create a new column with the results\n",
    "df_train['product_mention'] = df_train['tweet_text'].apply(identify_product)\n",
    "\n",
    "df_train['product_mention'].value_counts()"
   ]
  },
  {
   "cell_type": "markdown",
   "metadata": {},
   "source": [
    "As we defined in our business problem, we are interested in identifying the differences in terms of the sentiments between Google and Apple devices. For that reason, we will filter our dataset to just have tweets that talk specifically of each branch individually. "
   ]
  },
  {
   "cell_type": "code",
   "execution_count": 13,
   "metadata": {},
   "outputs": [],
   "source": [
    "df_train = df_train[(df_train['product_mention']=='Apple') | (df_train['product_mention']=='Google')]\n",
    "\n",
    "# We will also now drop the column emotion_in_tweet_is_directed_at\n",
    "df_train = df_train.drop('emotion_in_tweet_is_directed_at', axis=1)"
   ]
  },
  {
   "cell_type": "markdown",
   "metadata": {},
   "source": [
    "We are going to get a sample of the data just to verify that the sentiments labels are correct. "
   ]
  },
  {
   "cell_type": "code",
   "execution_count": 14,
   "metadata": {},
   "outputs": [
    {
     "data": {
      "text/html": [
       "<div>\n",
       "<style scoped>\n",
       "    .dataframe tbody tr th:only-of-type {\n",
       "        vertical-align: middle;\n",
       "    }\n",
       "\n",
       "    .dataframe tbody tr th {\n",
       "        vertical-align: top;\n",
       "    }\n",
       "\n",
       "    .dataframe thead th {\n",
       "        text-align: right;\n",
       "    }\n",
       "</style>\n",
       "<table border=\"1\" class=\"dataframe\">\n",
       "  <thead>\n",
       "    <tr style=\"text-align: right;\">\n",
       "      <th></th>\n",
       "      <th>tweet_text</th>\n",
       "      <th>is_there_an_emotion_directed_at_a_brand_or_product</th>\n",
       "      <th>product_mention</th>\n",
       "    </tr>\n",
       "  </thead>\n",
       "  <tbody>\n",
       "    <tr>\n",
       "      <th>5455</th>\n",
       "      <td>RT @mention Apple Pop Up Store for #SXSW, Why ...</td>\n",
       "      <td>Positive emotion</td>\n",
       "      <td>Apple</td>\n",
       "    </tr>\n",
       "    <tr>\n",
       "      <th>4473</th>\n",
       "      <td>No, I didn't get an iPad 2 :( No, I'm not at #...</td>\n",
       "      <td>Positive emotion</td>\n",
       "      <td>Apple</td>\n",
       "    </tr>\n",
       "    <tr>\n",
       "      <th>3808</th>\n",
       "      <td>ZOMG its iPad 2 :p RT @mention Look everyone! ...</td>\n",
       "      <td>Positive emotion</td>\n",
       "      <td>Apple</td>\n",
       "    </tr>\n",
       "    <tr>\n",
       "      <th>4646</th>\n",
       "      <td>@mention Nice move on Apple #SXSW will be cent...</td>\n",
       "      <td>Positive emotion</td>\n",
       "      <td>Apple</td>\n",
       "    </tr>\n",
       "    <tr>\n",
       "      <th>8341</th>\n",
       "      <td>@mention talk about #sxsw and iPad is acceptab...</td>\n",
       "      <td>Positive emotion</td>\n",
       "      <td>Apple</td>\n",
       "    </tr>\n",
       "    <tr>\n",
       "      <th>...</th>\n",
       "      <td>...</td>\n",
       "      <td>...</td>\n",
       "      <td>...</td>\n",
       "    </tr>\n",
       "    <tr>\n",
       "      <th>609</th>\n",
       "      <td>#smtravel hasn't heard - Google plans to launc...</td>\n",
       "      <td>Positive emotion</td>\n",
       "      <td>Google</td>\n",
       "    </tr>\n",
       "    <tr>\n",
       "      <th>2579</th>\n",
       "      <td>Kinda giddy about #TheIndustryParty with #Goog...</td>\n",
       "      <td>Positive emotion</td>\n",
       "      <td>Google</td>\n",
       "    </tr>\n",
       "    <tr>\n",
       "      <th>8273</th>\n",
       "      <td>Google Art Project - like street view, except ...</td>\n",
       "      <td>Positive emotion</td>\n",
       "      <td>Google</td>\n",
       "    </tr>\n",
       "    <tr>\n",
       "      <th>3947</th>\n",
       "      <td>Just met Jared at the Android meetup #sxsw. Bi...</td>\n",
       "      <td>Positive emotion</td>\n",
       "      <td>Google</td>\n",
       "    </tr>\n",
       "    <tr>\n",
       "      <th>7717</th>\n",
       "      <td>Learned from sponsored #sxsw software: 1) Aust...</td>\n",
       "      <td>Positive emotion</td>\n",
       "      <td>Google</td>\n",
       "    </tr>\n",
       "  </tbody>\n",
       "</table>\n",
       "<p>200 rows × 3 columns</p>\n",
       "</div>"
      ],
      "text/plain": [
       "                                             tweet_text  \\\n",
       "5455  RT @mention Apple Pop Up Store for #SXSW, Why ...   \n",
       "4473  No, I didn't get an iPad 2 :( No, I'm not at #...   \n",
       "3808  ZOMG its iPad 2 :p RT @mention Look everyone! ...   \n",
       "4646  @mention Nice move on Apple #SXSW will be cent...   \n",
       "8341  @mention talk about #sxsw and iPad is acceptab...   \n",
       "...                                                 ...   \n",
       "609   #smtravel hasn't heard - Google plans to launc...   \n",
       "2579  Kinda giddy about #TheIndustryParty with #Goog...   \n",
       "8273  Google Art Project - like street view, except ...   \n",
       "3947  Just met Jared at the Android meetup #sxsw. Bi...   \n",
       "7717  Learned from sponsored #sxsw software: 1) Aust...   \n",
       "\n",
       "     is_there_an_emotion_directed_at_a_brand_or_product product_mention  \n",
       "5455                                   Positive emotion           Apple  \n",
       "4473                                   Positive emotion           Apple  \n",
       "3808                                   Positive emotion           Apple  \n",
       "4646                                   Positive emotion           Apple  \n",
       "8341                                   Positive emotion           Apple  \n",
       "...                                                 ...             ...  \n",
       "609                                    Positive emotion          Google  \n",
       "2579                                   Positive emotion          Google  \n",
       "8273                                   Positive emotion          Google  \n",
       "3947                                   Positive emotion          Google  \n",
       "7717                                   Positive emotion          Google  \n",
       "\n",
       "[200 rows x 3 columns]"
      ]
     },
     "execution_count": 14,
     "metadata": {},
     "output_type": "execute_result"
    }
   ],
   "source": [
    "# Filter the records for Apple and Google with emotions\n",
    "apple_tweets = df_train[(df_train['product_mention'] == 'Apple') & \n",
    "                        (df_train['is_there_an_emotion_directed_at_a_brand_or_product'].isin(['Positive emotion', 'Negative emotion']))]\n",
    "\n",
    "google_tweets = df_train[(df_train['product_mention'] == 'Google') & \n",
    "                         (df_train['is_there_an_emotion_directed_at_a_brand_or_product'].isin(['Positive emotion', 'Negative emotion']))]\n",
    "\n",
    "# Get a random sample of 100 records for each product with emotions\n",
    "apple_sample = apple_tweets.sample(n=100, random_state=42)\n",
    "google_sample = google_tweets.sample(n=100, random_state=42)\n",
    "\n",
    "# Combine the two samples\n",
    "combined_sample = pd.concat([apple_sample, google_sample])\n",
    "\n",
    "# Display the combined sample\n",
    "combined_sample"
   ]
  },
  {
   "cell_type": "markdown",
   "metadata": {},
   "source": [
    "After a rigorus review of each tweet, we conclude that we can trust the is_there_an_emotion_directed_at_a_brand_or_product labels in the dataset. "
   ]
  },
  {
   "cell_type": "markdown",
   "metadata": {},
   "source": [
    "Let's rename the column is_there_an_emotion_directed_at_a_brand_or_product to emotion_type"
   ]
  },
  {
   "cell_type": "code",
   "execution_count": 15,
   "metadata": {},
   "outputs": [],
   "source": [
    "df_train.rename(columns={'is_there_an_emotion_directed_at_a_brand_or_product': 'emotion_type'}, inplace=True)"
   ]
  },
  {
   "cell_type": "code",
   "execution_count": 16,
   "metadata": {},
   "outputs": [
    {
     "data": {
      "text/html": [
       "<div>\n",
       "<style scoped>\n",
       "    .dataframe tbody tr th:only-of-type {\n",
       "        vertical-align: middle;\n",
       "    }\n",
       "\n",
       "    .dataframe tbody tr th {\n",
       "        vertical-align: top;\n",
       "    }\n",
       "\n",
       "    .dataframe thead th {\n",
       "        text-align: right;\n",
       "    }\n",
       "</style>\n",
       "<table border=\"1\" class=\"dataframe\">\n",
       "  <thead>\n",
       "    <tr style=\"text-align: right;\">\n",
       "      <th></th>\n",
       "      <th>tweet_text</th>\n",
       "      <th>emotion_type</th>\n",
       "      <th>product_mention</th>\n",
       "    </tr>\n",
       "  </thead>\n",
       "  <tbody>\n",
       "    <tr>\n",
       "      <th>0</th>\n",
       "      <td>.@wesley83 I have a 3G iPhone. After 3 hrs twe...</td>\n",
       "      <td>Negative emotion</td>\n",
       "      <td>Apple</td>\n",
       "    </tr>\n",
       "    <tr>\n",
       "      <th>1</th>\n",
       "      <td>@jessedee Know about @fludapp ? Awesome iPad/i...</td>\n",
       "      <td>Positive emotion</td>\n",
       "      <td>Apple</td>\n",
       "    </tr>\n",
       "    <tr>\n",
       "      <th>2</th>\n",
       "      <td>@swonderlin Can not wait for #iPad 2 also. The...</td>\n",
       "      <td>Positive emotion</td>\n",
       "      <td>Apple</td>\n",
       "    </tr>\n",
       "    <tr>\n",
       "      <th>3</th>\n",
       "      <td>@sxsw I hope this year's festival isn't as cra...</td>\n",
       "      <td>Negative emotion</td>\n",
       "      <td>Apple</td>\n",
       "    </tr>\n",
       "    <tr>\n",
       "      <th>4</th>\n",
       "      <td>@sxtxstate great stuff on Fri #SXSW: Marissa M...</td>\n",
       "      <td>Positive emotion</td>\n",
       "      <td>Google</td>\n",
       "    </tr>\n",
       "  </tbody>\n",
       "</table>\n",
       "</div>"
      ],
      "text/plain": [
       "                                          tweet_text      emotion_type  \\\n",
       "0  .@wesley83 I have a 3G iPhone. After 3 hrs twe...  Negative emotion   \n",
       "1  @jessedee Know about @fludapp ? Awesome iPad/i...  Positive emotion   \n",
       "2  @swonderlin Can not wait for #iPad 2 also. The...  Positive emotion   \n",
       "3  @sxsw I hope this year's festival isn't as cra...  Negative emotion   \n",
       "4  @sxtxstate great stuff on Fri #SXSW: Marissa M...  Positive emotion   \n",
       "\n",
       "  product_mention  \n",
       "0           Apple  \n",
       "1           Apple  \n",
       "2           Apple  \n",
       "3           Apple  \n",
       "4          Google  "
      ]
     },
     "execution_count": 16,
     "metadata": {},
     "output_type": "execute_result"
    }
   ],
   "source": [
    "df_train.head()"
   ]
  },
  {
   "cell_type": "code",
   "execution_count": 17,
   "metadata": {},
   "outputs": [
    {
     "data": {
      "text/plain": [
       "No emotion toward brand or product    4513\n",
       "Positive emotion                      2867\n",
       "Negative emotion                       553\n",
       "I can't tell                           143\n",
       "Name: emotion_type, dtype: int64"
      ]
     },
     "execution_count": 17,
     "metadata": {},
     "output_type": "execute_result"
    }
   ],
   "source": [
    "df_train['emotion_type'].value_counts()"
   ]
  },
  {
   "cell_type": "markdown",
   "metadata": {},
   "source": [
    "Let's rename the value 'No emotion toward brand or product' for 'unknown'"
   ]
  },
  {
   "cell_type": "code",
   "execution_count": 18,
   "metadata": {},
   "outputs": [],
   "source": [
    "# Replace values in column 'emotion_type' where the value is \"No emotion toward brand or product\" with \"unknown\"\n",
    "df_train['emotion_type'] = df_train['emotion_type'].replace(\"No emotion toward brand or product\", \"unknown\")"
   ]
  },
  {
   "cell_type": "markdown",
   "metadata": {},
   "source": [
    "Now let's filter the rows to just keep the emotion_type that have an emotion label. So, we will remove labels \"I can't tell\""
   ]
  },
  {
   "cell_type": "code",
   "execution_count": 19,
   "metadata": {},
   "outputs": [
    {
     "data": {
      "text/html": [
       "<div>\n",
       "<style scoped>\n",
       "    .dataframe tbody tr th:only-of-type {\n",
       "        vertical-align: middle;\n",
       "    }\n",
       "\n",
       "    .dataframe tbody tr th {\n",
       "        vertical-align: top;\n",
       "    }\n",
       "\n",
       "    .dataframe thead th {\n",
       "        text-align: right;\n",
       "    }\n",
       "</style>\n",
       "<table border=\"1\" class=\"dataframe\">\n",
       "  <thead>\n",
       "    <tr style=\"text-align: right;\">\n",
       "      <th></th>\n",
       "      <th>tweet_text</th>\n",
       "      <th>emotion_type</th>\n",
       "      <th>product_mention</th>\n",
       "    </tr>\n",
       "  </thead>\n",
       "  <tbody>\n",
       "    <tr>\n",
       "      <th>0</th>\n",
       "      <td>.@wesley83 I have a 3G iPhone. After 3 hrs twe...</td>\n",
       "      <td>Negative emotion</td>\n",
       "      <td>Apple</td>\n",
       "    </tr>\n",
       "    <tr>\n",
       "      <th>1</th>\n",
       "      <td>@jessedee Know about @fludapp ? Awesome iPad/i...</td>\n",
       "      <td>Positive emotion</td>\n",
       "      <td>Apple</td>\n",
       "    </tr>\n",
       "    <tr>\n",
       "      <th>2</th>\n",
       "      <td>@swonderlin Can not wait for #iPad 2 also. The...</td>\n",
       "      <td>Positive emotion</td>\n",
       "      <td>Apple</td>\n",
       "    </tr>\n",
       "    <tr>\n",
       "      <th>3</th>\n",
       "      <td>@sxsw I hope this year's festival isn't as cra...</td>\n",
       "      <td>Negative emotion</td>\n",
       "      <td>Apple</td>\n",
       "    </tr>\n",
       "    <tr>\n",
       "      <th>4</th>\n",
       "      <td>@sxtxstate great stuff on Fri #SXSW: Marissa M...</td>\n",
       "      <td>Positive emotion</td>\n",
       "      <td>Google</td>\n",
       "    </tr>\n",
       "    <tr>\n",
       "      <th>...</th>\n",
       "      <td>...</td>\n",
       "      <td>...</td>\n",
       "      <td>...</td>\n",
       "    </tr>\n",
       "    <tr>\n",
       "      <th>9088</th>\n",
       "      <td>Ipad everywhere. #SXSW {link}</td>\n",
       "      <td>Positive emotion</td>\n",
       "      <td>Apple</td>\n",
       "    </tr>\n",
       "    <tr>\n",
       "      <th>9089</th>\n",
       "      <td>Wave, buzz... RT @mention We interrupt your re...</td>\n",
       "      <td>unknown</td>\n",
       "      <td>Google</td>\n",
       "    </tr>\n",
       "    <tr>\n",
       "      <th>9090</th>\n",
       "      <td>Google's Zeiger, a physician never reported po...</td>\n",
       "      <td>unknown</td>\n",
       "      <td>Google</td>\n",
       "    </tr>\n",
       "    <tr>\n",
       "      <th>9091</th>\n",
       "      <td>Some Verizon iPhone customers complained their...</td>\n",
       "      <td>unknown</td>\n",
       "      <td>Apple</td>\n",
       "    </tr>\n",
       "    <tr>\n",
       "      <th>9092</th>\n",
       "      <td>Ï¡Ïàü_ÊÎÒ£Áââ_£â_ÛâRT @...</td>\n",
       "      <td>unknown</td>\n",
       "      <td>Google</td>\n",
       "    </tr>\n",
       "  </tbody>\n",
       "</table>\n",
       "<p>7933 rows × 3 columns</p>\n",
       "</div>"
      ],
      "text/plain": [
       "                                             tweet_text      emotion_type  \\\n",
       "0     .@wesley83 I have a 3G iPhone. After 3 hrs twe...  Negative emotion   \n",
       "1     @jessedee Know about @fludapp ? Awesome iPad/i...  Positive emotion   \n",
       "2     @swonderlin Can not wait for #iPad 2 also. The...  Positive emotion   \n",
       "3     @sxsw I hope this year's festival isn't as cra...  Negative emotion   \n",
       "4     @sxtxstate great stuff on Fri #SXSW: Marissa M...  Positive emotion   \n",
       "...                                                 ...               ...   \n",
       "9088                      Ipad everywhere. #SXSW {link}  Positive emotion   \n",
       "9089  Wave, buzz... RT @mention We interrupt your re...           unknown   \n",
       "9090  Google's Zeiger, a physician never reported po...           unknown   \n",
       "9091  Some Verizon iPhone customers complained their...           unknown   \n",
       "9092  Ï¡Ïàü_ÊÎÒ£Áââ_£â_ÛâRT @...           unknown   \n",
       "\n",
       "     product_mention  \n",
       "0              Apple  \n",
       "1              Apple  \n",
       "2              Apple  \n",
       "3              Apple  \n",
       "4             Google  \n",
       "...              ...  \n",
       "9088           Apple  \n",
       "9089          Google  \n",
       "9090          Google  \n",
       "9091           Apple  \n",
       "9092          Google  \n",
       "\n",
       "[7933 rows x 3 columns]"
      ]
     },
     "execution_count": 19,
     "metadata": {},
     "output_type": "execute_result"
    }
   ],
   "source": [
    "# Drop rows where column 'emotion_type' has the value \"I can't tell\"\n",
    "df_train = df_train[df_train['emotion_type'] != \"I can't tell\"]\n",
    "\n",
    "df_train"
   ]
  },
  {
   "cell_type": "markdown",
   "metadata": {},
   "source": [
    "### 3.5.2.2. Multivaried Analysis"
   ]
  },
  {
   "cell_type": "markdown",
   "metadata": {},
   "source": [
    "Let's see the distribution of the sentiments for each company"
   ]
  },
  {
   "cell_type": "markdown",
   "metadata": {},
   "source": [
    "**Bar graph**"
   ]
  },
  {
   "cell_type": "code",
   "execution_count": 26,
   "metadata": {},
   "outputs": [
    {
     "data": {
      "image/png": "[encoded data removed]",
      "text/plain": [
       "<Figure size 720x432 with 1 Axes>"
      ]
     },
     "metadata": {
      "needs_background": "light"
     },
     "output_type": "display_data"
    }
   ],
   "source": [
    "plot_emotion_distribution(df_train)"
   ]
  },
  {
   "cell_type": "markdown",
   "metadata": {},
   "source": [
    "As is observable in the image above, we don't have a problem of imbalance in our data as we usually use 3% as the threshold. "
   ]
  },
  {
   "cell_type": "markdown",
   "metadata": {},
   "source": [
    "**Contingency Tables**"
   ]
  },
  {
   "cell_type": "code",
   "execution_count": 36,
   "metadata": {},
   "outputs": [
    {
     "data": {
      "text/html": [
       "<div>\n",
       "<style scoped>\n",
       "    .dataframe tbody tr th:only-of-type {\n",
       "        vertical-align: middle;\n",
       "    }\n",
       "\n",
       "    .dataframe tbody tr th {\n",
       "        vertical-align: top;\n",
       "    }\n",
       "\n",
       "    .dataframe thead th {\n",
       "        text-align: right;\n",
       "    }\n",
       "</style>\n",
       "<table border=\"1\" class=\"dataframe\">\n",
       "  <thead>\n",
       "    <tr style=\"text-align: right;\">\n",
       "      <th>emotion_type</th>\n",
       "      <th>Negative emotion</th>\n",
       "      <th>Positive emotion</th>\n",
       "      <th>unknown</th>\n",
       "    </tr>\n",
       "    <tr>\n",
       "      <th>product_mention</th>\n",
       "      <th></th>\n",
       "      <th></th>\n",
       "      <th></th>\n",
       "    </tr>\n",
       "  </thead>\n",
       "  <tbody>\n",
       "    <tr>\n",
       "      <th>Apple</th>\n",
       "      <td>7.79%</td>\n",
       "      <td>39.51%</td>\n",
       "      <td>52.7%</td>\n",
       "    </tr>\n",
       "    <tr>\n",
       "      <th>Google</th>\n",
       "      <td>5.37%</td>\n",
       "      <td>29.55%</td>\n",
       "      <td>65.09%</td>\n",
       "    </tr>\n",
       "  </tbody>\n",
       "</table>\n",
       "</div>"
      ],
      "text/plain": [
       "emotion_type    Negative emotion Positive emotion unknown\n",
       "product_mention                                          \n",
       "Apple                      7.79%           39.51%   52.7%\n",
       "Google                     5.37%           29.55%  65.09%"
      ]
     },
     "execution_count": 36,
     "metadata": {},
     "output_type": "execute_result"
    }
   ],
   "source": [
    "contingency_table_percentage = get_contingency_table_with_percentage_sign(df_train)\n",
    "\n",
    "contingency_table_percentage"
   ]
  },
  {
   "cell_type": "markdown",
   "metadata": {},
   "source": [
    "# 6. Exporting the data"
   ]
  },
  {
   "cell_type": "code",
   "execution_count": 38,
   "metadata": {},
   "outputs": [],
   "source": [
    "# Export the DataFrame to a CSV file\n",
    "# index=False ensures that the DataFrame index is not saved as a separate column in the CSV file\n",
    "df_train.to_csv('df.csv', index=False)"
   ]
  },
  {
   "cell_type": "code",
   "execution_count": null,
   "metadata": {},
   "outputs": [],
   "source": []
  }
 ],
 "metadata": {
  "kernelspec": {
   "display_name": "Python 3.12.4",
   "language": "python",
   "name": "nombre_del_kernel"
  },
  "language_info": {
   "codemirror_mode": {
    "name": "ipython",
    "version": 3
   },
   "file_extension": ".py",
   "mimetype": "text/x-python",
   "name": "python",
   "nbconvert_exporter": "python",
   "pygments_lexer": "ipython3",
   "version": "3.8.5"
  }
 },
 "nbformat": 4,
 "nbformat_minor": 4
}
