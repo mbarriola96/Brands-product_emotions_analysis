{
 "cells": [
  {
   "cell_type": "markdown",
   "metadata": {},
   "source": [
    "# 1. Overview"
   ]
  },
  {
   "cell_type": "markdown",
   "metadata": {},
   "source": [
    "The notebook should include a summary at the beginning that briefly and accurately describes your process. The summary should be approximately 250 words -- about the size of a research paper abstract.\n",
    "\n",
    "Summary elements:\n",
    "\n",
    "  -  Business and data understanding: what kind of data are you using, and what makes it well-suited for the business problem?\n",
    "       - You do not need to include any data visualizations in your summary, but consider including relevant descriptive statistics\n",
    "  -  Data preparation: why did you choose the data preparation steps that you did, and what was the result?\n",
    "       - This should be specific to the kind of data you are working with. For example, if you are doing an NLP project, what did you decide to do with stopwords?\n",
    "       - Be sure to list the packages/libraries used to prepare the data, and why\n",
    "  -  Modeling: what modeling package(s) did you use, which model(s) within the package(s), and what tuning steps did you take?\n",
    "       - For some projects there may be only one applicable package; you should still briefly explain why this was the appropriate choice\n",
    "  -  Evaluation: how well did your final model perform?\n",
    "       - Include one or more relevant metrics\n",
    "       - Be sure to briefly describe your validation approach\n"
   ]
  },
  {
   "cell_type": "code",
   "execution_count": null,
   "metadata": {},
   "outputs": [],
   "source": []
  },
  {
   "cell_type": "markdown",
   "metadata": {},
   "source": [
    "# 2. Business Understanding"
   ]
  },
  {
   "cell_type": "code",
   "execution_count": null,
   "metadata": {},
   "outputs": [],
   "source": []
  },
  {
   "cell_type": "code",
   "execution_count": null,
   "metadata": {},
   "outputs": [],
   "source": []
  },
  {
   "cell_type": "code",
   "execution_count": null,
   "metadata": {},
   "outputs": [],
   "source": []
  },
  {
   "cell_type": "markdown",
   "metadata": {},
   "source": [
    "# 3. Data Understanding"
   ]
  },
  {
   "cell_type": "markdown",
   "metadata": {},
   "source": [
    "## 3.1 Data Description"
   ]
  },
  {
   "cell_type": "code",
   "execution_count": null,
   "metadata": {},
   "outputs": [],
   "source": []
  },
  {
   "cell_type": "markdown",
   "metadata": {},
   "source": [
    "## 3.2 Import necessary libraries"
   ]
  },
  {
   "cell_type": "code",
   "execution_count": 2,
   "metadata": {},
   "outputs": [],
   "source": [
    "import pandas as pd\n",
    "import numpy as np\n",
    "import matplotlib.pyplot as plt\n",
    "%matplotlib inline\n",
    "import seaborn as sns\n",
    "import re  # Import regular expressions library"
   ]
  },
  {
   "cell_type": "code",
   "execution_count": null,
   "metadata": {},
   "outputs": [],
   "source": []
  },
  {
   "cell_type": "markdown",
   "metadata": {},
   "source": [
    "## 3.3 Define global variables"
   ]
  },
  {
   "cell_type": "code",
   "execution_count": null,
   "metadata": {},
   "outputs": [],
   "source": []
  },
  {
   "cell_type": "code",
   "execution_count": null,
   "metadata": {},
   "outputs": [],
   "source": []
  },
  {
   "cell_type": "markdown",
   "metadata": {},
   "source": [
    "## 3.4 Functions"
   ]
  },
  {
   "cell_type": "code",
   "execution_count": 3,
   "metadata": {},
   "outputs": [],
   "source": [
    "def plot_categorical_proportions(df):\n",
    "    \"\"\"\n",
    "    Plots bar charts for each categorical variable in a DataFrame, showing the proportion of each category,\n",
    "    ordered by proportion in descending order. Each bar is labeled with its percentage value.\n",
    "\n",
    "    Inputs:\n",
    "    df (pd.DataFrame): The DataFrame to analyze.\n",
    "\n",
    "    Outputs:\n",
    "    None\n",
    "\n",
    "    Description:\n",
    "    This function identifies categorical variables, calculates the proportion of each category, sorts them,\n",
    "    and plots a bar chart for each categorical variable. Labels on the bars display the percentage proportion of each category,\n",
    "    excluding the 'tweet_text' column.\n",
    "    \"\"\"\n",
    "    # Excluding 'tweet_text' column\n",
    "    df = df.drop(columns=['tweet_text'])\n",
    "    \n",
    "    for col in df.columns:\n",
    "        # Calculating proportions\n",
    "        value_counts = df[col].value_counts(normalize=True).sort_values(ascending=False)\n",
    "        percentages = value_counts * 100  # Convert proportions to percentages\n",
    "        \n",
    "        # Plotting\n",
    "        plt.figure(figsize=(10, 6))\n",
    "        ax = percentages.plot(kind='bar')\n",
    "        ax.set_title(f'Proportion of Categories in {col}')\n",
    "        ax.set_ylabel('Percentage')\n",
    "        \n",
    "        # Adding percentage labels on the bars\n",
    "        for p in ax.patches:\n",
    "            ax.annotate(f'{p.get_height():.2f}%', (p.get_x() + p.get_width() / 2., p.get_height()),\n",
    "                        ha='center', va='center', xytext=(0, 10), textcoords='offset points')\n",
    "\n",
    "        plt.show()"
   ]
  },
  {
   "cell_type": "code",
   "execution_count": 4,
   "metadata": {},
   "outputs": [],
   "source": [
    "def plot_grouped_charts(df):\n",
    "    \"\"\"\n",
    "    Creates combined plots for each column in the DataFrame based on their data type, grouped by the 'is_there_an_emotion_directed_at_a_brand_or_product' column.\n",
    "    For numeric columns, histograms for all statuses are combined in one plot, and boxplots for all statuses are combined in another.\n",
    "    For categorical columns, grouped bar charts are created.\n",
    "    \n",
    "    Args:\n",
    "        df (pd.DataFrame): The DataFrame containing the data.\n",
    "    \"\"\"\n",
    "    status_col = 'is_there_an_emotion_directed_at_a_brand_or_product'\n",
    "    unique_statuses = df[status_col].unique()\n",
    "    colors = plt.get_cmap('tab10')  # Fetches a colormap with distinct colors\n",
    "\n",
    "    for col in df.columns:\n",
    "        if col not in [status_col, 'tweet_text']:\n",
    "            if df[col].dtype in ['int64', 'float64']:  # Numeric Columns\n",
    "                plt.figure(figsize=(12, 6))\n",
    "                \n",
    "                # Histogram for all statuses\n",
    "                for i, status in enumerate(unique_statuses):\n",
    "                    sns.histplot(df[df[status_col] == status][col], kde=True, element='step', \n",
    "                                 stat='density', label=str(status), color=colors(i))\n",
    "                \n",
    "                plt.title(f'Combined Histogram of {col} by {status_col}')\n",
    "                plt.legend(title=status_col)\n",
    "                plt.show()\n",
    "                \n",
    "                # Boxplot for all statuses\n",
    "                plt.figure(figsize=(12, 6))\n",
    "                sns.boxplot(x=status_col, y=col, data=df, palette='tab10')\n",
    "                plt.title(f'Combined Boxplot of {col} by {status_col}')\n",
    "                plt.show()\n",
    "            \n",
    "            elif df[col].dtype == 'object':  # Categorical Columns\n",
    "                plt.figure(figsize=(10, 6))\n",
    "                sns.countplot(data=df, x=status_col, hue=col)\n",
    "                plt.title(f'Grouped Bar Chart of {status_col} by {col}')\n",
    "                plt.ylabel('Count')\n",
    "                plt.xlabel(status_col)\n",
    "                plt.legend(title=col, loc='upper right')\n",
    "                plt.xticks(rotation=45)\n",
    "                plt.show()\n"
   ]
  },
  {
   "cell_type": "code",
   "execution_count": 5,
   "metadata": {},
   "outputs": [
    {
     "name": "stderr",
     "output_type": "stream",
     "text": [
      "<>:55: SyntaxWarning: \"is not\" with a literal. Did you mean \"!=\"?\n",
      "<>:55: SyntaxWarning: \"is not\" with a literal. Did you mean \"!=\"?\n",
      "<ipython-input-5-86f6436174b5>:55: SyntaxWarning: \"is not\" with a literal. Did you mean \"!=\"?\n",
      "  t = [w for w in t if w is not 'app']\n"
     ]
    }
   ],
   "source": [
    "def txt_clean(txt, lem):\n",
    "    '''\n",
    "    Description\n",
    "    - A method we use to clean every inputed string and prepare it for model processing\n",
    "    \n",
    "    Inputs:\n",
    "    - Takes in a string and returns a cleaned up version of it.\n",
    "    - Takes in a  boolean variable to determine whether or not the lemmatizing function will be used.\n",
    "    \n",
    "    Steps:\n",
    "    1. Split the tweet into tokens\n",
    "    2. Convert all capitalized letters into lower-case\n",
    "    3. Remove punctuation\n",
    "    4. Remove twitter jargon such as @ mentions\n",
    "    5. Remove leftover numbers\n",
    "    6. Remove words with accents\n",
    "    7. Remove stop words\n",
    "    8. Replace instances of the target in the text with 'product_target'\n",
    "    9. Remove empty strings\n",
    "    10. Lemmatize the words\n",
    "    11. Rejoin all the tokens into one string\n",
    "    \n",
    "    Outputs:\n",
    "    - A cleaned up string of words ready for model processing.\n",
    "    '''\n",
    "    sw = stopwords.words('english')\n",
    "    sw.extend(['link', 'rt', 'get'])\n",
    "    punctuation = '!\"$%&\\'()*+,-./:;<=>?[\\\\]^_`{|}~“!#'\n",
    "    no_accents_re = re.compile('^[a-z]+$')\n",
    "    accents = ['á', 'â', 'ã', 'à', 'å', 'ª', 'ç', 'è', '¼', '¾', 'î', 'ï', 'ì', 'ó', 'ö', 'ð', 'ü', 'ù', 'û', 'ý']\n",
    "    twitter_re = re.compile('[@][a-zA-Z]*')\n",
    "    num_re = re.compile('^\\d+$')\n",
    "    \n",
    "    # splitting the text up into words\n",
    "    if isinstance(txt, list):\n",
    "        t = txt[0].split(' ')\n",
    "    else:\n",
    "        t = txt.split(' ')\n",
    "    # turning the words lowercase\n",
    "    t = [w.lower() for w in t]\n",
    "    # removing punctuation\n",
    "    t = [w.translate(w.maketrans('','', punctuation)) for w in t]\n",
    "    # removing @'s which are twitter jargon\n",
    "    t = [w for w in t if not twitter_re.match(w)]\n",
    "    # removing leftover numbers\n",
    "    t = [w for w in t if not num_re.match(w)]\n",
    "    # removing words with accents\n",
    "    t = [w for w in t if no_accents_re.match(w)]\n",
    "    # removing stop words and more twitter jargon\n",
    "    t = [w for w in t if w not in sw]\n",
    "    # change targets in string to 'product_target' if a target exists\n",
    "    if isinstance(txt, list):\n",
    "        t = ['product_target' if w in product_target(txt[1]) else w for w in t]\n",
    "        if txt[1].lower() in ['android app', 'ipad or iphone app']:\n",
    "            t = [w for w in t if w is not 'app']\n",
    "    # removing empty strings\n",
    "    t = [w for w in t if w]\n",
    "    # word lemmatizing\n",
    "    if lem: \n",
    "        lemm = WordNetLemmatizer()\n",
    "        t = pos_tag(t)\n",
    "        t = [(w[0], get_wordnet_pos(w[1])) for w in t]\n",
    "        t = [lemm.lemmatize(w[0], w[1]) for w in t]\n",
    "    # joining all the strings together into one\n",
    "    return ' '.join(t)"
   ]
  },
  {
   "cell_type": "code",
   "execution_count": null,
   "metadata": {},
   "outputs": [],
   "source": [
    "# Define the function to check if the tweet is about a Google or Apple product\n",
    "def identify_product(tweet_text):\n",
    "    \"\"\"\n",
    "    Identify if the tweet is about a Google or Apple product.\n",
    "    \n",
    "    Parameters:\n",
    "    tweet_text (str): The text of the tweet.\n",
    "    \n",
    "    Returns:\n",
    "    str: 'Google' if the tweet mentions a Google product, 'Apple' if the tweet mentions an Apple product, \n",
    "         'Unknown' if it mentions neither.\n",
    "    \"\"\"\n",
    "    google_keywords = ['google', 'pixel', 'nexus', 'android', 'chromebook', 'nest', 'stadia']\n",
    "    apple_keywords = ['apple', 'iphone', 'ipad', 'macbook', 'imac', 'watch', 'airpods', 'ios']\n",
    "    \n",
    "    # Ensure the tweet_text is a string\n",
    "    if not isinstance(tweet_text, str):\n",
    "        return 'Unknown'\n",
    "    \n",
    "    tweet_text_lower = tweet_text.lower()\n",
    "    \n",
    "    if any(keyword in tweet_text_lower for keyword in google_keywords):\n",
    "        return 'Google'\n",
    "    elif any(keyword in tweet_text_lower for keyword in apple_keywords):\n",
    "        return 'Apple'\n",
    "    else:\n",
    "        return 'Unknown'"
   ]
  },
  {
   "cell_type": "markdown",
   "metadata": {},
   "source": [
    "## 3.5 Code"
   ]
  },
  {
   "cell_type": "markdown",
   "metadata": {},
   "source": [
    "### 3.5.1 Exploratory Analysis"
   ]
  },
  {
   "attachments": {
    "imagen.png": {
     "image/png": "[encoded data removed]"
    }
   },
   "cell_type": "markdown",
   "metadata": {},
   "source": [
    "![imagen.png](attachment:imagen.png)"
   ]
  },
  {
   "cell_type": "markdown",
   "metadata": {},
   "source": [
    "Ver el dataframe, ver el shape, ver el describe (para ver las estadisticas de cada feature)"
   ]
  },
  {
   "cell_type": "markdown",
   "metadata": {},
   "source": [
    "#### 3.5.1.1 Looking at the dataset"
   ]
  },
  {
   "cell_type": "code",
   "execution_count": 6,
   "metadata": {},
   "outputs": [
    {
     "data": {
      "text/html": [
       "<div>\n",
       "<style scoped>\n",
       "    .dataframe tbody tr th:only-of-type {\n",
       "        vertical-align: middle;\n",
       "    }\n",
       "\n",
       "    .dataframe tbody tr th {\n",
       "        vertical-align: top;\n",
       "    }\n",
       "\n",
       "    .dataframe thead th {\n",
       "        text-align: right;\n",
       "    }\n",
       "</style>\n",
       "<table border=\"1\" class=\"dataframe\">\n",
       "  <thead>\n",
       "    <tr style=\"text-align: right;\">\n",
       "      <th></th>\n",
       "      <th>tweet_text</th>\n",
       "      <th>emotion_in_tweet_is_directed_at</th>\n",
       "      <th>is_there_an_emotion_directed_at_a_brand_or_product</th>\n",
       "    </tr>\n",
       "  </thead>\n",
       "  <tbody>\n",
       "    <tr>\n",
       "      <th>0</th>\n",
       "      <td>.@wesley83 I have a 3G iPhone. After 3 hrs twe...</td>\n",
       "      <td>iPhone</td>\n",
       "      <td>Negative emotion</td>\n",
       "    </tr>\n",
       "    <tr>\n",
       "      <th>1</th>\n",
       "      <td>@jessedee Know about @fludapp ? Awesome iPad/i...</td>\n",
       "      <td>iPad or iPhone App</td>\n",
       "      <td>Positive emotion</td>\n",
       "    </tr>\n",
       "    <tr>\n",
       "      <th>2</th>\n",
       "      <td>@swonderlin Can not wait for #iPad 2 also. The...</td>\n",
       "      <td>iPad</td>\n",
       "      <td>Positive emotion</td>\n",
       "    </tr>\n",
       "    <tr>\n",
       "      <th>3</th>\n",
       "      <td>@sxsw I hope this year's festival isn't as cra...</td>\n",
       "      <td>iPad or iPhone App</td>\n",
       "      <td>Negative emotion</td>\n",
       "    </tr>\n",
       "    <tr>\n",
       "      <th>4</th>\n",
       "      <td>@sxtxstate great stuff on Fri #SXSW: Marissa M...</td>\n",
       "      <td>Google</td>\n",
       "      <td>Positive emotion</td>\n",
       "    </tr>\n",
       "  </tbody>\n",
       "</table>\n",
       "</div>"
      ],
      "text/plain": [
       "                                          tweet_text  \\\n",
       "0  .@wesley83 I have a 3G iPhone. After 3 hrs twe...   \n",
       "1  @jessedee Know about @fludapp ? Awesome iPad/i...   \n",
       "2  @swonderlin Can not wait for #iPad 2 also. The...   \n",
       "3  @sxsw I hope this year's festival isn't as cra...   \n",
       "4  @sxtxstate great stuff on Fri #SXSW: Marissa M...   \n",
       "\n",
       "  emotion_in_tweet_is_directed_at  \\\n",
       "0                          iPhone   \n",
       "1              iPad or iPhone App   \n",
       "2                            iPad   \n",
       "3              iPad or iPhone App   \n",
       "4                          Google   \n",
       "\n",
       "  is_there_an_emotion_directed_at_a_brand_or_product  \n",
       "0                                   Negative emotion  \n",
       "1                                   Positive emotion  \n",
       "2                                   Positive emotion  \n",
       "3                                   Negative emotion  \n",
       "4                                   Positive emotion  "
      ]
     },
     "execution_count": 6,
     "metadata": {},
     "output_type": "execute_result"
    }
   ],
   "source": [
    "df_train = pd.read_csv('judge-1377884607_tweet_product_company.csv', encoding='ISO-8859-1')\n",
    "df_train.head()"
   ]
  },
  {
   "cell_type": "code",
   "execution_count": 7,
   "metadata": {},
   "outputs": [
    {
     "data": {
      "text/plain": [
       "(9093, 3)"
      ]
     },
     "execution_count": 7,
     "metadata": {},
     "output_type": "execute_result"
    }
   ],
   "source": [
    "df_train.shape"
   ]
  },
  {
   "cell_type": "markdown",
   "metadata": {},
   "source": [
    "#### 3.5.1.2 Looking at the data types"
   ]
  },
  {
   "cell_type": "code",
   "execution_count": 8,
   "metadata": {},
   "outputs": [
    {
     "data": {
      "text/plain": [
       "tweet_text                                            object\n",
       "emotion_in_tweet_is_directed_at                       object\n",
       "is_there_an_emotion_directed_at_a_brand_or_product    object\n",
       "dtype: object"
      ]
     },
     "execution_count": 8,
     "metadata": {},
     "output_type": "execute_result"
    }
   ],
   "source": [
    "# Let's start by having a look at the type of each column\n",
    "df_train.dtypes"
   ]
  },
  {
   "cell_type": "markdown",
   "metadata": {},
   "source": [
    "#### 3.5.1.3 Null values"
   ]
  },
  {
   "cell_type": "code",
   "execution_count": 9,
   "metadata": {},
   "outputs": [
    {
     "data": {
      "text/plain": [
       "tweet_text                                             0.010997\n",
       "emotion_in_tweet_is_directed_at                       63.807324\n",
       "is_there_an_emotion_directed_at_a_brand_or_product     0.000000\n",
       "dtype: float64"
      ]
     },
     "execution_count": 9,
     "metadata": {},
     "output_type": "execute_result"
    }
   ],
   "source": [
    "# Let's see how the proportion of null values\n",
    "(df_train.isna().sum()/len(df_train))*100"
   ]
  },
  {
   "cell_type": "markdown",
   "metadata": {},
   "source": [
    "### 3.5.2 Descriptive Analysis"
   ]
  },
  {
   "cell_type": "markdown",
   "metadata": {},
   "source": [
    "All the columns from our dataset are categorical"
   ]
  },
  {
   "cell_type": "markdown",
   "metadata": {},
   "source": [
    "#### 3.5.2.1 Univaried Analysis"
   ]
  },
  {
   "cell_type": "markdown",
   "metadata": {},
   "source": [
    "Let's start by looking at the column 'emotion_in_tweet_is_directed_at' and look at the tweets related to the null values of that column"
   ]
  },
  {
   "cell_type": "code",
   "execution_count": 21,
   "metadata": {},
   "outputs": [
    {
     "data": {
      "text/plain": [
       "5       @teachntech00 New iPad Apps For #SpeechTherapy...\n",
       "6                                                     NaN\n",
       "16      Holler Gram for iPad on the iTunes App Store -...\n",
       "32      Attn: All  #SXSW frineds, @mention Register fo...\n",
       "33          Anyone at  #sxsw want to sell their old iPad?\n",
       "                              ...                        \n",
       "9087    @mention Yup, but I don't have a third app yet...\n",
       "9089    Wave, buzz... RT @mention We interrupt your re...\n",
       "9090    Google's Zeiger, a physician never reported po...\n",
       "9091    Some Verizon iPhone customers complained their...\n",
       "9092    Ï¡Ïàü_ÊÎÒ£Áââ_£â_ÛâRT @...\n",
       "Name: tweet_text, Length: 5802, dtype: object"
      ]
     },
     "execution_count": 21,
     "metadata": {},
     "output_type": "execute_result"
    }
   ],
   "source": [
    "# Filter rows where the column 'emotion_in_tweet_is_directed_at' is null\n",
    "null_emotion_tweets = df_train[df_train['emotion_in_tweet_is_directed_at'].isnull()]\n",
    "\n",
    "null_emotion_tweets.to_excel('prueba.xlsx', index=False)\n",
    "\n",
    "# Display the first 5 records of the 'tweet_text' column where 'emotion_in_tweet_is_directed_at' is null\n",
    "null_emotion_tweets['tweet_text']"
   ]
  },
  {
   "cell_type": "markdown",
   "metadata": {},
   "source": [
    "From the results above some of the tweets are NaN, we will proceed to drop these rows in the future. Moreover, it seems that some of the tweets mention in the message whether they refer to iphone or google. Let's take a look at row 32 to see if we can decipher whether it's also talking about iphone/google or not"
   ]
  },
  {
   "cell_type": "code",
   "execution_count": 17,
   "metadata": {},
   "outputs": [
    {
     "data": {
      "text/plain": [
       "'Attn: All  #SXSW frineds, @mention Register for #GDGTLive  and see Cobra iRadar for Android. {link}'"
      ]
     },
     "execution_count": 17,
     "metadata": {},
     "output_type": "execute_result"
    }
   ],
   "source": [
    "null_emotion_tweets['tweet_text'][32]"
   ]
  },
  {
   "cell_type": "code",
   "execution_count": 19,
   "metadata": {},
   "outputs": [
    {
     "data": {
      "text/plain": [
       "'No emotion toward brand or product'"
      ]
     },
     "execution_count": 19,
     "metadata": {},
     "output_type": "execute_result"
    }
   ],
   "source": [
    "null_emotion_tweets['is_there_an_emotion_directed_at_a_brand_or_product'][32]"
   ]
  },
  {
   "cell_type": "code",
   "execution_count": 18,
   "metadata": {},
   "outputs": [
    {
     "data": {
      "text/plain": [
       "'Wave, buzz... RT @mention We interrupt your regularly scheduled #sxsw geek programming with big news {link}  #google #circles'"
      ]
     },
     "execution_count": 18,
     "metadata": {},
     "output_type": "execute_result"
    }
   ],
   "source": [
    "null_emotion_tweets['tweet_text'][9089]"
   ]
  },
  {
   "cell_type": "code",
   "execution_count": 20,
   "metadata": {},
   "outputs": [
    {
     "data": {
      "text/plain": [
       "'No emotion toward brand or product'"
      ]
     },
     "execution_count": 20,
     "metadata": {},
     "output_type": "execute_result"
    }
   ],
   "source": [
    "null_emotion_tweets['is_there_an_emotion_directed_at_a_brand_or_product'][9089]"
   ]
  },
  {
   "cell_type": "markdown",
   "metadata": {},
   "source": [
    "Let's see the Univaried results of the initial dataset without any changes"
   ]
  },
  {
   "cell_type": "code",
   "execution_count": 9,
   "metadata": {},
   "outputs": [
    {
     "data": {
      "image/png": "[encoded data removed]",
      "text/plain": [
       "<Figure size 720x432 with 1 Axes>"
      ]
     },
     "metadata": {
      "needs_background": "light"
     },
     "output_type": "display_data"
    },
    {
     "data": {
      "image/png": "[encoded data removed]",
      "text/plain": [
       "<Figure size 720x432 with 1 Axes>"
      ]
     },
     "metadata": {
      "needs_background": "light"
     },
     "output_type": "display_data"
    }
   ],
   "source": [
    "plot_categorical_proportions(df_train)"
   ]
  },
  {
   "cell_type": "markdown",
   "metadata": {},
   "source": [
    "Given that column emotion_in_tweet_is_directed_at has 63.8% of the data empty, we are going to apply the identify_product() function to try to fill the empty values of this column based on the tweet_text values"
   ]
  },
  {
   "cell_type": "markdown",
   "metadata": {},
   "source": [
    "### 3.5.2.2. Multivaried Analysis"
   ]
  },
  {
   "cell_type": "code",
   "execution_count": 10,
   "metadata": {
    "scrolled": false
   },
   "outputs": [
    {
     "data": {
      "image/png": "[encoded data removed]",
      "text/plain": [
       "<Figure size 720x432 with 1 Axes>"
      ]
     },
     "metadata": {
      "needs_background": "light"
     },
     "output_type": "display_data"
    }
   ],
   "source": [
    "plot_grouped_charts(df_train)"
   ]
  },
  {
   "cell_type": "code",
   "execution_count": null,
   "metadata": {},
   "outputs": [],
   "source": []
  },
  {
   "cell_type": "markdown",
   "metadata": {},
   "source": [
    "**Contingency Tables**"
   ]
  },
  {
   "cell_type": "code",
   "execution_count": null,
   "metadata": {},
   "outputs": [],
   "source": []
  },
  {
   "cell_type": "code",
   "execution_count": null,
   "metadata": {},
   "outputs": [],
   "source": []
  },
  {
   "cell_type": "code",
   "execution_count": null,
   "metadata": {},
   "outputs": [],
   "source": []
  },
  {
   "cell_type": "markdown",
   "metadata": {},
   "source": [
    "# 6. Exporting the data"
   ]
  },
  {
   "cell_type": "code",
   "execution_count": null,
   "metadata": {},
   "outputs": [],
   "source": []
  },
  {
   "cell_type": "code",
   "execution_count": null,
   "metadata": {},
   "outputs": [],
   "source": []
  },
  {
   "cell_type": "code",
   "execution_count": null,
   "metadata": {},
   "outputs": [],
   "source": []
  },
  {
   "cell_type": "code",
   "execution_count": null,
   "metadata": {},
   "outputs": [],
   "source": []
  },
  {
   "cell_type": "code",
   "execution_count": null,
   "metadata": {},
   "outputs": [],
   "source": []
  },
  {
   "cell_type": "code",
   "execution_count": null,
   "metadata": {},
   "outputs": [],
   "source": []
  }
 ],
 "metadata": {
  "kernelspec": {
   "display_name": "Python 3.12.4",
   "language": "python",
   "name": "nombre_del_kernel"
  },
  "language_info": {
   "codemirror_mode": {
    "name": "ipython",
    "version": 3
   },
   "file_extension": ".py",
   "mimetype": "text/x-python",
   "name": "python",
   "nbconvert_exporter": "python",
   "pygments_lexer": "ipython3",
   "version": "3.8.5"
  }
 },
 "nbformat": 4,
 "nbformat_minor": 4
}
