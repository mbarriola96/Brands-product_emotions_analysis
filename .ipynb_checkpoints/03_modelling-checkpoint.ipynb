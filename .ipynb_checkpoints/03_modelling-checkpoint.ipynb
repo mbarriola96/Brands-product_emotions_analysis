{
 "cells": [
  {
   "cell_type": "markdown",
   "metadata": {},
   "source": [
    "# 1. Overview"
   ]
  },
  {
   "cell_type": "code",
   "execution_count": null,
   "metadata": {},
   "outputs": [],
   "source": []
  },
  {
   "cell_type": "markdown",
   "metadata": {},
   "source": [
    "# 2. Import Necessary Libraries"
   ]
  },
  {
   "cell_type": "code",
   "execution_count": 22,
   "metadata": {},
   "outputs": [],
   "source": [
    "import pandas as pd\n",
    "import numpy as np\n",
    "import seaborn as sns\n",
    "import matplotlib.pyplot as plt\n",
    "import tensorflow as tf\n",
    "from tensorflow.keras.models import Sequential\n",
    "from tensorflow.keras.layers import Dense\n",
    "from sklearn.metrics import f1_score\n",
    "from sklearn.ensemble import RandomForestClassifier\n",
    "from sklearn.metrics import confusion_matrix\n",
    "from tensorflow.keras.utils import to_categorical\n",
    "from tensorflow.keras.layers import Dropout\n",
    "from xgboost import XGBClassifier\n",
    "from sklearn.linear_model import LogisticRegression"
   ]
  },
  {
   "cell_type": "markdown",
   "metadata": {},
   "source": [
    "# 3. Define Global Variables"
   ]
  },
  {
   "cell_type": "code",
   "execution_count": 23,
   "metadata": {},
   "outputs": [],
   "source": [
    "input_X_train_path = 'data/train_processed.csv'\n",
    "input_X_test_path = 'data/test_processed.csv'"
   ]
  },
  {
   "cell_type": "markdown",
   "metadata": {},
   "source": [
    "# 4. Functions"
   ]
  },
  {
   "cell_type": "code",
   "execution_count": 24,
   "metadata": {},
   "outputs": [],
   "source": [
    "def plot_confusion_matrix_and_f1(y_test, y_pred, title='Confusion Matrix'):\n",
    "    \"\"\"\n",
    "    This function plots a confusion matrix and calculates the F1 score.\n",
    "\n",
    "    Parameters:\n",
    "    y_test (array-like): True labels\n",
    "    y_pred (array-like): Predicted labels\n",
    "    title (str): Title for the confusion matrix plot\n",
    "\n",
    "    Returns:\n",
    "    float: The weighted F1 score\n",
    "    \"\"\"\n",
    "\n",
    "    # Predefined labels list\n",
    "    labels_list = [\"Negative emotion\", \"Positive emotion\", \"No emotion\"]\n",
    "\n",
    "    # Generate the confusion matrix\n",
    "    conf_matrix = confusion_matrix(y_test, y_pred, labels=[0, 1, 2])\n",
    "\n",
    "    # Calculate percentages\n",
    "    conf_matrix_percent = conf_matrix.astype('float') / conf_matrix.sum(axis=1)[:, np.newaxis] * 100\n",
    "\n",
    "    # Combine the count and the percentage into one annotation\n",
    "    labels = [f\"{count}\\n{percent:.2f}%\" for count, percent in zip(conf_matrix.flatten(), conf_matrix_percent.flatten())]\n",
    "    labels = np.asarray(labels).reshape(3, 3)\n",
    "\n",
    "    # Plot the confusion matrix without the color bar\n",
    "    plt.figure(figsize=(8, 6))\n",
    "    sns.heatmap(conf_matrix, annot=labels, fmt=\"\", cmap=\"Blues\", cbar=False, \n",
    "                xticklabels=labels_list, \n",
    "                yticklabels=labels_list)\n",
    "\n",
    "    plt.xlabel(r'$\\bf{Predicted\\ labels}$')\n",
    "    plt.ylabel(r'$\\bf{True\\ labels}$')\n",
    "    plt.title(title)\n",
    "    plt.show()\n",
    "\n",
    "    # Calculate and return the F1 score\n",
    "    f1 = f1_score(y_test, y_pred, average='weighted')\n",
    "    print(f\"Weighted F1 Score: {f1:.2f}\")"
   ]
  },
  {
   "cell_type": "markdown",
   "metadata": {},
   "source": [
    "# 5. Code"
   ]
  },
  {
   "cell_type": "markdown",
   "metadata": {},
   "source": [
    "We are going to open both csv files from the notebook 02_data_preprocessing"
   ]
  },
  {
   "cell_type": "code",
   "execution_count": 25,
   "metadata": {},
   "outputs": [],
   "source": [
    "df_train = pd.read_csv(input_X_train_path)\n",
    "df_test = pd.read_csv(input_X_test_path)"
   ]
  },
  {
   "cell_type": "code",
   "execution_count": 26,
   "metadata": {},
   "outputs": [
    {
     "data": {
      "text/html": [
       "<div>\n",
       "<style scoped>\n",
       "    .dataframe tbody tr th:only-of-type {\n",
       "        vertical-align: middle;\n",
       "    }\n",
       "\n",
       "    .dataframe tbody tr th {\n",
       "        vertical-align: top;\n",
       "    }\n",
       "\n",
       "    .dataframe thead th {\n",
       "        text-align: right;\n",
       "    }\n",
       "</style>\n",
       "<table border=\"1\" class=\"dataframe\">\n",
       "  <thead>\n",
       "    <tr style=\"text-align: right;\">\n",
       "      <th></th>\n",
       "      <th>able</th>\n",
       "      <th>access</th>\n",
       "      <th>aclu</th>\n",
       "      <th>action</th>\n",
       "      <th>actually</th>\n",
       "      <th>ad</th>\n",
       "      <th>again</th>\n",
       "      <th>all</th>\n",
       "      <th>almost</th>\n",
       "      <th>already</th>\n",
       "      <th>...</th>\n",
       "      <th>wow</th>\n",
       "      <th>year</th>\n",
       "      <th>yes</th>\n",
       "      <th>yesterday</th>\n",
       "      <th>yet</th>\n",
       "      <th>you</th>\n",
       "      <th>yr</th>\n",
       "      <th>emotion_type_encoded</th>\n",
       "      <th>product_mention_Both</th>\n",
       "      <th>product_mention_Google</th>\n",
       "    </tr>\n",
       "  </thead>\n",
       "  <tbody>\n",
       "    <tr>\n",
       "      <th>0</th>\n",
       "      <td>0.0</td>\n",
       "      <td>0.0</td>\n",
       "      <td>0.0</td>\n",
       "      <td>0.0</td>\n",
       "      <td>0.0</td>\n",
       "      <td>0.0</td>\n",
       "      <td>0.0</td>\n",
       "      <td>0.0</td>\n",
       "      <td>0.0</td>\n",
       "      <td>0.0</td>\n",
       "      <td>...</td>\n",
       "      <td>0.0</td>\n",
       "      <td>0.0</td>\n",
       "      <td>0.0</td>\n",
       "      <td>0.0</td>\n",
       "      <td>0.0</td>\n",
       "      <td>0.0</td>\n",
       "      <td>0.0</td>\n",
       "      <td>2</td>\n",
       "      <td>1.0</td>\n",
       "      <td>0.0</td>\n",
       "    </tr>\n",
       "    <tr>\n",
       "      <th>1</th>\n",
       "      <td>0.0</td>\n",
       "      <td>0.0</td>\n",
       "      <td>0.0</td>\n",
       "      <td>0.0</td>\n",
       "      <td>0.0</td>\n",
       "      <td>0.0</td>\n",
       "      <td>0.0</td>\n",
       "      <td>0.0</td>\n",
       "      <td>0.0</td>\n",
       "      <td>0.0</td>\n",
       "      <td>...</td>\n",
       "      <td>0.0</td>\n",
       "      <td>0.0</td>\n",
       "      <td>0.0</td>\n",
       "      <td>0.0</td>\n",
       "      <td>0.0</td>\n",
       "      <td>0.0</td>\n",
       "      <td>0.0</td>\n",
       "      <td>2</td>\n",
       "      <td>0.0</td>\n",
       "      <td>0.0</td>\n",
       "    </tr>\n",
       "    <tr>\n",
       "      <th>2</th>\n",
       "      <td>0.0</td>\n",
       "      <td>0.0</td>\n",
       "      <td>0.0</td>\n",
       "      <td>0.0</td>\n",
       "      <td>0.0</td>\n",
       "      <td>0.0</td>\n",
       "      <td>0.0</td>\n",
       "      <td>0.0</td>\n",
       "      <td>0.0</td>\n",
       "      <td>0.0</td>\n",
       "      <td>...</td>\n",
       "      <td>0.0</td>\n",
       "      <td>0.0</td>\n",
       "      <td>0.0</td>\n",
       "      <td>0.0</td>\n",
       "      <td>0.0</td>\n",
       "      <td>0.0</td>\n",
       "      <td>0.0</td>\n",
       "      <td>2</td>\n",
       "      <td>0.0</td>\n",
       "      <td>0.0</td>\n",
       "    </tr>\n",
       "    <tr>\n",
       "      <th>3</th>\n",
       "      <td>0.0</td>\n",
       "      <td>0.0</td>\n",
       "      <td>0.0</td>\n",
       "      <td>0.0</td>\n",
       "      <td>0.0</td>\n",
       "      <td>0.0</td>\n",
       "      <td>0.0</td>\n",
       "      <td>0.0</td>\n",
       "      <td>0.0</td>\n",
       "      <td>0.0</td>\n",
       "      <td>...</td>\n",
       "      <td>0.0</td>\n",
       "      <td>0.0</td>\n",
       "      <td>0.0</td>\n",
       "      <td>0.0</td>\n",
       "      <td>0.0</td>\n",
       "      <td>0.0</td>\n",
       "      <td>0.0</td>\n",
       "      <td>2</td>\n",
       "      <td>1.0</td>\n",
       "      <td>0.0</td>\n",
       "    </tr>\n",
       "    <tr>\n",
       "      <th>4</th>\n",
       "      <td>0.0</td>\n",
       "      <td>0.0</td>\n",
       "      <td>0.0</td>\n",
       "      <td>0.0</td>\n",
       "      <td>0.0</td>\n",
       "      <td>0.0</td>\n",
       "      <td>0.0</td>\n",
       "      <td>0.0</td>\n",
       "      <td>0.0</td>\n",
       "      <td>0.0</td>\n",
       "      <td>...</td>\n",
       "      <td>0.0</td>\n",
       "      <td>0.0</td>\n",
       "      <td>0.0</td>\n",
       "      <td>0.0</td>\n",
       "      <td>0.0</td>\n",
       "      <td>0.0</td>\n",
       "      <td>0.0</td>\n",
       "      <td>2</td>\n",
       "      <td>0.0</td>\n",
       "      <td>0.0</td>\n",
       "    </tr>\n",
       "  </tbody>\n",
       "</table>\n",
       "<p>5 rows × 613 columns</p>\n",
       "</div>"
      ],
      "text/plain": [
       "   able  access  aclu  action  actually   ad  again  all  almost  already  \\\n",
       "0   0.0     0.0   0.0     0.0       0.0  0.0    0.0  0.0     0.0      0.0   \n",
       "1   0.0     0.0   0.0     0.0       0.0  0.0    0.0  0.0     0.0      0.0   \n",
       "2   0.0     0.0   0.0     0.0       0.0  0.0    0.0  0.0     0.0      0.0   \n",
       "3   0.0     0.0   0.0     0.0       0.0  0.0    0.0  0.0     0.0      0.0   \n",
       "4   0.0     0.0   0.0     0.0       0.0  0.0    0.0  0.0     0.0      0.0   \n",
       "\n",
       "   ...  wow  year  yes  yesterday  yet  you   yr  emotion_type_encoded  \\\n",
       "0  ...  0.0   0.0  0.0        0.0  0.0  0.0  0.0                     2   \n",
       "1  ...  0.0   0.0  0.0        0.0  0.0  0.0  0.0                     2   \n",
       "2  ...  0.0   0.0  0.0        0.0  0.0  0.0  0.0                     2   \n",
       "3  ...  0.0   0.0  0.0        0.0  0.0  0.0  0.0                     2   \n",
       "4  ...  0.0   0.0  0.0        0.0  0.0  0.0  0.0                     2   \n",
       "\n",
       "   product_mention_Both  product_mention_Google  \n",
       "0                   1.0                     0.0  \n",
       "1                   0.0                     0.0  \n",
       "2                   0.0                     0.0  \n",
       "3                   1.0                     0.0  \n",
       "4                   0.0                     0.0  \n",
       "\n",
       "[5 rows x 613 columns]"
      ]
     },
     "execution_count": 26,
     "metadata": {},
     "output_type": "execute_result"
    }
   ],
   "source": [
    "df_train.head()"
   ]
  },
  {
   "cell_type": "code",
   "execution_count": 27,
   "metadata": {},
   "outputs": [
    {
     "data": {
      "text/html": [
       "<div>\n",
       "<style scoped>\n",
       "    .dataframe tbody tr th:only-of-type {\n",
       "        vertical-align: middle;\n",
       "    }\n",
       "\n",
       "    .dataframe tbody tr th {\n",
       "        vertical-align: top;\n",
       "    }\n",
       "\n",
       "    .dataframe thead th {\n",
       "        text-align: right;\n",
       "    }\n",
       "</style>\n",
       "<table border=\"1\" class=\"dataframe\">\n",
       "  <thead>\n",
       "    <tr style=\"text-align: right;\">\n",
       "      <th></th>\n",
       "      <th>able</th>\n",
       "      <th>access</th>\n",
       "      <th>aclu</th>\n",
       "      <th>action</th>\n",
       "      <th>actually</th>\n",
       "      <th>ad</th>\n",
       "      <th>again</th>\n",
       "      <th>all</th>\n",
       "      <th>almost</th>\n",
       "      <th>already</th>\n",
       "      <th>...</th>\n",
       "      <th>wow</th>\n",
       "      <th>year</th>\n",
       "      <th>yes</th>\n",
       "      <th>yesterday</th>\n",
       "      <th>yet</th>\n",
       "      <th>you</th>\n",
       "      <th>yr</th>\n",
       "      <th>emotion_type_encoded</th>\n",
       "      <th>product_mention_Both</th>\n",
       "      <th>product_mention_Google</th>\n",
       "    </tr>\n",
       "  </thead>\n",
       "  <tbody>\n",
       "    <tr>\n",
       "      <th>0</th>\n",
       "      <td>0.0</td>\n",
       "      <td>0.0</td>\n",
       "      <td>0.0</td>\n",
       "      <td>0.0</td>\n",
       "      <td>0.0</td>\n",
       "      <td>0.0</td>\n",
       "      <td>0.0</td>\n",
       "      <td>0.0</td>\n",
       "      <td>0.0</td>\n",
       "      <td>0.0</td>\n",
       "      <td>...</td>\n",
       "      <td>0.0</td>\n",
       "      <td>0.0</td>\n",
       "      <td>0.0</td>\n",
       "      <td>0.0</td>\n",
       "      <td>0.0</td>\n",
       "      <td>0.0</td>\n",
       "      <td>0.0</td>\n",
       "      <td>2</td>\n",
       "      <td>0.0</td>\n",
       "      <td>0.0</td>\n",
       "    </tr>\n",
       "    <tr>\n",
       "      <th>1</th>\n",
       "      <td>0.0</td>\n",
       "      <td>0.0</td>\n",
       "      <td>0.0</td>\n",
       "      <td>0.0</td>\n",
       "      <td>0.0</td>\n",
       "      <td>0.0</td>\n",
       "      <td>0.0</td>\n",
       "      <td>0.0</td>\n",
       "      <td>0.0</td>\n",
       "      <td>0.0</td>\n",
       "      <td>...</td>\n",
       "      <td>0.0</td>\n",
       "      <td>0.0</td>\n",
       "      <td>0.0</td>\n",
       "      <td>0.0</td>\n",
       "      <td>0.0</td>\n",
       "      <td>0.0</td>\n",
       "      <td>0.0</td>\n",
       "      <td>2</td>\n",
       "      <td>1.0</td>\n",
       "      <td>0.0</td>\n",
       "    </tr>\n",
       "    <tr>\n",
       "      <th>2</th>\n",
       "      <td>0.0</td>\n",
       "      <td>0.0</td>\n",
       "      <td>0.0</td>\n",
       "      <td>0.0</td>\n",
       "      <td>0.0</td>\n",
       "      <td>0.0</td>\n",
       "      <td>0.0</td>\n",
       "      <td>0.0</td>\n",
       "      <td>0.0</td>\n",
       "      <td>0.0</td>\n",
       "      <td>...</td>\n",
       "      <td>0.0</td>\n",
       "      <td>0.0</td>\n",
       "      <td>0.0</td>\n",
       "      <td>0.0</td>\n",
       "      <td>0.0</td>\n",
       "      <td>0.0</td>\n",
       "      <td>0.0</td>\n",
       "      <td>2</td>\n",
       "      <td>0.0</td>\n",
       "      <td>0.0</td>\n",
       "    </tr>\n",
       "    <tr>\n",
       "      <th>3</th>\n",
       "      <td>0.0</td>\n",
       "      <td>0.0</td>\n",
       "      <td>0.0</td>\n",
       "      <td>0.0</td>\n",
       "      <td>0.0</td>\n",
       "      <td>0.0</td>\n",
       "      <td>0.0</td>\n",
       "      <td>0.0</td>\n",
       "      <td>0.0</td>\n",
       "      <td>0.0</td>\n",
       "      <td>...</td>\n",
       "      <td>0.0</td>\n",
       "      <td>0.0</td>\n",
       "      <td>0.0</td>\n",
       "      <td>0.0</td>\n",
       "      <td>0.0</td>\n",
       "      <td>0.0</td>\n",
       "      <td>0.0</td>\n",
       "      <td>2</td>\n",
       "      <td>0.0</td>\n",
       "      <td>1.0</td>\n",
       "    </tr>\n",
       "    <tr>\n",
       "      <th>4</th>\n",
       "      <td>0.0</td>\n",
       "      <td>0.0</td>\n",
       "      <td>0.0</td>\n",
       "      <td>0.0</td>\n",
       "      <td>0.0</td>\n",
       "      <td>0.0</td>\n",
       "      <td>0.0</td>\n",
       "      <td>0.0</td>\n",
       "      <td>0.0</td>\n",
       "      <td>0.0</td>\n",
       "      <td>...</td>\n",
       "      <td>0.0</td>\n",
       "      <td>0.0</td>\n",
       "      <td>0.0</td>\n",
       "      <td>0.0</td>\n",
       "      <td>0.0</td>\n",
       "      <td>0.0</td>\n",
       "      <td>0.0</td>\n",
       "      <td>2</td>\n",
       "      <td>0.0</td>\n",
       "      <td>0.0</td>\n",
       "    </tr>\n",
       "  </tbody>\n",
       "</table>\n",
       "<p>5 rows × 613 columns</p>\n",
       "</div>"
      ],
      "text/plain": [
       "   able  access  aclu  action  actually   ad  again  all  almost  already  \\\n",
       "0   0.0     0.0   0.0     0.0       0.0  0.0    0.0  0.0     0.0      0.0   \n",
       "1   0.0     0.0   0.0     0.0       0.0  0.0    0.0  0.0     0.0      0.0   \n",
       "2   0.0     0.0   0.0     0.0       0.0  0.0    0.0  0.0     0.0      0.0   \n",
       "3   0.0     0.0   0.0     0.0       0.0  0.0    0.0  0.0     0.0      0.0   \n",
       "4   0.0     0.0   0.0     0.0       0.0  0.0    0.0  0.0     0.0      0.0   \n",
       "\n",
       "   ...  wow  year  yes  yesterday  yet  you   yr  emotion_type_encoded  \\\n",
       "0  ...  0.0   0.0  0.0        0.0  0.0  0.0  0.0                     2   \n",
       "1  ...  0.0   0.0  0.0        0.0  0.0  0.0  0.0                     2   \n",
       "2  ...  0.0   0.0  0.0        0.0  0.0  0.0  0.0                     2   \n",
       "3  ...  0.0   0.0  0.0        0.0  0.0  0.0  0.0                     2   \n",
       "4  ...  0.0   0.0  0.0        0.0  0.0  0.0  0.0                     2   \n",
       "\n",
       "   product_mention_Both  product_mention_Google  \n",
       "0                   0.0                     0.0  \n",
       "1                   1.0                     0.0  \n",
       "2                   0.0                     0.0  \n",
       "3                   0.0                     1.0  \n",
       "4                   0.0                     0.0  \n",
       "\n",
       "[5 rows x 613 columns]"
      ]
     },
     "execution_count": 27,
     "metadata": {},
     "output_type": "execute_result"
    }
   ],
   "source": [
    "df_test.head()"
   ]
  },
  {
   "cell_type": "markdown",
   "metadata": {},
   "source": [
    "Let's do the separation between X_train, y_train, X_test, y_test"
   ]
  },
  {
   "cell_type": "code",
   "execution_count": 28,
   "metadata": {},
   "outputs": [],
   "source": [
    "# For train\n",
    "X_train, y_train = df_train.drop('emotion_type_encoded', axis=1), df_train['emotion_type_encoded']\n",
    "\n",
    "# For test\n",
    "X_test, y_test = df_test.drop('emotion_type_encoded', axis=1), df_test['emotion_type_encoded']"
   ]
  },
  {
   "cell_type": "markdown",
   "metadata": {},
   "source": [
    "We will now proceed to train different models"
   ]
  },
  {
   "cell_type": "markdown",
   "metadata": {},
   "source": [
    "## 5.1 Multinomial LR"
   ]
  },
  {
   "cell_type": "code",
   "execution_count": 29,
   "metadata": {},
   "outputs": [
    {
     "name": "stderr",
     "output_type": "stream",
     "text": [
      "C:\\Users\\Usuario\\anaconda3\\envs\\learn-env\\lib\\site-packages\\sklearn\\linear_model\\_logistic.py:460: ConvergenceWarning: lbfgs failed to converge (status=1):\n",
      "STOP: TOTAL NO. of ITERATIONS REACHED LIMIT.\n",
      "\n",
      "Increase the number of iterations (max_iter) or scale the data as shown in:\n",
      "    https://scikit-learn.org/stable/modules/preprocessing.html\n",
      "Please also refer to the documentation for alternative solver options:\n",
      "    https://scikit-learn.org/stable/modules/linear_model.html#logistic-regression\n",
      "  n_iter_i = _check_optimize_result(\n"
     ]
    }
   ],
   "source": [
    "# Initialize the Multinomial Logistic Regression model\n",
    "lr = LogisticRegression(solver='lbfgs', multi_class='multinomial', random_state=12)\n",
    "\n",
    "# Fit the model on the training data\n",
    "lr.fit(X_train, y_train)\n",
    "\n",
    "# Make predictions on the test data\n",
    "y_pred_test_lr = lr.predict(X_test)\n",
    "\n",
    "# Make predictions on the training data to check for overfitting\n",
    "y_pred_train_lr = lr.predict(X_train)"
   ]
  },
  {
   "cell_type": "markdown",
   "metadata": {},
   "source": [
    "Let's look at the confusion matrix"
   ]
  },
  {
   "cell_type": "code",
   "execution_count": 31,
   "metadata": {},
   "outputs": [
    {
     "data": {
      "image/png": "[encoded data removed]",
      "text/plain": [
       "<Figure size 576x432 with 1 Axes>"
      ]
     },
     "metadata": {
      "needs_background": "light"
     },
     "output_type": "display_data"
    },
    {
     "name": "stdout",
     "output_type": "stream",
     "text": [
      "Weighted F1 Score: 0.63\n"
     ]
    }
   ],
   "source": [
    "plot_confusion_matrix_and_f1(y_test, y_pred_test_lr, title='Confusion Matrix - Multinomial LR')"
   ]
  },
  {
   "cell_type": "markdown",
   "metadata": {},
   "source": [
    "Let's look at the confusion matrix of the train dataset to check for overfitting"
   ]
  },
  {
   "cell_type": "code",
   "execution_count": 32,
   "metadata": {},
   "outputs": [
    {
     "data": {
      "image/png": "[encoded data removed]",
      "text/plain": [
       "<Figure size 576x432 with 1 Axes>"
      ]
     },
     "metadata": {
      "needs_background": "light"
     },
     "output_type": "display_data"
    },
    {
     "name": "stdout",
     "output_type": "stream",
     "text": [
      "Weighted F1 Score: 0.68\n"
     ]
    }
   ],
   "source": [
    "plot_confusion_matrix_and_f1(y_train, y_pred_train_lr, title='Confusion Matrix - Multinomial LR')"
   ]
  },
  {
   "cell_type": "markdown",
   "metadata": {},
   "source": [
    "As can be seen. Here the overfitting is very low when we look at the different F1-Scores of the test and train dataset."
   ]
  },
  {
   "cell_type": "markdown",
   "metadata": {},
   "source": [
    "## 5.2 Random Forest"
   ]
  },
  {
   "cell_type": "code",
   "execution_count": 8,
   "metadata": {},
   "outputs": [],
   "source": [
    "# Initializing the RandomForestClassifier\n",
    "rf = RandomForestClassifier(random_state=12)\n",
    "\n",
    "# Let's do a fit on X_train and y_train\n",
    "rf.fit(X_train, y_train)\n",
    "\n",
    "# Let's do the predict of X_test\n",
    "y_pred_test_rf = rf.predict(X_test)"
   ]
  },
  {
   "cell_type": "markdown",
   "metadata": {},
   "source": [
    "Given that we have a multiclass problem, we are going to use the f1-score to detect the errors in the most generic way. F1-score combines the errors of recall and precision. This metric is good for unbalanced datasets. \n",
    "\n",
    "We are going to use the confusion matrix and the f1_score to chose our best model"
   ]
  },
  {
   "cell_type": "code",
   "execution_count": 9,
   "metadata": {},
   "outputs": [
    {
     "data": {
      "image/png": "[encoded data removed]",
      "text/plain": [
       "<Figure size 576x432 with 1 Axes>"
      ]
     },
     "metadata": {
      "needs_background": "light"
     },
     "output_type": "display_data"
    },
    {
     "name": "stdout",
     "output_type": "stream",
     "text": [
      "Weighted F1 Score: 0.63\n"
     ]
    }
   ],
   "source": [
    "plot_confusion_matrix_and_f1(y_test, y_pred_test_rf, title='Confusion Matrix - Random Forest')"
   ]
  },
  {
   "cell_type": "markdown",
   "metadata": {},
   "source": [
    "We are going to check the level of overfitting in the Random Forest Model"
   ]
  },
  {
   "cell_type": "code",
   "execution_count": 10,
   "metadata": {},
   "outputs": [],
   "source": [
    "# Let's do the predict of X_train\n",
    "y_pred_train_rf = rf.predict(X_train)"
   ]
  },
  {
   "cell_type": "code",
   "execution_count": 11,
   "metadata": {},
   "outputs": [
    {
     "data": {
      "image/png": "[encoded data removed]",
      "text/plain": [
       "<Figure size 576x432 with 1 Axes>"
      ]
     },
     "metadata": {
      "needs_background": "light"
     },
     "output_type": "display_data"
    },
    {
     "name": "stdout",
     "output_type": "stream",
     "text": [
      "Weighted F1 Score: 0.99\n"
     ]
    }
   ],
   "source": [
    "plot_confusion_matrix_and_f1(y_train, y_pred_train_rf, title='Confusion Matrix - Random Forest')"
   ]
  },
  {
   "cell_type": "markdown",
   "metadata": {},
   "source": [
    "As we can see, there is a very significant overfitting as the F1 score of the train dataset is 0.99 whereas the F1 score of the test dataset is 0.63"
   ]
  },
  {
   "cell_type": "markdown",
   "metadata": {},
   "source": [
    "## 5.3 Neural Networks"
   ]
  },
  {
   "cell_type": "code",
   "execution_count": 12,
   "metadata": {},
   "outputs": [],
   "source": [
    "# Define the neural network model\n",
    "model = Sequential()\n",
    "\n",
    "# Adding the input layer and the first hidden layer with dropout\n",
    "model.add(Dense(units=128, input_dim=X_train.shape[1], activation='relu'))\n",
    "model.add(Dropout(rate=0.5))  # Dropout with 50% rate\n",
    "\n",
    "# Adding the second hidden layer with dropout\n",
    "model.add(Dense(units=64, activation='relu'))\n",
    "model.add(Dropout(rate=0.5))  # Dropout with 50% rate\n",
    "\n",
    "# Adding the third hidden layer with dropout\n",
    "model.add(Dense(units=32, activation='relu'))\n",
    "model.add(Dropout(rate=0.5))  # Dropout with 50% rate\n",
    "\n",
    "# Adding the output layer\n",
    "model.add(Dense(units=3, activation='softmax'))\n",
    "\n",
    "# Compile the model\n",
    "model.compile(optimizer='adam', loss='categorical_crossentropy', metrics=['accuracy'])"
   ]
  },
  {
   "cell_type": "code",
   "execution_count": 13,
   "metadata": {},
   "outputs": [
    {
     "name": "stdout",
     "output_type": "stream",
     "text": [
      "Epoch 1/10\n",
      "193/193 [==============================] - 1s 2ms/step - loss: 0.9266 - accuracy: 0.5225 - val_loss: 0.8374 - val_accuracy: 0.5760\n",
      "Epoch 2/10\n",
      "193/193 [==============================] - 0s 2ms/step - loss: 0.8547 - accuracy: 0.5737 - val_loss: 0.8086 - val_accuracy: 0.5945\n",
      "Epoch 3/10\n",
      "193/193 [==============================] - 0s 2ms/step - loss: 0.8095 - accuracy: 0.6077 - val_loss: 0.7750 - val_accuracy: 0.6459\n",
      "Epoch 4/10\n",
      "193/193 [==============================] - 0s 1ms/step - loss: 0.7622 - accuracy: 0.6542 - val_loss: 0.7487 - val_accuracy: 0.6532\n",
      "Epoch 5/10\n",
      "193/193 [==============================] - 0s 1ms/step - loss: 0.7211 - accuracy: 0.6715 - val_loss: 0.7526 - val_accuracy: 0.6513\n",
      "Epoch 6/10\n",
      "193/193 [==============================] - 0s 1ms/step - loss: 0.6873 - accuracy: 0.6995 - val_loss: 0.7484 - val_accuracy: 0.6547\n",
      "Epoch 7/10\n",
      "193/193 [==============================] - 0s 2ms/step - loss: 0.6527 - accuracy: 0.7180 - val_loss: 0.7606 - val_accuracy: 0.6552\n",
      "Epoch 8/10\n",
      "193/193 [==============================] - 0s 2ms/step - loss: 0.6309 - accuracy: 0.7339 - val_loss: 0.7664 - val_accuracy: 0.6523\n",
      "Epoch 9/10\n",
      "193/193 [==============================] - 0s 2ms/step - loss: 0.5993 - accuracy: 0.7464 - val_loss: 0.7750 - val_accuracy: 0.6523\n",
      "Epoch 10/10\n",
      "193/193 [==============================] - 0s 1ms/step - loss: 0.5646 - accuracy: 0.7698 - val_loss: 0.7932 - val_accuracy: 0.6581\n"
     ]
    },
    {
     "data": {
      "text/plain": [
       "<keras.callbacks.History at 0x23dc32efa00>"
      ]
     },
     "execution_count": 13,
     "metadata": {},
     "output_type": "execute_result"
    }
   ],
   "source": [
    "# Training the model\n",
    "\n",
    "# Convert to NumPy arrays\n",
    "X_train_np = X_train.to_numpy()  # Convert features to a NumPy array\n",
    "y_train_np = to_categorical(y_train.to_numpy())  # Convert labels to a one-hot encoded NumPy array\n",
    "\n",
    "# If you have validation data, do the same conversion\n",
    "X_test_np = X_test.to_numpy()\n",
    "y_test_np = to_categorical(y_test.to_numpy())\n",
    "\n",
    "# Doing the fit\n",
    "model.fit(\n",
    "    X_train_np,       # Input data (features)\n",
    "    y_train_np,       # Target data (one-hot encoded labels)\n",
    "    epochs=10,        # Number of times the model will see the entire dataset\n",
    "    batch_size=32,    # Number of samples per gradient update\n",
    "    validation_data=(X_test_np, y_test_np)  # Validation data (optional)\n",
    ")"
   ]
  },
  {
   "cell_type": "code",
   "execution_count": 14,
   "metadata": {},
   "outputs": [],
   "source": [
    "# Make predictions\n",
    "predictions = model.predict(X_test_np)\n",
    "\n",
    "# Since the model outputs probabilities, you might want to convert these to class labels\n",
    "# Find the index of the maximum probability for each sample, which corresponds to the predicted class\n",
    "predicted_classes = np.argmax(predictions, axis=1)"
   ]
  },
  {
   "cell_type": "code",
   "execution_count": 20,
   "metadata": {},
   "outputs": [
    {
     "data": {
      "image/png": "[encoded data removed]",
      "text/plain": [
       "<Figure size 576x432 with 1 Axes>"
      ]
     },
     "metadata": {
      "needs_background": "light"
     },
     "output_type": "display_data"
    },
    {
     "name": "stdout",
     "output_type": "stream",
     "text": [
      "Weighted F1 Score: 0.65\n"
     ]
    }
   ],
   "source": [
    "plot_confusion_matrix_and_f1(y_test, predicted_classes, title='Confusion Matrix - Neural Networks')"
   ]
  },
  {
   "cell_type": "markdown",
   "metadata": {},
   "source": [
    "Based on the metrics that are printed by the neural network, we can see there is some overfitting but not too exagerated. As we iterate over the model, we will proceed to mitigate the overfitting."
   ]
  },
  {
   "cell_type": "markdown",
   "metadata": {},
   "source": [
    "## 5.4 Xgboost"
   ]
  },
  {
   "cell_type": "code",
   "execution_count": 16,
   "metadata": {},
   "outputs": [],
   "source": [
    "# Initializing the XGBClassifier\n",
    "xgb = XGBClassifier(random_state=12)\n",
    "\n",
    "# Let's do a fit on X_train and y_train\n",
    "xgb.fit(X_train, y_train)\n",
    "\n",
    "# Let's do the predict of X_test\n",
    "y_pred_test_xgb = xgb.predict(X_test)"
   ]
  },
  {
   "cell_type": "code",
   "execution_count": 17,
   "metadata": {},
   "outputs": [
    {
     "data": {
      "image/png": "[encoded data removed]",
      "text/plain": [
       "<Figure size 576x432 with 1 Axes>"
      ]
     },
     "metadata": {
      "needs_background": "light"
     },
     "output_type": "display_data"
    },
    {
     "name": "stdout",
     "output_type": "stream",
     "text": [
      "Weighted F1 Score: 0.63\n"
     ]
    }
   ],
   "source": [
    "plot_confusion_matrix_and_f1(y_test, y_pred_test_xgb, title='Confusion Matrix - XGBoost')"
   ]
  },
  {
   "cell_type": "markdown",
   "metadata": {},
   "source": [
    "We are going to check the level of overfitting in the XGBoost"
   ]
  },
  {
   "cell_type": "code",
   "execution_count": 18,
   "metadata": {},
   "outputs": [],
   "source": [
    "# Let's do the predict of X_train\n",
    "y_pred_train_xgb = rf.predict(X_train)"
   ]
  },
  {
   "cell_type": "code",
   "execution_count": 19,
   "metadata": {},
   "outputs": [
    {
     "data": {
      "image/png": "[encoded data removed]",
      "text/plain": [
       "<Figure size 576x432 with 1 Axes>"
      ]
     },
     "metadata": {
      "needs_background": "light"
     },
     "output_type": "display_data"
    },
    {
     "name": "stdout",
     "output_type": "stream",
     "text": [
      "Weighted F1 Score: 0.99\n"
     ]
    }
   ],
   "source": [
    "plot_confusion_matrix_and_f1(y_train, y_pred_train_xgb, title='Confusion Matrix - XGBoost')"
   ]
  },
  {
   "cell_type": "markdown",
   "metadata": {},
   "source": [
    "As we can see the overfitting is very high for XGBoost judging the F1-scores of the train and test datasets"
   ]
  },
  {
   "cell_type": "code",
   "execution_count": null,
   "metadata": {},
   "outputs": [],
   "source": []
  }
 ],
 "metadata": {
  "kernelspec": {
   "display_name": "Python 3.12.4",
   "language": "python",
   "name": "nombre_del_kernel"
  },
  "language_info": {
   "codemirror_mode": {
    "name": "ipython",
    "version": 3
   },
   "file_extension": ".py",
   "mimetype": "text/x-python",
   "name": "python",
   "nbconvert_exporter": "python",
   "pygments_lexer": "ipython3",
   "version": "3.8.5"
  }
 },
 "nbformat": 4,
 "nbformat_minor": 4
}
