{
 "cells": [
  {
   "cell_type": "markdown",
   "metadata": {},
   "source": [
    "# 1. Overview"
   ]
  },
  {
   "cell_type": "code",
   "execution_count": null,
   "metadata": {},
   "outputs": [],
   "source": []
  },
  {
   "cell_type": "markdown",
   "metadata": {},
   "source": [
    "# 2. Data understanding"
   ]
  },
  {
   "cell_type": "code",
   "execution_count": null,
   "metadata": {},
   "outputs": [],
   "source": []
  },
  {
   "cell_type": "markdown",
   "metadata": {},
   "source": [
    "## 2.1 Data description"
   ]
  },
  {
   "cell_type": "code",
   "execution_count": null,
   "metadata": {},
   "outputs": [],
   "source": []
  },
  {
   "cell_type": "markdown",
   "metadata": {},
   "source": [
    "## 2.2 Importing Necessary Libraries"
   ]
  },
  {
   "cell_type": "code",
   "execution_count": 1,
   "metadata": {},
   "outputs": [
    {
     "name": "stderr",
     "output_type": "stream",
     "text": [
      "[nltk_data] Downloading package stopwords to\n",
      "[nltk_data]     C:\\Users\\Usuario\\AppData\\Roaming\\nltk_data...\n",
      "[nltk_data]   Package stopwords is already up-to-date!\n",
      "[nltk_data] Downloading package punkt to\n",
      "[nltk_data]     C:\\Users\\Usuario\\AppData\\Roaming\\nltk_data...\n",
      "[nltk_data]   Package punkt is already up-to-date!\n",
      "[nltk_data] Downloading package wordnet to\n",
      "[nltk_data]     C:\\Users\\Usuario\\AppData\\Roaming\\nltk_data...\n"
     ]
    },
    {
     "data": {
      "text/plain": [
       "True"
      ]
     },
     "execution_count": 1,
     "metadata": {},
     "output_type": "execute_result"
    }
   ],
   "source": [
    "from nltk.stem import WordNetLemmatizer\n",
    "import pandas as pd\n",
    "import numpy as np\n",
    "import re\n",
    "from nltk.corpus import stopwords\n",
    "from nltk.tokenize import word_tokenize\n",
    "from sklearn.model_selection import train_test_split, GridSearchCV\n",
    "from sklearn.preprocessing import LabelEncoder, OneHotEncoder, FunctionTransformer\n",
    "from sklearn.compose import ColumnTransformer\n",
    "from sklearn.feature_extraction.text import TfidfVectorizer\n",
    "from sklearn.pipeline import Pipeline\n",
    "from sklearn.metrics import classification_report, confusion_matrix\n",
    "from sklearn.linear_model import LogisticRegression\n",
    "from sklearn.ensemble import RandomForestClassifier\n",
    "from xgboost import XGBClassifier\n",
    "import matplotlib.pyplot as plt\n",
    "import seaborn as sns\n",
    "import nltk\n",
    "from tensorflow.keras.models import Sequential\n",
    "from tensorflow.keras.layers import Embedding, LSTM, Bidirectional, Dense, Dropout, Conv1D, MaxPooling1D\n",
    "from tensorflow.keras.utils import to_categorical\n",
    "import matplotlib.pyplot as plt\n",
    "\n",
    "nltk.download('stopwords')\n",
    "nltk.download('punkt')\n",
    "nltk.download('wordnet')"
   ]
  },
  {
   "cell_type": "markdown",
   "metadata": {},
   "source": [
    "## 2.3 Define global variables"
   ]
  },
  {
   "cell_type": "code",
   "execution_count": 2,
   "metadata": {},
   "outputs": [],
   "source": [
    "pd.set_option('display.max_colwidth', 1000)"
   ]
  },
  {
   "cell_type": "markdown",
   "metadata": {},
   "source": [
    "## 2.3 Functions"
   ]
  },
  {
   "cell_type": "code",
   "execution_count": 3,
   "metadata": {},
   "outputs": [],
   "source": [
    "def identify_product(tweet_text):\n",
    "    \"\"\"\n",
    "    Identify if the tweet is about a Google or Apple product, and replace any product-related keywords\n",
    "    with 'tecproduct'.\n",
    "    \n",
    "    Parameters:\n",
    "    tweet_text (str): The text of the tweet.\n",
    "    \n",
    "    Returns:\n",
    "    str: 'Google' if the tweet mentions a Google product, 'Apple' if the tweet mentions an Apple product,\n",
    "         'Both' if the tweet mentions both, 'Unknown' if it mentions neither.\n",
    "    \"\"\"\n",
    "    google_keywords = ['google', 'pixel', 'pixels', 'nexus', 'nexuses', 'android', 'androids', \n",
    "                       'chromebook', 'chromebooks', 'nest', 'nests', 'stadia', 'stadias']\n",
    "    apple_keywords = ['apple', 'apples', 'iphone', 'iphones', 'ipad', 'ipads', 'macbook', \n",
    "                      'macbooks', 'imac', 'imacs', 'watch', 'watches', 'airpods', \n",
    "                      'appstore', 'ios', 'itunes']\n",
    "    \n",
    "    # Ensure tweet_text is a string\n",
    "    if not isinstance(tweet_text, str):\n",
    "        return 'Unknown'\n",
    "    \n",
    "    # Replace \"app store\" with \"appstore\" before tokenization\n",
    "    tweet_text = tweet_text.replace(\"app store\", \"appstore\")\n",
    "    \n",
    "    # Replace any occurrences of google_keywords and apple_keywords with 'tecproduct'\n",
    "    for keyword in google_keywords + apple_keywords:\n",
    "        tweet_text = re.sub(rf'\\b{keyword}\\b', 'tecproduct', tweet_text, flags=re.IGNORECASE)\n",
    "        \n",
    "    # Replace @ followed by any text or numbers with 'user'\n",
    "    tweet_text = re.sub(r'@\\w+', 'user', tweet_text)\n",
    "    \n",
    "    # Remove # in front of tecproduct if there is\n",
    "    tweet_text = re.sub(r'#tecproduct', 'tecproduct', tweet_text)\n",
    "    \n",
    "    # Replace # followed by any text or numbers with 'trend'\n",
    "    tweet_text = re.sub(r'#\\w+', 'trend', tweet_text)\n",
    "    \n",
    "    # Remove URLs\n",
    "    tweet_text = re.sub(r'http\\S+|www\\S+|https\\S+', 'urls', tweet_text, flags=re.MULTILINE)\n",
    "    \n",
    "    # Rename 1g, 2g, 3g, 4g, 5g, 6g, to 'monetwork'\n",
    "    tweet_text = re.sub(r'\\dg', 'monetwork', tweet_text)\n",
    "    \n",
    "    return tweet_text\n"
   ]
  },
  {
   "cell_type": "code",
   "execution_count": 4,
   "metadata": {},
   "outputs": [],
   "source": [
    "def preprocess_product_mention(df):\n",
    "    df['product_mention'] = df['product_mention'].astype(str)\n",
    "    return df"
   ]
  },
  {
   "cell_type": "markdown",
   "metadata": {},
   "source": [
    "# 3. Code"
   ]
  },
  {
   "cell_type": "code",
   "execution_count": null,
   "metadata": {},
   "outputs": [],
   "source": []
  },
  {
   "cell_type": "markdown",
   "metadata": {},
   "source": [
    "## 3.1 Import the database"
   ]
  },
  {
   "cell_type": "code",
   "execution_count": 5,
   "metadata": {},
   "outputs": [],
   "source": [
    "# Load and prepare data\n",
    "df = pd.read_csv('df.csv')"
   ]
  },
  {
   "cell_type": "markdown",
   "metadata": {},
   "source": [
    "## 3.2 Highlighting tech products "
   ]
  },
  {
   "cell_type": "markdown",
   "metadata": {},
   "source": [
    "Let's make the tweets lowercase"
   ]
  },
  {
   "cell_type": "code",
   "execution_count": 6,
   "metadata": {},
   "outputs": [
    {
     "data": {
      "text/html": [
       "<div>\n",
       "<style scoped>\n",
       "    .dataframe tbody tr th:only-of-type {\n",
       "        vertical-align: middle;\n",
       "    }\n",
       "\n",
       "    .dataframe tbody tr th {\n",
       "        vertical-align: top;\n",
       "    }\n",
       "\n",
       "    .dataframe thead th {\n",
       "        text-align: right;\n",
       "    }\n",
       "</style>\n",
       "<table border=\"1\" class=\"dataframe\">\n",
       "  <thead>\n",
       "    <tr style=\"text-align: right;\">\n",
       "      <th></th>\n",
       "      <th>tweet_text</th>\n",
       "      <th>emotion_type</th>\n",
       "      <th>product_mention</th>\n",
       "    </tr>\n",
       "  </thead>\n",
       "  <tbody>\n",
       "    <tr>\n",
       "      <th>0</th>\n",
       "      <td>.@wesley83 i have a 3g iphone. after 3 hrs tweeting at #rise_austin, it was dead!  i need to upgrade. plugin stations at #sxsw.</td>\n",
       "      <td>Negative emotion</td>\n",
       "      <td>Apple</td>\n",
       "    </tr>\n",
       "    <tr>\n",
       "      <th>1</th>\n",
       "      <td>@jessedee know about @fludapp ? awesome ipad/iphone app that you'll likely appreciate for its design. also, they're giving free ts at #sxsw</td>\n",
       "      <td>Positive emotion</td>\n",
       "      <td>Apple</td>\n",
       "    </tr>\n",
       "    <tr>\n",
       "      <th>2</th>\n",
       "      <td>@swonderlin can not wait for #ipad 2 also. they should sale them down at #sxsw.</td>\n",
       "      <td>Positive emotion</td>\n",
       "      <td>Apple</td>\n",
       "    </tr>\n",
       "    <tr>\n",
       "      <th>3</th>\n",
       "      <td>@sxsw i hope this year's festival isn't as crashy as this year's iphone app. #sxsw</td>\n",
       "      <td>Negative emotion</td>\n",
       "      <td>Apple</td>\n",
       "    </tr>\n",
       "    <tr>\n",
       "      <th>4</th>\n",
       "      <td>@sxtxstate great stuff on fri #sxsw: marissa mayer (google), tim o'reilly (tech books/conferences) &amp;amp; matt mullenweg (wordpress)</td>\n",
       "      <td>Positive emotion</td>\n",
       "      <td>Google</td>\n",
       "    </tr>\n",
       "  </tbody>\n",
       "</table>\n",
       "</div>"
      ],
      "text/plain": [
       "                                                                                                                                    tweet_text  \\\n",
       "0              .@wesley83 i have a 3g iphone. after 3 hrs tweeting at #rise_austin, it was dead!  i need to upgrade. plugin stations at #sxsw.   \n",
       "1  @jessedee know about @fludapp ? awesome ipad/iphone app that you'll likely appreciate for its design. also, they're giving free ts at #sxsw   \n",
       "2                                                              @swonderlin can not wait for #ipad 2 also. they should sale them down at #sxsw.   \n",
       "3                                                           @sxsw i hope this year's festival isn't as crashy as this year's iphone app. #sxsw   \n",
       "4          @sxtxstate great stuff on fri #sxsw: marissa mayer (google), tim o'reilly (tech books/conferences) &amp; matt mullenweg (wordpress)   \n",
       "\n",
       "       emotion_type product_mention  \n",
       "0  Negative emotion           Apple  \n",
       "1  Positive emotion           Apple  \n",
       "2  Positive emotion           Apple  \n",
       "3  Negative emotion           Apple  \n",
       "4  Positive emotion          Google  "
      ]
     },
     "execution_count": 6,
     "metadata": {},
     "output_type": "execute_result"
    }
   ],
   "source": [
    "df['tweet_text'] = df['tweet_text'].str.lower()\n",
    "\n",
    "df.head()"
   ]
  },
  {
   "cell_type": "markdown",
   "metadata": {},
   "source": [
    "We have decided to rename all the technical products in the tweet_text column to a general name called tecproduct. As well as substituting all tags in a tweet with a generic name called User, and the # for another generic name called trend. Lastly, we have also replace all urls with a generic name called url. In this way, we will be able to have a more generalized tweet. "
   ]
  },
  {
   "cell_type": "code",
   "execution_count": 7,
   "metadata": {},
   "outputs": [],
   "source": [
    "df['tweet_text'] = df['tweet_text'].map(identify_product)"
   ]
  },
  {
   "cell_type": "code",
   "execution_count": 8,
   "metadata": {},
   "outputs": [
    {
     "data": {
      "text/html": [
       "<div>\n",
       "<style scoped>\n",
       "    .dataframe tbody tr th:only-of-type {\n",
       "        vertical-align: middle;\n",
       "    }\n",
       "\n",
       "    .dataframe tbody tr th {\n",
       "        vertical-align: top;\n",
       "    }\n",
       "\n",
       "    .dataframe thead th {\n",
       "        text-align: right;\n",
       "    }\n",
       "</style>\n",
       "<table border=\"1\" class=\"dataframe\">\n",
       "  <thead>\n",
       "    <tr style=\"text-align: right;\">\n",
       "      <th></th>\n",
       "      <th>tweet_text</th>\n",
       "      <th>emotion_type</th>\n",
       "      <th>product_mention</th>\n",
       "    </tr>\n",
       "  </thead>\n",
       "  <tbody>\n",
       "    <tr>\n",
       "      <th>0</th>\n",
       "      <td>.user i have a monetwork tecproduct. after 3 hrs tweeting at trend, it was dead!  i need to upgrade. plugin stations at trend.</td>\n",
       "      <td>Negative emotion</td>\n",
       "      <td>Apple</td>\n",
       "    </tr>\n",
       "    <tr>\n",
       "      <th>1</th>\n",
       "      <td>user know about user ? awesome tecproduct/tecproduct app that you'll likely appreciate for its design. also, they're giving free ts at trend</td>\n",
       "      <td>Positive emotion</td>\n",
       "      <td>Apple</td>\n",
       "    </tr>\n",
       "    <tr>\n",
       "      <th>2</th>\n",
       "      <td>user can not wait for tecproduct 2 also. they should sale them down at trend.</td>\n",
       "      <td>Positive emotion</td>\n",
       "      <td>Apple</td>\n",
       "    </tr>\n",
       "    <tr>\n",
       "      <th>3</th>\n",
       "      <td>user i hope this year's festival isn't as crashy as this year's tecproduct app. trend</td>\n",
       "      <td>Negative emotion</td>\n",
       "      <td>Apple</td>\n",
       "    </tr>\n",
       "    <tr>\n",
       "      <th>4</th>\n",
       "      <td>user great stuff on fri trend: marissa mayer (tecproduct), tim o'reilly (tech books/conferences) &amp;amp; matt mullenweg (wordpress)</td>\n",
       "      <td>Positive emotion</td>\n",
       "      <td>Google</td>\n",
       "    </tr>\n",
       "  </tbody>\n",
       "</table>\n",
       "</div>"
      ],
      "text/plain": [
       "                                                                                                                                     tweet_text  \\\n",
       "0                .user i have a monetwork tecproduct. after 3 hrs tweeting at trend, it was dead!  i need to upgrade. plugin stations at trend.   \n",
       "1  user know about user ? awesome tecproduct/tecproduct app that you'll likely appreciate for its design. also, they're giving free ts at trend   \n",
       "2                                                                 user can not wait for tecproduct 2 also. they should sale them down at trend.   \n",
       "3                                                         user i hope this year's festival isn't as crashy as this year's tecproduct app. trend   \n",
       "4             user great stuff on fri trend: marissa mayer (tecproduct), tim o'reilly (tech books/conferences) &amp; matt mullenweg (wordpress)   \n",
       "\n",
       "       emotion_type product_mention  \n",
       "0  Negative emotion           Apple  \n",
       "1  Positive emotion           Apple  \n",
       "2  Positive emotion           Apple  \n",
       "3  Negative emotion           Apple  \n",
       "4  Positive emotion          Google  "
      ]
     },
     "execution_count": 8,
     "metadata": {},
     "output_type": "execute_result"
    }
   ],
   "source": [
    "df.head()"
   ]
  },
  {
   "cell_type": "markdown",
   "metadata": {},
   "source": [
    "## 3.3 Text cleaning"
   ]
  },
  {
   "cell_type": "markdown",
   "metadata": {},
   "source": [
    "### 3.3.1 Stop Words"
   ]
  },
  {
   "cell_type": "markdown",
   "metadata": {},
   "source": [
    "Let's now proceed to eliminate the stopwords"
   ]
  },
  {
   "cell_type": "code",
   "execution_count": 9,
   "metadata": {
    "scrolled": true
   },
   "outputs": [
    {
     "data": {
      "text/html": [
       "<div>\n",
       "<style scoped>\n",
       "    .dataframe tbody tr th:only-of-type {\n",
       "        vertical-align: middle;\n",
       "    }\n",
       "\n",
       "    .dataframe tbody tr th {\n",
       "        vertical-align: top;\n",
       "    }\n",
       "\n",
       "    .dataframe thead th {\n",
       "        text-align: right;\n",
       "    }\n",
       "</style>\n",
       "<table border=\"1\" class=\"dataframe\">\n",
       "  <thead>\n",
       "    <tr style=\"text-align: right;\">\n",
       "      <th></th>\n",
       "      <th>tweet_text</th>\n",
       "      <th>emotion_type</th>\n",
       "      <th>product_mention</th>\n",
       "    </tr>\n",
       "  </thead>\n",
       "  <tbody>\n",
       "    <tr>\n",
       "      <th>0</th>\n",
       "      <td>.user monetwork tecproduct. 3 hrs tweeting trend, dead! need upgrade. plugin stations trend.</td>\n",
       "      <td>Negative emotion</td>\n",
       "      <td>Apple</td>\n",
       "    </tr>\n",
       "    <tr>\n",
       "      <th>1</th>\n",
       "      <td>user know user ? awesome tecproduct/tecproduct app likely appreciate design. also, they're giving free ts trend</td>\n",
       "      <td>Positive emotion</td>\n",
       "      <td>Apple</td>\n",
       "    </tr>\n",
       "    <tr>\n",
       "      <th>2</th>\n",
       "      <td>user wait tecproduct 2 also. sale trend.</td>\n",
       "      <td>Positive emotion</td>\n",
       "      <td>Apple</td>\n",
       "    </tr>\n",
       "    <tr>\n",
       "      <th>3</th>\n",
       "      <td>user hope year's festival crashy year's tecproduct app. trend</td>\n",
       "      <td>Negative emotion</td>\n",
       "      <td>Apple</td>\n",
       "    </tr>\n",
       "    <tr>\n",
       "      <th>4</th>\n",
       "      <td>user great stuff fri trend: marissa mayer (tecproduct), tim o'reilly (tech books/conferences) &amp;amp; matt mullenweg (wordpress)</td>\n",
       "      <td>Positive emotion</td>\n",
       "      <td>Google</td>\n",
       "    </tr>\n",
       "  </tbody>\n",
       "</table>\n",
       "</div>"
      ],
      "text/plain": [
       "                                                                                                                       tweet_text  \\\n",
       "0                                    .user monetwork tecproduct. 3 hrs tweeting trend, dead! need upgrade. plugin stations trend.   \n",
       "1                 user know user ? awesome tecproduct/tecproduct app likely appreciate design. also, they're giving free ts trend   \n",
       "2                                                                                        user wait tecproduct 2 also. sale trend.   \n",
       "3                                                                   user hope year's festival crashy year's tecproduct app. trend   \n",
       "4  user great stuff fri trend: marissa mayer (tecproduct), tim o'reilly (tech books/conferences) &amp; matt mullenweg (wordpress)   \n",
       "\n",
       "       emotion_type product_mention  \n",
       "0  Negative emotion           Apple  \n",
       "1  Positive emotion           Apple  \n",
       "2  Positive emotion           Apple  \n",
       "3  Negative emotion           Apple  \n",
       "4  Positive emotion          Google  "
      ]
     },
     "execution_count": 9,
     "metadata": {},
     "output_type": "execute_result"
    }
   ],
   "source": [
    "stopwords_to_remove = stopwords.words('english')\n",
    "\n",
    "df['tweet_text'] = df['tweet_text'].map(lambda x: ' '.join([word for word in x.split() if word not in stopwords_to_remove]))\n",
    "\n",
    "df.head()"
   ]
  },
  {
   "cell_type": "markdown",
   "metadata": {},
   "source": [
    "We will now proceed to remove strange characters and punctuation"
   ]
  },
  {
   "cell_type": "code",
   "execution_count": 10,
   "metadata": {},
   "outputs": [
    {
     "data": {
      "text/html": [
       "<div>\n",
       "<style scoped>\n",
       "    .dataframe tbody tr th:only-of-type {\n",
       "        vertical-align: middle;\n",
       "    }\n",
       "\n",
       "    .dataframe tbody tr th {\n",
       "        vertical-align: top;\n",
       "    }\n",
       "\n",
       "    .dataframe thead th {\n",
       "        text-align: right;\n",
       "    }\n",
       "</style>\n",
       "<table border=\"1\" class=\"dataframe\">\n",
       "  <thead>\n",
       "    <tr style=\"text-align: right;\">\n",
       "      <th></th>\n",
       "      <th>tweet_text</th>\n",
       "      <th>emotion_type</th>\n",
       "      <th>product_mention</th>\n",
       "    </tr>\n",
       "  </thead>\n",
       "  <tbody>\n",
       "    <tr>\n",
       "      <th>0</th>\n",
       "      <td>user monetwork tecproduct  3 hrs tweeting trend  dead  need upgrade  plugin stations trend</td>\n",
       "      <td>Negative emotion</td>\n",
       "      <td>Apple</td>\n",
       "    </tr>\n",
       "    <tr>\n",
       "      <th>1</th>\n",
       "      <td>user know user   awesome tecproduct tecproduct app likely appreciate design  also  they re giving free ts trend</td>\n",
       "      <td>Positive emotion</td>\n",
       "      <td>Apple</td>\n",
       "    </tr>\n",
       "    <tr>\n",
       "      <th>2</th>\n",
       "      <td>user wait tecproduct 2 also  sale trend</td>\n",
       "      <td>Positive emotion</td>\n",
       "      <td>Apple</td>\n",
       "    </tr>\n",
       "    <tr>\n",
       "      <th>3</th>\n",
       "      <td>user hope year s festival crashy year s tecproduct app  trend</td>\n",
       "      <td>Negative emotion</td>\n",
       "      <td>Apple</td>\n",
       "    </tr>\n",
       "    <tr>\n",
       "      <th>4</th>\n",
       "      <td>user great stuff fri trend  marissa mayer  tecproduct   tim o reilly  tech books conferences   amp  matt mullenweg  wordpress</td>\n",
       "      <td>Positive emotion</td>\n",
       "      <td>Google</td>\n",
       "    </tr>\n",
       "  </tbody>\n",
       "</table>\n",
       "</div>"
      ],
      "text/plain": [
       "                                                                                                                       tweet_text  \\\n",
       "0                                     user monetwork tecproduct  3 hrs tweeting trend  dead  need upgrade  plugin stations trend    \n",
       "1                 user know user   awesome tecproduct tecproduct app likely appreciate design  also  they re giving free ts trend   \n",
       "2                                                                                        user wait tecproduct 2 also  sale trend    \n",
       "3                                                                   user hope year s festival crashy year s tecproduct app  trend   \n",
       "4  user great stuff fri trend  marissa mayer  tecproduct   tim o reilly  tech books conferences   amp  matt mullenweg  wordpress    \n",
       "\n",
       "       emotion_type product_mention  \n",
       "0  Negative emotion           Apple  \n",
       "1  Positive emotion           Apple  \n",
       "2  Positive emotion           Apple  \n",
       "3  Negative emotion           Apple  \n",
       "4  Positive emotion          Google  "
      ]
     },
     "execution_count": 10,
     "metadata": {},
     "output_type": "execute_result"
    }
   ],
   "source": [
    "# Remove strange characters and punctuation\n",
    "strange_chars = '!\"$%&\\'()*+,-./:;<=>?[\\\\]^_`{|}~“!#Ûª'\n",
    "df['tweet_text'] = df['tweet_text'].map(lambda x: x.translate(str.maketrans(strange_chars, ' ' * len(strange_chars))))\n",
    "\n",
    "df.head()"
   ]
  },
  {
   "cell_type": "markdown",
   "metadata": {},
   "source": [
    "Now we shall proceed to eliminate numbers"
   ]
  },
  {
   "cell_type": "code",
   "execution_count": 11,
   "metadata": {},
   "outputs": [
    {
     "data": {
      "text/html": [
       "<div>\n",
       "<style scoped>\n",
       "    .dataframe tbody tr th:only-of-type {\n",
       "        vertical-align: middle;\n",
       "    }\n",
       "\n",
       "    .dataframe tbody tr th {\n",
       "        vertical-align: top;\n",
       "    }\n",
       "\n",
       "    .dataframe thead th {\n",
       "        text-align: right;\n",
       "    }\n",
       "</style>\n",
       "<table border=\"1\" class=\"dataframe\">\n",
       "  <thead>\n",
       "    <tr style=\"text-align: right;\">\n",
       "      <th></th>\n",
       "      <th>tweet_text</th>\n",
       "      <th>emotion_type</th>\n",
       "      <th>product_mention</th>\n",
       "    </tr>\n",
       "  </thead>\n",
       "  <tbody>\n",
       "    <tr>\n",
       "      <th>0</th>\n",
       "      <td>user monetwork tecproduct   hrs tweeting trend  dead  need upgrade  plugin stations trend</td>\n",
       "      <td>Negative emotion</td>\n",
       "      <td>Apple</td>\n",
       "    </tr>\n",
       "    <tr>\n",
       "      <th>1</th>\n",
       "      <td>user know user   awesome tecproduct tecproduct app likely appreciate design  also  they re giving free ts trend</td>\n",
       "      <td>Positive emotion</td>\n",
       "      <td>Apple</td>\n",
       "    </tr>\n",
       "    <tr>\n",
       "      <th>2</th>\n",
       "      <td>user wait tecproduct  also  sale trend</td>\n",
       "      <td>Positive emotion</td>\n",
       "      <td>Apple</td>\n",
       "    </tr>\n",
       "    <tr>\n",
       "      <th>3</th>\n",
       "      <td>user hope year s festival crashy year s tecproduct app  trend</td>\n",
       "      <td>Negative emotion</td>\n",
       "      <td>Apple</td>\n",
       "    </tr>\n",
       "    <tr>\n",
       "      <th>4</th>\n",
       "      <td>user great stuff fri trend  marissa mayer  tecproduct   tim o reilly  tech books conferences   amp  matt mullenweg  wordpress</td>\n",
       "      <td>Positive emotion</td>\n",
       "      <td>Google</td>\n",
       "    </tr>\n",
       "  </tbody>\n",
       "</table>\n",
       "</div>"
      ],
      "text/plain": [
       "                                                                                                                       tweet_text  \\\n",
       "0                                      user monetwork tecproduct   hrs tweeting trend  dead  need upgrade  plugin stations trend    \n",
       "1                 user know user   awesome tecproduct tecproduct app likely appreciate design  also  they re giving free ts trend   \n",
       "2                                                                                         user wait tecproduct  also  sale trend    \n",
       "3                                                                   user hope year s festival crashy year s tecproduct app  trend   \n",
       "4  user great stuff fri trend  marissa mayer  tecproduct   tim o reilly  tech books conferences   amp  matt mullenweg  wordpress    \n",
       "\n",
       "       emotion_type product_mention  \n",
       "0  Negative emotion           Apple  \n",
       "1  Positive emotion           Apple  \n",
       "2  Positive emotion           Apple  \n",
       "3  Negative emotion           Apple  \n",
       "4  Positive emotion          Google  "
      ]
     },
     "execution_count": 11,
     "metadata": {},
     "output_type": "execute_result"
    }
   ],
   "source": [
    "# Remove numbers\n",
    "df['tweet_text'] = df['tweet_text'].map(lambda x: re.sub(r'\\d+', '', x))\n",
    "\n",
    "df.head()"
   ]
  },
  {
   "cell_type": "markdown",
   "metadata": {},
   "source": [
    "We are going to eliminate letters that are on their own in each individual tweet"
   ]
  },
  {
   "cell_type": "code",
   "execution_count": 12,
   "metadata": {},
   "outputs": [
    {
     "data": {
      "text/html": [
       "<div>\n",
       "<style scoped>\n",
       "    .dataframe tbody tr th:only-of-type {\n",
       "        vertical-align: middle;\n",
       "    }\n",
       "\n",
       "    .dataframe tbody tr th {\n",
       "        vertical-align: top;\n",
       "    }\n",
       "\n",
       "    .dataframe thead th {\n",
       "        text-align: right;\n",
       "    }\n",
       "</style>\n",
       "<table border=\"1\" class=\"dataframe\">\n",
       "  <thead>\n",
       "    <tr style=\"text-align: right;\">\n",
       "      <th></th>\n",
       "      <th>tweet_text</th>\n",
       "      <th>emotion_type</th>\n",
       "      <th>product_mention</th>\n",
       "    </tr>\n",
       "  </thead>\n",
       "  <tbody>\n",
       "    <tr>\n",
       "      <th>0</th>\n",
       "      <td>user monetwork tecproduct hrs tweeting trend dead need upgrade plugin stations trend</td>\n",
       "      <td>Negative emotion</td>\n",
       "      <td>Apple</td>\n",
       "    </tr>\n",
       "    <tr>\n",
       "      <th>1</th>\n",
       "      <td>user know user awesome tecproduct tecproduct app likely appreciate design also they re giving free ts trend</td>\n",
       "      <td>Positive emotion</td>\n",
       "      <td>Apple</td>\n",
       "    </tr>\n",
       "    <tr>\n",
       "      <th>2</th>\n",
       "      <td>user wait tecproduct also sale trend</td>\n",
       "      <td>Positive emotion</td>\n",
       "      <td>Apple</td>\n",
       "    </tr>\n",
       "    <tr>\n",
       "      <th>3</th>\n",
       "      <td>user hope year festival crashy year tecproduct app trend</td>\n",
       "      <td>Negative emotion</td>\n",
       "      <td>Apple</td>\n",
       "    </tr>\n",
       "    <tr>\n",
       "      <th>4</th>\n",
       "      <td>user great stuff fri trend marissa mayer tecproduct tim reilly tech books conferences amp matt mullenweg wordpress</td>\n",
       "      <td>Positive emotion</td>\n",
       "      <td>Google</td>\n",
       "    </tr>\n",
       "  </tbody>\n",
       "</table>\n",
       "</div>"
      ],
      "text/plain": [
       "                                                                                                           tweet_text  \\\n",
       "0                                user monetwork tecproduct hrs tweeting trend dead need upgrade plugin stations trend   \n",
       "1         user know user awesome tecproduct tecproduct app likely appreciate design also they re giving free ts trend   \n",
       "2                                                                                user wait tecproduct also sale trend   \n",
       "3                                                            user hope year festival crashy year tecproduct app trend   \n",
       "4  user great stuff fri trend marissa mayer tecproduct tim reilly tech books conferences amp matt mullenweg wordpress   \n",
       "\n",
       "       emotion_type product_mention  \n",
       "0  Negative emotion           Apple  \n",
       "1  Positive emotion           Apple  \n",
       "2  Positive emotion           Apple  \n",
       "3  Negative emotion           Apple  \n",
       "4  Positive emotion          Google  "
      ]
     },
     "execution_count": 12,
     "metadata": {},
     "output_type": "execute_result"
    }
   ],
   "source": [
    "df['tweet_text'] = df['tweet_text'].map(lambda x: ' '.join([word for word in x.split() if len(word) > 1]))\n",
    "\n",
    "df.head()"
   ]
  },
  {
   "cell_type": "markdown",
   "metadata": {},
   "source": [
    "## 3.4 Lematization"
   ]
  },
  {
   "cell_type": "code",
   "execution_count": 13,
   "metadata": {},
   "outputs": [
    {
     "data": {
      "text/html": [
       "<div>\n",
       "<style scoped>\n",
       "    .dataframe tbody tr th:only-of-type {\n",
       "        vertical-align: middle;\n",
       "    }\n",
       "\n",
       "    .dataframe tbody tr th {\n",
       "        vertical-align: top;\n",
       "    }\n",
       "\n",
       "    .dataframe thead th {\n",
       "        text-align: right;\n",
       "    }\n",
       "</style>\n",
       "<table border=\"1\" class=\"dataframe\">\n",
       "  <thead>\n",
       "    <tr style=\"text-align: right;\">\n",
       "      <th></th>\n",
       "      <th>tweet_text</th>\n",
       "      <th>emotion_type</th>\n",
       "      <th>product_mention</th>\n",
       "    </tr>\n",
       "  </thead>\n",
       "  <tbody>\n",
       "    <tr>\n",
       "      <th>0</th>\n",
       "      <td>user monetwork tecproduct hr tweeting trend dead need upgrade plugin station trend</td>\n",
       "      <td>Negative emotion</td>\n",
       "      <td>Apple</td>\n",
       "    </tr>\n",
       "    <tr>\n",
       "      <th>1</th>\n",
       "      <td>user know user awesome tecproduct tecproduct app likely appreciate design also they re giving free t trend</td>\n",
       "      <td>Positive emotion</td>\n",
       "      <td>Apple</td>\n",
       "    </tr>\n",
       "    <tr>\n",
       "      <th>2</th>\n",
       "      <td>user wait tecproduct also sale trend</td>\n",
       "      <td>Positive emotion</td>\n",
       "      <td>Apple</td>\n",
       "    </tr>\n",
       "    <tr>\n",
       "      <th>3</th>\n",
       "      <td>user hope year festival crashy year tecproduct app trend</td>\n",
       "      <td>Negative emotion</td>\n",
       "      <td>Apple</td>\n",
       "    </tr>\n",
       "    <tr>\n",
       "      <th>4</th>\n",
       "      <td>user great stuff fri trend marissa mayer tecproduct tim reilly tech book conference amp matt mullenweg wordpress</td>\n",
       "      <td>Positive emotion</td>\n",
       "      <td>Google</td>\n",
       "    </tr>\n",
       "  </tbody>\n",
       "</table>\n",
       "</div>"
      ],
      "text/plain": [
       "                                                                                                         tweet_text  \\\n",
       "0                                user monetwork tecproduct hr tweeting trend dead need upgrade plugin station trend   \n",
       "1        user know user awesome tecproduct tecproduct app likely appreciate design also they re giving free t trend   \n",
       "2                                                                              user wait tecproduct also sale trend   \n",
       "3                                                          user hope year festival crashy year tecproduct app trend   \n",
       "4  user great stuff fri trend marissa mayer tecproduct tim reilly tech book conference amp matt mullenweg wordpress   \n",
       "\n",
       "       emotion_type product_mention  \n",
       "0  Negative emotion           Apple  \n",
       "1  Positive emotion           Apple  \n",
       "2  Positive emotion           Apple  \n",
       "3  Negative emotion           Apple  \n",
       "4  Positive emotion          Google  "
      ]
     },
     "execution_count": 13,
     "metadata": {},
     "output_type": "execute_result"
    }
   ],
   "source": [
    "# Initialize the WordNet lemmatizer\n",
    "lemmatizer = WordNetLemmatizer()\n",
    "\n",
    "# Lemmatize each word in tweet_text\n",
    "df['tweet_text'] = df['tweet_text'].map(lambda x: ' '.join([lemmatizer.lemmatize(word) for word in x.split()]))\n",
    "\n",
    "df.head()"
   ]
  },
  {
   "cell_type": "markdown",
   "metadata": {},
   "source": [
    "## 3.5 Tokenize"
   ]
  },
  {
   "cell_type": "code",
   "execution_count": 14,
   "metadata": {},
   "outputs": [
    {
     "data": {
      "text/html": [
       "<div>\n",
       "<style scoped>\n",
       "    .dataframe tbody tr th:only-of-type {\n",
       "        vertical-align: middle;\n",
       "    }\n",
       "\n",
       "    .dataframe tbody tr th {\n",
       "        vertical-align: top;\n",
       "    }\n",
       "\n",
       "    .dataframe thead th {\n",
       "        text-align: right;\n",
       "    }\n",
       "</style>\n",
       "<table border=\"1\" class=\"dataframe\">\n",
       "  <thead>\n",
       "    <tr style=\"text-align: right;\">\n",
       "      <th></th>\n",
       "      <th>tweet_text</th>\n",
       "      <th>emotion_type</th>\n",
       "      <th>product_mention</th>\n",
       "      <th>tweet_text_tokenized</th>\n",
       "    </tr>\n",
       "  </thead>\n",
       "  <tbody>\n",
       "    <tr>\n",
       "      <th>0</th>\n",
       "      <td>user monetwork tecproduct hr tweeting trend dead need upgrade plugin station trend</td>\n",
       "      <td>Negative emotion</td>\n",
       "      <td>Apple</td>\n",
       "      <td>[user, monetwork, tecproduct, hr, tweeting, trend, dead, need, upgrade, plugin, station, trend]</td>\n",
       "    </tr>\n",
       "    <tr>\n",
       "      <th>1</th>\n",
       "      <td>user know user awesome tecproduct tecproduct app likely appreciate design also they re giving free t trend</td>\n",
       "      <td>Positive emotion</td>\n",
       "      <td>Apple</td>\n",
       "      <td>[user, know, user, awesome, tecproduct, tecproduct, app, likely, appreciate, design, also, they, re, giving, free, t, trend]</td>\n",
       "    </tr>\n",
       "    <tr>\n",
       "      <th>2</th>\n",
       "      <td>user wait tecproduct also sale trend</td>\n",
       "      <td>Positive emotion</td>\n",
       "      <td>Apple</td>\n",
       "      <td>[user, wait, tecproduct, also, sale, trend]</td>\n",
       "    </tr>\n",
       "    <tr>\n",
       "      <th>3</th>\n",
       "      <td>user hope year festival crashy year tecproduct app trend</td>\n",
       "      <td>Negative emotion</td>\n",
       "      <td>Apple</td>\n",
       "      <td>[user, hope, year, festival, crashy, year, tecproduct, app, trend]</td>\n",
       "    </tr>\n",
       "    <tr>\n",
       "      <th>4</th>\n",
       "      <td>user great stuff fri trend marissa mayer tecproduct tim reilly tech book conference amp matt mullenweg wordpress</td>\n",
       "      <td>Positive emotion</td>\n",
       "      <td>Google</td>\n",
       "      <td>[user, great, stuff, fri, trend, marissa, mayer, tecproduct, tim, reilly, tech, book, conference, amp, matt, mullenweg, wordpress]</td>\n",
       "    </tr>\n",
       "  </tbody>\n",
       "</table>\n",
       "</div>"
      ],
      "text/plain": [
       "                                                                                                         tweet_text  \\\n",
       "0                                user monetwork tecproduct hr tweeting trend dead need upgrade plugin station trend   \n",
       "1        user know user awesome tecproduct tecproduct app likely appreciate design also they re giving free t trend   \n",
       "2                                                                              user wait tecproduct also sale trend   \n",
       "3                                                          user hope year festival crashy year tecproduct app trend   \n",
       "4  user great stuff fri trend marissa mayer tecproduct tim reilly tech book conference amp matt mullenweg wordpress   \n",
       "\n",
       "       emotion_type product_mention  \\\n",
       "0  Negative emotion           Apple   \n",
       "1  Positive emotion           Apple   \n",
       "2  Positive emotion           Apple   \n",
       "3  Negative emotion           Apple   \n",
       "4  Positive emotion          Google   \n",
       "\n",
       "                                                                                                                 tweet_text_tokenized  \n",
       "0                                     [user, monetwork, tecproduct, hr, tweeting, trend, dead, need, upgrade, plugin, station, trend]  \n",
       "1        [user, know, user, awesome, tecproduct, tecproduct, app, likely, appreciate, design, also, they, re, giving, free, t, trend]  \n",
       "2                                                                                         [user, wait, tecproduct, also, sale, trend]  \n",
       "3                                                                  [user, hope, year, festival, crashy, year, tecproduct, app, trend]  \n",
       "4  [user, great, stuff, fri, trend, marissa, mayer, tecproduct, tim, reilly, tech, book, conference, amp, matt, mullenweg, wordpress]  "
      ]
     },
     "execution_count": 14,
     "metadata": {},
     "output_type": "execute_result"
    }
   ],
   "source": [
    "# Tokenize the tweet_text\n",
    "df['tweet_text'] = df['tweet_text'].map(lambda x: word_tokenize(x))\n",
    "\n",
    "df.head()"
   ]
  },
  {
   "cell_type": "markdown",
   "metadata": {},
   "source": [
    "## 3.6 Train test split"
   ]
  },
  {
   "cell_type": "markdown",
   "metadata": {},
   "source": [
    "Let's first define our variables"
   ]
  },
  {
   "cell_type": "code",
   "execution_count": 15,
   "metadata": {},
   "outputs": [],
   "source": [
    "y = df['emotion_type']\n",
    "X = df.drop(['emotion_type', 'tweet_text_tokenized'], axis=1)"
   ]
  },
  {
   "cell_type": "code",
   "execution_count": 24,
   "metadata": {},
   "outputs": [],
   "source": [
    "# X is the feature set and y is the target variable\n",
    "X_train, X_test, y_train, y_test = train_test_split(X, y, test_size=0.25, random_state=42)"
   ]
  },
  {
   "cell_type": "markdown",
   "metadata": {},
   "source": [
    "Let's compare the shapes of y_test and y_train to see if they're somewhat similar"
   ]
  },
  {
   "cell_type": "code",
   "execution_count": 25,
   "metadata": {},
   "outputs": [
    {
     "data": {
      "text/plain": [
       "no emotion          0.576008\n",
       "Positive emotion    0.361340\n",
       "Negative emotion    0.062652\n",
       "Name: emotion_type, dtype: float64"
      ]
     },
     "execution_count": 25,
     "metadata": {},
     "output_type": "execute_result"
    }
   ],
   "source": [
    "y_test.value_counts(normalize=True)"
   ]
  },
  {
   "cell_type": "code",
   "execution_count": 26,
   "metadata": {},
   "outputs": [
    {
     "data": {
      "text/plain": [
       "no emotion          0.570943\n",
       "Positive emotion    0.357791\n",
       "Negative emotion    0.071267\n",
       "Name: emotion_type, dtype: float64"
      ]
     },
     "execution_count": 26,
     "metadata": {},
     "output_type": "execute_result"
    }
   ],
   "source": [
    "y_train.value_counts(normalize=True)"
   ]
  },
  {
   "cell_type": "markdown",
   "metadata": {},
   "source": [
    "Let's see a description of the distributions"
   ]
  },
  {
   "cell_type": "code",
   "execution_count": 39,
   "metadata": {},
   "outputs": [
    {
     "data": {
      "image/png": "[encoded data removed]",
      "text/plain": [
       "<Figure size 1008x504 with 2 Axes>"
      ]
     },
     "metadata": {
      "needs_background": "light"
     },
     "output_type": "display_data"
    }
   ],
   "source": [
    "import matplotlib.pyplot as plt\n",
    "\n",
    "# Assuming y_test and y_train are pandas Series\n",
    "\n",
    "# Create a larger figure\n",
    "plt.figure(figsize=(14, 7))\n",
    "\n",
    "# y_test Distribution\n",
    "plt.subplot(1, 2, 1)\n",
    "y_test_counts = y_test.value_counts(normalize=True)\n",
    "y_test_abs_counts = y_test.value_counts()\n",
    "\n",
    "y_test_counts.plot(kind='bar', color='skyblue')\n",
    "plt.title('y_test Distribution')\n",
    "plt.xlabel('Emotion Type')\n",
    "plt.ylabel('Proportion')\n",
    "\n",
    "for i, (count, pct) in enumerate(zip(y_test_abs_counts, y_test_counts)):\n",
    "    vertical_position = pct + 0.002 if pct > 0.5 else pct + 0.01  # Small offset for larger bars\n",
    "    plt.text(i, vertical_position, f'{count}\\n({pct:.2%})', ha='center', va='bottom', fontsize=7)\n",
    "\n",
    "# y_train Distribution\n",
    "plt.subplot(1, 2, 2)\n",
    "y_train_counts = y_train.value_counts(normalize=True)\n",
    "y_train_abs_counts = y_train.value_counts()\n",
    "\n",
    "y_train_counts.plot(kind='bar', color='lightgreen')\n",
    "plt.title('y_train Distribution')\n",
    "plt.xlabel('Emotion Type')\n",
    "plt.ylabel('Proportion')\n",
    "\n",
    "for i, (count, pct) in enumerate(zip(y_train_abs_counts, y_train_counts)):\n",
    "    vertical_position = pct + 0.002 if pct > 0.5 else pct + 0.01  # Small offset for larger bars\n",
    "    plt.text(i, vertical_position, f'{count}\\n({pct:.2%})', ha='center', va='bottom', fontsize=7.5)\n",
    "\n",
    "# Adjust layout to make more space around the plots\n",
    "plt.tight_layout()\n",
    "plt.subplots_adjust(left=0.05, right=0.95, top=0.9, bottom=0.1)\n",
    "plt.show()\n"
   ]
  },
  {
   "cell_type": "markdown",
   "metadata": {},
   "source": [
    "## 3.7 TFIDF"
   ]
  },
  {
   "cell_type": "markdown",
   "metadata": {},
   "source": [
    "Let's proceed to vectorize "
   ]
  },
  {
   "cell_type": "code",
   "execution_count": null,
   "metadata": {},
   "outputs": [],
   "source": []
  },
  {
   "cell_type": "code",
   "execution_count": null,
   "metadata": {},
   "outputs": [],
   "source": []
  },
  {
   "cell_type": "code",
   "execution_count": null,
   "metadata": {},
   "outputs": [],
   "source": []
  },
  {
   "cell_type": "code",
   "execution_count": null,
   "metadata": {},
   "outputs": [],
   "source": []
  },
  {
   "cell_type": "code",
   "execution_count": null,
   "metadata": {},
   "outputs": [],
   "source": []
  },
  {
   "cell_type": "code",
   "execution_count": null,
   "metadata": {},
   "outputs": [],
   "source": []
  },
  {
   "cell_type": "code",
   "execution_count": null,
   "metadata": {},
   "outputs": [],
   "source": []
  },
  {
   "cell_type": "code",
   "execution_count": null,
   "metadata": {},
   "outputs": [],
   "source": []
  },
  {
   "cell_type": "code",
   "execution_count": null,
   "metadata": {},
   "outputs": [],
   "source": []
  },
  {
   "cell_type": "code",
   "execution_count": null,
   "metadata": {},
   "outputs": [],
   "source": []
  },
  {
   "cell_type": "code",
   "execution_count": null,
   "metadata": {},
   "outputs": [],
   "source": []
  },
  {
   "cell_type": "code",
   "execution_count": null,
   "metadata": {},
   "outputs": [],
   "source": []
  },
  {
   "cell_type": "code",
   "execution_count": null,
   "metadata": {},
   "outputs": [],
   "source": []
  }
 ],
 "metadata": {
  "kernelspec": {
   "display_name": "Python 3.12.4",
   "language": "python",
   "name": "nombre_del_kernel"
  },
  "language_info": {
   "codemirror_mode": {
    "name": "ipython",
    "version": 3
   },
   "file_extension": ".py",
   "mimetype": "text/x-python",
   "name": "python",
   "nbconvert_exporter": "python",
   "pygments_lexer": "ipython3",
   "version": "3.8.5"
  }
 },
 "nbformat": 4,
 "nbformat_minor": 4
}
