{
 "cells": [
  {
   "cell_type": "markdown",
   "metadata": {},
   "source": [
    "# 1. Overview"
   ]
  },
  {
   "cell_type": "code",
   "execution_count": null,
   "metadata": {},
   "outputs": [],
   "source": []
  },
  {
   "cell_type": "markdown",
   "metadata": {},
   "source": [
    "# 2. Data understanding"
   ]
  },
  {
   "cell_type": "code",
   "execution_count": null,
   "metadata": {},
   "outputs": [],
   "source": []
  },
  {
   "cell_type": "markdown",
   "metadata": {},
   "source": [
    "## 2.1 Data description"
   ]
  },
  {
   "cell_type": "code",
   "execution_count": null,
   "metadata": {},
   "outputs": [],
   "source": []
  },
  {
   "cell_type": "markdown",
   "metadata": {},
   "source": [
    "## 2.2 Importing Necessary Libraries"
   ]
  },
  {
   "cell_type": "code",
   "execution_count": 2,
   "metadata": {},
   "outputs": [
    {
     "name": "stderr",
     "output_type": "stream",
     "text": [
      "[nltk_data] Downloading package stopwords to\n",
      "[nltk_data]     C:\\Users\\Usuario/nltk_data...\n",
      "[nltk_data]   Package stopwords is already up-to-date!\n",
      "[nltk_data] Downloading package punkt to C:\\Users\\Usuario/nltk_data...\n",
      "[nltk_data]   Package punkt is already up-to-date!\n",
      "[nltk_data] Downloading package wordnet to\n",
      "[nltk_data]     C:\\Users\\Usuario/nltk_data...\n",
      "[nltk_data]   Package wordnet is already up-to-date!\n"
     ]
    }
   ],
   "source": [
    "from collections import Counter\n",
    "from nltk.stem import WordNetLemmatizer\n",
    "from sklearn.preprocessing import LabelEncoder\n",
    "from nltk.corpus import stopwords\n",
    "from nltk.tokenize import word_tokenize\n",
    "from sklearn.model_selection import train_test_split, GridSearchCV\n",
    "from sklearn.preprocessing import LabelEncoder, OneHotEncoder, FunctionTransformer\n",
    "from sklearn.compose import ColumnTransformer\n",
    "from sklearn.feature_extraction.text import TfidfVectorizer\n",
    "from sklearn.pipeline import Pipeline\n",
    "from sklearn.metrics import classification_report, confusion_matrix\n",
    "from sklearn.linear_model import LogisticRegression\n",
    "from sklearn.ensemble import RandomForestClassifier\n",
    "from xgboost import XGBClassifier\n",
    "from tensorflow.keras.models import Sequential\n",
    "from tensorflow.keras.layers import Embedding, LSTM, Bidirectional, Dense, Dropout, Conv1D, MaxPooling1D\n",
    "from tensorflow.keras.utils import to_categorical\n",
    "from sklearn.preprocessing import OneHotEncoder\n",
    "from nltk.corpus import wordnet\n",
    "import category_encoders as ce\n",
    "import pickle\n",
    "import pandas as pd\n",
    "import numpy as np\n",
    "import re\n",
    "import seaborn as sns\n",
    "import nltk\n",
    "import matplotlib.pyplot as plt\n",
    "import warnings\n",
    "\n",
    "nltk.download('stopwords')\n",
    "nltk.download('punkt')\n",
    "nltk.download('wordnet')\n",
    "\n",
    "# Suppress all warnings\n",
    "warnings.simplefilter('ignore')"
   ]
  },
  {
   "cell_type": "markdown",
   "metadata": {},
   "source": [
    "## 2.3 Define global variables"
   ]
  },
  {
   "cell_type": "code",
   "execution_count": 3,
   "metadata": {},
   "outputs": [],
   "source": [
    "pd.set_option('display.max_colwidth', 1000)"
   ]
  },
  {
   "cell_type": "markdown",
   "metadata": {},
   "source": [
    "## 2.3 Functions"
   ]
  },
  {
   "cell_type": "code",
   "execution_count": 4,
   "metadata": {},
   "outputs": [],
   "source": [
    "def generalize_tweets(tweet_text):\n",
    "    \"\"\"\n",
    "    Identify if the tweet is about a Google or Apple product, and replace any product-related keywords\n",
    "    with 'tecproduct'.\n",
    "    \n",
    "    Parameters:\n",
    "    tweet_text (str): The text of the tweet.\n",
    "    \n",
    "    Returns:\n",
    "    str: 'Google' if the tweet mentions a Google product, 'Apple' if the tweet mentions an Apple product,\n",
    "         'Both' if the tweet mentions both, 'Unknown' if it mentions neither.\n",
    "    \"\"\"\n",
    "    google_keywords = ['google', 'pixel', 'pixels', 'nexus', 'nexuses', 'android', 'androids', \n",
    "                       'chromebook', 'chromebooks', 'nest', 'nests', 'stadia', 'stadias']\n",
    "    apple_keywords = ['apple', 'apples', 'iphone', 'iphones', 'ipad', 'ipads', 'macbook', \n",
    "                      'macbooks', 'imac', 'imacs', 'watch', 'watches', 'airpods', \n",
    "                      'appstore', 'ios', 'itunes']\n",
    "    \n",
    "    # Ensure tweet_text is a string\n",
    "    if not isinstance(tweet_text, str):\n",
    "        return 'Unknown'\n",
    "    \n",
    "    # Replace \"app store\" with \"appstore\" before tokenization\n",
    "    tweet_text = tweet_text.replace(\"app store\", \"appstore\")\n",
    "    \n",
    "    # Replace any occurrences of google_keywords and apple_keywords with 'tecproduct'\n",
    "    for keyword in google_keywords + apple_keywords:\n",
    "        tweet_text = re.sub(rf'\\b{keyword}\\b', 'tecproduct', tweet_text, flags=re.IGNORECASE)\n",
    "        \n",
    "    # Replace @ followed by any text or numbers with 'user'\n",
    "    tweet_text = re.sub(r'@\\w+', 'user', tweet_text)\n",
    "    \n",
    "    # Remove # in front of tecproduct if there is\n",
    "    tweet_text = re.sub(r'#tecproduct', 'tecproduct', tweet_text)\n",
    "    \n",
    "    # Replace # followed by any text or numbers with 'trend'\n",
    "    tweet_text = re.sub(r'#\\w+', 'trend', tweet_text)\n",
    "    \n",
    "    # Remove URLs\n",
    "    tweet_text = re.sub(r'http\\S+|www\\S+|https\\S+', 'urls', tweet_text, flags=re.MULTILINE)\n",
    "    \n",
    "    # Rename 1g, 2g, 3g, 4g, 5g, 6g, to 'monetwork'\n",
    "    tweet_text = re.sub(r'\\dg', 'monetwork', tweet_text)\n",
    "    \n",
    "    return tweet_text\n"
   ]
  },
  {
   "cell_type": "code",
   "execution_count": 5,
   "metadata": {},
   "outputs": [],
   "source": [
    "def preprocess_product_mention(df):\n",
    "    df['product_mention'] = df['product_mention'].astype(str)\n",
    "    return df"
   ]
  },
  {
   "cell_type": "markdown",
   "metadata": {},
   "source": [
    "# 3. Code"
   ]
  },
  {
   "cell_type": "markdown",
   "metadata": {},
   "source": [
    "## 3.1 Import the database"
   ]
  },
  {
   "cell_type": "code",
   "execution_count": 6,
   "metadata": {},
   "outputs": [],
   "source": [
    "# Load and prepare data\n",
    "df = pd.read_csv('df_prueba.csv')"
   ]
  },
  {
   "cell_type": "markdown",
   "metadata": {},
   "source": [
    "## 3.2 Highlighting tech products "
   ]
  },
  {
   "cell_type": "markdown",
   "metadata": {},
   "source": [
    "Let's make the tweets lowercase"
   ]
  },
  {
   "cell_type": "code",
   "execution_count": 7,
   "metadata": {},
   "outputs": [
    {
     "data": {
      "text/html": [
       "<div>\n",
       "<style scoped>\n",
       "    .dataframe tbody tr th:only-of-type {\n",
       "        vertical-align: middle;\n",
       "    }\n",
       "\n",
       "    .dataframe tbody tr th {\n",
       "        vertical-align: top;\n",
       "    }\n",
       "\n",
       "    .dataframe thead th {\n",
       "        text-align: right;\n",
       "    }\n",
       "</style>\n",
       "<table border=\"1\" class=\"dataframe\">\n",
       "  <thead>\n",
       "    <tr style=\"text-align: right;\">\n",
       "      <th></th>\n",
       "      <th>tweet_text</th>\n",
       "      <th>emotion_type</th>\n",
       "      <th>product_mention</th>\n",
       "    </tr>\n",
       "  </thead>\n",
       "  <tbody>\n",
       "    <tr>\n",
       "      <th>0</th>\n",
       "      <td>.@wesley83 i have a 3g iphone. after 3 hrs tweeting at #rise_austin, it was dead!  i need to upgrade. plugin stations at #sxsw.</td>\n",
       "      <td>Not Positive emotion</td>\n",
       "      <td>Apple</td>\n",
       "    </tr>\n",
       "    <tr>\n",
       "      <th>1</th>\n",
       "      <td>@jessedee know about @fludapp ? awesome ipad/iphone app that you'll likely appreciate for its design. also, they're giving free ts at #sxsw</td>\n",
       "      <td>Positive emotion</td>\n",
       "      <td>Apple</td>\n",
       "    </tr>\n",
       "    <tr>\n",
       "      <th>2</th>\n",
       "      <td>@swonderlin can not wait for #ipad 2 also. they should sale them down at #sxsw.</td>\n",
       "      <td>Positive emotion</td>\n",
       "      <td>Apple</td>\n",
       "    </tr>\n",
       "    <tr>\n",
       "      <th>3</th>\n",
       "      <td>@sxsw i hope this year's festival isn't as crashy as this year's iphone app. #sxsw</td>\n",
       "      <td>Not Positive emotion</td>\n",
       "      <td>Apple</td>\n",
       "    </tr>\n",
       "    <tr>\n",
       "      <th>4</th>\n",
       "      <td>@sxtxstate great stuff on fri #sxsw: marissa mayer (google), tim o'reilly (tech books/conferences) &amp;amp; matt mullenweg (wordpress)</td>\n",
       "      <td>Positive emotion</td>\n",
       "      <td>Google</td>\n",
       "    </tr>\n",
       "  </tbody>\n",
       "</table>\n",
       "</div>"
      ],
      "text/plain": [
       "                                                                                                                                    tweet_text  \\\n",
       "0              .@wesley83 i have a 3g iphone. after 3 hrs tweeting at #rise_austin, it was dead!  i need to upgrade. plugin stations at #sxsw.   \n",
       "1  @jessedee know about @fludapp ? awesome ipad/iphone app that you'll likely appreciate for its design. also, they're giving free ts at #sxsw   \n",
       "2                                                              @swonderlin can not wait for #ipad 2 also. they should sale them down at #sxsw.   \n",
       "3                                                           @sxsw i hope this year's festival isn't as crashy as this year's iphone app. #sxsw   \n",
       "4          @sxtxstate great stuff on fri #sxsw: marissa mayer (google), tim o'reilly (tech books/conferences) &amp; matt mullenweg (wordpress)   \n",
       "\n",
       "           emotion_type product_mention  \n",
       "0  Not Positive emotion           Apple  \n",
       "1      Positive emotion           Apple  \n",
       "2      Positive emotion           Apple  \n",
       "3  Not Positive emotion           Apple  \n",
       "4      Positive emotion          Google  "
      ]
     },
     "execution_count": 7,
     "metadata": {},
     "output_type": "execute_result"
    }
   ],
   "source": [
    "df['tweet_text'] = df['tweet_text'].str.lower()\n",
    "\n",
    "df.head()"
   ]
  },
  {
   "cell_type": "markdown",
   "metadata": {},
   "source": [
    "We have decided to rename all the technical products in the tweet_text column to a general name called tecproduct. As well as substituting all tags in a tweet with a generic name called User, and the # for another generic name called trend. Lastly, we have also replace all urls with a generic name called url. In this way, we will be able to have a more generalized tweet. "
   ]
  },
  {
   "cell_type": "code",
   "execution_count": 8,
   "metadata": {},
   "outputs": [],
   "source": [
    "df['tweet_text'] = df['tweet_text'].map(generalize_tweets)"
   ]
  },
  {
   "cell_type": "code",
   "execution_count": 9,
   "metadata": {},
   "outputs": [
    {
     "data": {
      "text/html": [
       "<div>\n",
       "<style scoped>\n",
       "    .dataframe tbody tr th:only-of-type {\n",
       "        vertical-align: middle;\n",
       "    }\n",
       "\n",
       "    .dataframe tbody tr th {\n",
       "        vertical-align: top;\n",
       "    }\n",
       "\n",
       "    .dataframe thead th {\n",
       "        text-align: right;\n",
       "    }\n",
       "</style>\n",
       "<table border=\"1\" class=\"dataframe\">\n",
       "  <thead>\n",
       "    <tr style=\"text-align: right;\">\n",
       "      <th></th>\n",
       "      <th>tweet_text</th>\n",
       "      <th>emotion_type</th>\n",
       "      <th>product_mention</th>\n",
       "    </tr>\n",
       "  </thead>\n",
       "  <tbody>\n",
       "    <tr>\n",
       "      <th>0</th>\n",
       "      <td>.user i have a monetwork tecproduct. after 3 hrs tweeting at trend, it was dead!  i need to upgrade. plugin stations at trend.</td>\n",
       "      <td>Not Positive emotion</td>\n",
       "      <td>Apple</td>\n",
       "    </tr>\n",
       "    <tr>\n",
       "      <th>1</th>\n",
       "      <td>user know about user ? awesome tecproduct/tecproduct app that you'll likely appreciate for its design. also, they're giving free ts at trend</td>\n",
       "      <td>Positive emotion</td>\n",
       "      <td>Apple</td>\n",
       "    </tr>\n",
       "    <tr>\n",
       "      <th>2</th>\n",
       "      <td>user can not wait for tecproduct 2 also. they should sale them down at trend.</td>\n",
       "      <td>Positive emotion</td>\n",
       "      <td>Apple</td>\n",
       "    </tr>\n",
       "    <tr>\n",
       "      <th>3</th>\n",
       "      <td>user i hope this year's festival isn't as crashy as this year's tecproduct app. trend</td>\n",
       "      <td>Not Positive emotion</td>\n",
       "      <td>Apple</td>\n",
       "    </tr>\n",
       "    <tr>\n",
       "      <th>4</th>\n",
       "      <td>user great stuff on fri trend: marissa mayer (tecproduct), tim o'reilly (tech books/conferences) &amp;amp; matt mullenweg (wordpress)</td>\n",
       "      <td>Positive emotion</td>\n",
       "      <td>Google</td>\n",
       "    </tr>\n",
       "  </tbody>\n",
       "</table>\n",
       "</div>"
      ],
      "text/plain": [
       "                                                                                                                                     tweet_text  \\\n",
       "0                .user i have a monetwork tecproduct. after 3 hrs tweeting at trend, it was dead!  i need to upgrade. plugin stations at trend.   \n",
       "1  user know about user ? awesome tecproduct/tecproduct app that you'll likely appreciate for its design. also, they're giving free ts at trend   \n",
       "2                                                                 user can not wait for tecproduct 2 also. they should sale them down at trend.   \n",
       "3                                                         user i hope this year's festival isn't as crashy as this year's tecproduct app. trend   \n",
       "4             user great stuff on fri trend: marissa mayer (tecproduct), tim o'reilly (tech books/conferences) &amp; matt mullenweg (wordpress)   \n",
       "\n",
       "           emotion_type product_mention  \n",
       "0  Not Positive emotion           Apple  \n",
       "1      Positive emotion           Apple  \n",
       "2      Positive emotion           Apple  \n",
       "3  Not Positive emotion           Apple  \n",
       "4      Positive emotion          Google  "
      ]
     },
     "execution_count": 9,
     "metadata": {},
     "output_type": "execute_result"
    }
   ],
   "source": [
    "df.head()"
   ]
  },
  {
   "cell_type": "markdown",
   "metadata": {},
   "source": [
    "## 3.3 Text cleaning"
   ]
  },
  {
   "cell_type": "markdown",
   "metadata": {},
   "source": [
    "### 3.3.1 Stop Words"
   ]
  },
  {
   "cell_type": "markdown",
   "metadata": {},
   "source": [
    "Let's now proceed to eliminate the stopwords"
   ]
  },
  {
   "cell_type": "code",
   "execution_count": 10,
   "metadata": {
    "scrolled": true
   },
   "outputs": [
    {
     "data": {
      "text/html": [
       "<div>\n",
       "<style scoped>\n",
       "    .dataframe tbody tr th:only-of-type {\n",
       "        vertical-align: middle;\n",
       "    }\n",
       "\n",
       "    .dataframe tbody tr th {\n",
       "        vertical-align: top;\n",
       "    }\n",
       "\n",
       "    .dataframe thead th {\n",
       "        text-align: right;\n",
       "    }\n",
       "</style>\n",
       "<table border=\"1\" class=\"dataframe\">\n",
       "  <thead>\n",
       "    <tr style=\"text-align: right;\">\n",
       "      <th></th>\n",
       "      <th>tweet_text</th>\n",
       "      <th>emotion_type</th>\n",
       "      <th>product_mention</th>\n",
       "    </tr>\n",
       "  </thead>\n",
       "  <tbody>\n",
       "    <tr>\n",
       "      <th>0</th>\n",
       "      <td>.user monetwork tecproduct. 3 hrs tweeting trend, dead! need upgrade. plugin stations trend.</td>\n",
       "      <td>Not Positive emotion</td>\n",
       "      <td>Apple</td>\n",
       "    </tr>\n",
       "    <tr>\n",
       "      <th>1</th>\n",
       "      <td>user know user ? awesome tecproduct/tecproduct app likely appreciate design. also, they're giving free ts trend</td>\n",
       "      <td>Positive emotion</td>\n",
       "      <td>Apple</td>\n",
       "    </tr>\n",
       "    <tr>\n",
       "      <th>2</th>\n",
       "      <td>user wait tecproduct 2 also. sale trend.</td>\n",
       "      <td>Positive emotion</td>\n",
       "      <td>Apple</td>\n",
       "    </tr>\n",
       "    <tr>\n",
       "      <th>3</th>\n",
       "      <td>user hope year's festival crashy year's tecproduct app. trend</td>\n",
       "      <td>Not Positive emotion</td>\n",
       "      <td>Apple</td>\n",
       "    </tr>\n",
       "    <tr>\n",
       "      <th>4</th>\n",
       "      <td>user great stuff fri trend: marissa mayer (tecproduct), tim o'reilly (tech books/conferences) &amp;amp; matt mullenweg (wordpress)</td>\n",
       "      <td>Positive emotion</td>\n",
       "      <td>Google</td>\n",
       "    </tr>\n",
       "  </tbody>\n",
       "</table>\n",
       "</div>"
      ],
      "text/plain": [
       "                                                                                                                       tweet_text  \\\n",
       "0                                    .user monetwork tecproduct. 3 hrs tweeting trend, dead! need upgrade. plugin stations trend.   \n",
       "1                 user know user ? awesome tecproduct/tecproduct app likely appreciate design. also, they're giving free ts trend   \n",
       "2                                                                                        user wait tecproduct 2 also. sale trend.   \n",
       "3                                                                   user hope year's festival crashy year's tecproduct app. trend   \n",
       "4  user great stuff fri trend: marissa mayer (tecproduct), tim o'reilly (tech books/conferences) &amp; matt mullenweg (wordpress)   \n",
       "\n",
       "           emotion_type product_mention  \n",
       "0  Not Positive emotion           Apple  \n",
       "1      Positive emotion           Apple  \n",
       "2      Positive emotion           Apple  \n",
       "3  Not Positive emotion           Apple  \n",
       "4      Positive emotion          Google  "
      ]
     },
     "execution_count": 10,
     "metadata": {},
     "output_type": "execute_result"
    }
   ],
   "source": [
    "stopwords_to_remove = stopwords.words('english')\n",
    "\n",
    "df['tweet_text'] = df['tweet_text'].map(lambda x: ' '.join([word for word in x.split() if word not in stopwords_to_remove]))\n",
    "\n",
    "df.head()"
   ]
  },
  {
   "cell_type": "markdown",
   "metadata": {},
   "source": [
    "We will now proceed to remove strange characters and punctuation"
   ]
  },
  {
   "cell_type": "code",
   "execution_count": 11,
   "metadata": {},
   "outputs": [
    {
     "data": {
      "text/html": [
       "<div>\n",
       "<style scoped>\n",
       "    .dataframe tbody tr th:only-of-type {\n",
       "        vertical-align: middle;\n",
       "    }\n",
       "\n",
       "    .dataframe tbody tr th {\n",
       "        vertical-align: top;\n",
       "    }\n",
       "\n",
       "    .dataframe thead th {\n",
       "        text-align: right;\n",
       "    }\n",
       "</style>\n",
       "<table border=\"1\" class=\"dataframe\">\n",
       "  <thead>\n",
       "    <tr style=\"text-align: right;\">\n",
       "      <th></th>\n",
       "      <th>tweet_text</th>\n",
       "      <th>emotion_type</th>\n",
       "      <th>product_mention</th>\n",
       "    </tr>\n",
       "  </thead>\n",
       "  <tbody>\n",
       "    <tr>\n",
       "      <th>0</th>\n",
       "      <td>user monetwork tecproduct  3 hrs tweeting trend  dead  need upgrade  plugin stations trend</td>\n",
       "      <td>Not Positive emotion</td>\n",
       "      <td>Apple</td>\n",
       "    </tr>\n",
       "    <tr>\n",
       "      <th>1</th>\n",
       "      <td>user know user   awesome tecproduct tecproduct app likely appreciate design  also  they re giving free ts trend</td>\n",
       "      <td>Positive emotion</td>\n",
       "      <td>Apple</td>\n",
       "    </tr>\n",
       "    <tr>\n",
       "      <th>2</th>\n",
       "      <td>user wait tecproduct 2 also  sale trend</td>\n",
       "      <td>Positive emotion</td>\n",
       "      <td>Apple</td>\n",
       "    </tr>\n",
       "    <tr>\n",
       "      <th>3</th>\n",
       "      <td>user hope year s festival crashy year s tecproduct app  trend</td>\n",
       "      <td>Not Positive emotion</td>\n",
       "      <td>Apple</td>\n",
       "    </tr>\n",
       "    <tr>\n",
       "      <th>4</th>\n",
       "      <td>user great stuff fri trend  marissa mayer  tecproduct   tim o reilly  tech books conferences   amp  matt mullenweg  wordpress</td>\n",
       "      <td>Positive emotion</td>\n",
       "      <td>Google</td>\n",
       "    </tr>\n",
       "  </tbody>\n",
       "</table>\n",
       "</div>"
      ],
      "text/plain": [
       "                                                                                                                       tweet_text  \\\n",
       "0                                     user monetwork tecproduct  3 hrs tweeting trend  dead  need upgrade  plugin stations trend    \n",
       "1                 user know user   awesome tecproduct tecproduct app likely appreciate design  also  they re giving free ts trend   \n",
       "2                                                                                        user wait tecproduct 2 also  sale trend    \n",
       "3                                                                   user hope year s festival crashy year s tecproduct app  trend   \n",
       "4  user great stuff fri trend  marissa mayer  tecproduct   tim o reilly  tech books conferences   amp  matt mullenweg  wordpress    \n",
       "\n",
       "           emotion_type product_mention  \n",
       "0  Not Positive emotion           Apple  \n",
       "1      Positive emotion           Apple  \n",
       "2      Positive emotion           Apple  \n",
       "3  Not Positive emotion           Apple  \n",
       "4      Positive emotion          Google  "
      ]
     },
     "execution_count": 11,
     "metadata": {},
     "output_type": "execute_result"
    }
   ],
   "source": [
    "# Remove strange characters and punctuation\n",
    "strange_chars = '!\"$%&\\'()*+,-./:;<=>?[\\\\]^_`{|}~“!#Ûªåçûïòóêâîô¼¾½±°¤¦¬áàâäãåéèêëíìîïóòôöõúùûüýÿđøñìùđūöý'\n",
    "\n",
    "df['tweet_text'] = df['tweet_text'].map(lambda x: x.translate(str.maketrans(strange_chars, ' ' * len(strange_chars))))\n",
    "\n",
    "df.head()"
   ]
  },
  {
   "cell_type": "markdown",
   "metadata": {},
   "source": [
    "Now we shall proceed to eliminate numbers"
   ]
  },
  {
   "cell_type": "code",
   "execution_count": 12,
   "metadata": {},
   "outputs": [
    {
     "data": {
      "text/html": [
       "<div>\n",
       "<style scoped>\n",
       "    .dataframe tbody tr th:only-of-type {\n",
       "        vertical-align: middle;\n",
       "    }\n",
       "\n",
       "    .dataframe tbody tr th {\n",
       "        vertical-align: top;\n",
       "    }\n",
       "\n",
       "    .dataframe thead th {\n",
       "        text-align: right;\n",
       "    }\n",
       "</style>\n",
       "<table border=\"1\" class=\"dataframe\">\n",
       "  <thead>\n",
       "    <tr style=\"text-align: right;\">\n",
       "      <th></th>\n",
       "      <th>tweet_text</th>\n",
       "      <th>emotion_type</th>\n",
       "      <th>product_mention</th>\n",
       "    </tr>\n",
       "  </thead>\n",
       "  <tbody>\n",
       "    <tr>\n",
       "      <th>0</th>\n",
       "      <td>user monetwork tecproduct   hrs tweeting trend  dead  need upgrade  plugin stations trend</td>\n",
       "      <td>Not Positive emotion</td>\n",
       "      <td>Apple</td>\n",
       "    </tr>\n",
       "    <tr>\n",
       "      <th>1</th>\n",
       "      <td>user know user   awesome tecproduct tecproduct app likely appreciate design  also  they re giving free ts trend</td>\n",
       "      <td>Positive emotion</td>\n",
       "      <td>Apple</td>\n",
       "    </tr>\n",
       "    <tr>\n",
       "      <th>2</th>\n",
       "      <td>user wait tecproduct  also  sale trend</td>\n",
       "      <td>Positive emotion</td>\n",
       "      <td>Apple</td>\n",
       "    </tr>\n",
       "    <tr>\n",
       "      <th>3</th>\n",
       "      <td>user hope year s festival crashy year s tecproduct app  trend</td>\n",
       "      <td>Not Positive emotion</td>\n",
       "      <td>Apple</td>\n",
       "    </tr>\n",
       "    <tr>\n",
       "      <th>4</th>\n",
       "      <td>user great stuff fri trend  marissa mayer  tecproduct   tim o reilly  tech books conferences   amp  matt mullenweg  wordpress</td>\n",
       "      <td>Positive emotion</td>\n",
       "      <td>Google</td>\n",
       "    </tr>\n",
       "  </tbody>\n",
       "</table>\n",
       "</div>"
      ],
      "text/plain": [
       "                                                                                                                       tweet_text  \\\n",
       "0                                      user monetwork tecproduct   hrs tweeting trend  dead  need upgrade  plugin stations trend    \n",
       "1                 user know user   awesome tecproduct tecproduct app likely appreciate design  also  they re giving free ts trend   \n",
       "2                                                                                         user wait tecproduct  also  sale trend    \n",
       "3                                                                   user hope year s festival crashy year s tecproduct app  trend   \n",
       "4  user great stuff fri trend  marissa mayer  tecproduct   tim o reilly  tech books conferences   amp  matt mullenweg  wordpress    \n",
       "\n",
       "           emotion_type product_mention  \n",
       "0  Not Positive emotion           Apple  \n",
       "1      Positive emotion           Apple  \n",
       "2      Positive emotion           Apple  \n",
       "3  Not Positive emotion           Apple  \n",
       "4      Positive emotion          Google  "
      ]
     },
     "execution_count": 12,
     "metadata": {},
     "output_type": "execute_result"
    }
   ],
   "source": [
    "# Remove numbers\n",
    "df['tweet_text'] = df['tweet_text'].map(lambda x: re.sub(r'\\d+', '', x))\n",
    "\n",
    "df.head()"
   ]
  },
  {
   "cell_type": "markdown",
   "metadata": {},
   "source": [
    "We are going to eliminate letters that are on their own in each individual tweet"
   ]
  },
  {
   "cell_type": "code",
   "execution_count": 13,
   "metadata": {},
   "outputs": [
    {
     "data": {
      "text/html": [
       "<div>\n",
       "<style scoped>\n",
       "    .dataframe tbody tr th:only-of-type {\n",
       "        vertical-align: middle;\n",
       "    }\n",
       "\n",
       "    .dataframe tbody tr th {\n",
       "        vertical-align: top;\n",
       "    }\n",
       "\n",
       "    .dataframe thead th {\n",
       "        text-align: right;\n",
       "    }\n",
       "</style>\n",
       "<table border=\"1\" class=\"dataframe\">\n",
       "  <thead>\n",
       "    <tr style=\"text-align: right;\">\n",
       "      <th></th>\n",
       "      <th>tweet_text</th>\n",
       "      <th>emotion_type</th>\n",
       "      <th>product_mention</th>\n",
       "    </tr>\n",
       "  </thead>\n",
       "  <tbody>\n",
       "    <tr>\n",
       "      <th>0</th>\n",
       "      <td>user monetwork tecproduct hrs tweeting trend dead need upgrade plugin stations trend</td>\n",
       "      <td>Not Positive emotion</td>\n",
       "      <td>Apple</td>\n",
       "    </tr>\n",
       "    <tr>\n",
       "      <th>1</th>\n",
       "      <td>user know user awesome tecproduct tecproduct app likely appreciate design also they re giving free ts trend</td>\n",
       "      <td>Positive emotion</td>\n",
       "      <td>Apple</td>\n",
       "    </tr>\n",
       "    <tr>\n",
       "      <th>2</th>\n",
       "      <td>user wait tecproduct also sale trend</td>\n",
       "      <td>Positive emotion</td>\n",
       "      <td>Apple</td>\n",
       "    </tr>\n",
       "    <tr>\n",
       "      <th>3</th>\n",
       "      <td>user hope year festival crashy year tecproduct app trend</td>\n",
       "      <td>Not Positive emotion</td>\n",
       "      <td>Apple</td>\n",
       "    </tr>\n",
       "    <tr>\n",
       "      <th>4</th>\n",
       "      <td>user great stuff fri trend marissa mayer tecproduct tim reilly tech books conferences amp matt mullenweg wordpress</td>\n",
       "      <td>Positive emotion</td>\n",
       "      <td>Google</td>\n",
       "    </tr>\n",
       "  </tbody>\n",
       "</table>\n",
       "</div>"
      ],
      "text/plain": [
       "                                                                                                           tweet_text  \\\n",
       "0                                user monetwork tecproduct hrs tweeting trend dead need upgrade plugin stations trend   \n",
       "1         user know user awesome tecproduct tecproduct app likely appreciate design also they re giving free ts trend   \n",
       "2                                                                                user wait tecproduct also sale trend   \n",
       "3                                                            user hope year festival crashy year tecproduct app trend   \n",
       "4  user great stuff fri trend marissa mayer tecproduct tim reilly tech books conferences amp matt mullenweg wordpress   \n",
       "\n",
       "           emotion_type product_mention  \n",
       "0  Not Positive emotion           Apple  \n",
       "1      Positive emotion           Apple  \n",
       "2      Positive emotion           Apple  \n",
       "3  Not Positive emotion           Apple  \n",
       "4      Positive emotion          Google  "
      ]
     },
     "execution_count": 13,
     "metadata": {},
     "output_type": "execute_result"
    }
   ],
   "source": [
    "df['tweet_text'] = df['tweet_text'].map(lambda x: ' '.join([word for word in x.split() if len(word) > 1]))\n",
    "\n",
    "df.head()"
   ]
  },
  {
   "cell_type": "markdown",
   "metadata": {},
   "source": [
    "## 3.4 Lematization"
   ]
  },
  {
   "cell_type": "code",
   "execution_count": null,
   "metadata": {},
   "outputs": [],
   "source": [
    "# Initialize the WordNet lemmatizer\n",
    "lemmatizer = WordNetLemmatizer()\n",
    "\n",
    "# Lemmatize each word in tweet_text\n",
    "df['tweet_text'] = df['tweet_text'].map(lambda x: ' '.join([lemmatizer.lemmatize(word) for word in x.split()]))\n",
    "\n",
    "df.head()"
   ]
  },
  {
   "cell_type": "markdown",
   "metadata": {},
   "source": [
    "## 3.5 Tokenize"
   ]
  },
  {
   "cell_type": "code",
   "execution_count": 15,
   "metadata": {},
   "outputs": [
    {
     "data": {
      "text/html": [
       "<div>\n",
       "<style scoped>\n",
       "    .dataframe tbody tr th:only-of-type {\n",
       "        vertical-align: middle;\n",
       "    }\n",
       "\n",
       "    .dataframe tbody tr th {\n",
       "        vertical-align: top;\n",
       "    }\n",
       "\n",
       "    .dataframe thead th {\n",
       "        text-align: right;\n",
       "    }\n",
       "</style>\n",
       "<table border=\"1\" class=\"dataframe\">\n",
       "  <thead>\n",
       "    <tr style=\"text-align: right;\">\n",
       "      <th></th>\n",
       "      <th>tweet_text</th>\n",
       "      <th>emotion_type</th>\n",
       "      <th>product_mention</th>\n",
       "      <th>tweet_text_tokenized</th>\n",
       "    </tr>\n",
       "  </thead>\n",
       "  <tbody>\n",
       "    <tr>\n",
       "      <th>0</th>\n",
       "      <td>user monetwork tecproduct hr tweeting trend dead need upgrade plugin station trend</td>\n",
       "      <td>Not Positive emotion</td>\n",
       "      <td>Apple</td>\n",
       "      <td>[user, monetwork, tecproduct, hr, tweeting, trend, dead, need, upgrade, plugin, station, trend]</td>\n",
       "    </tr>\n",
       "    <tr>\n",
       "      <th>1</th>\n",
       "      <td>user know user awesome tecproduct tecproduct app likely appreciate design also they re giving free t trend</td>\n",
       "      <td>Positive emotion</td>\n",
       "      <td>Apple</td>\n",
       "      <td>[user, know, user, awesome, tecproduct, tecproduct, app, likely, appreciate, design, also, they, re, giving, free, t, trend]</td>\n",
       "    </tr>\n",
       "    <tr>\n",
       "      <th>2</th>\n",
       "      <td>user wait tecproduct also sale trend</td>\n",
       "      <td>Positive emotion</td>\n",
       "      <td>Apple</td>\n",
       "      <td>[user, wait, tecproduct, also, sale, trend]</td>\n",
       "    </tr>\n",
       "    <tr>\n",
       "      <th>3</th>\n",
       "      <td>user hope year festival crashy year tecproduct app trend</td>\n",
       "      <td>Not Positive emotion</td>\n",
       "      <td>Apple</td>\n",
       "      <td>[user, hope, year, festival, crashy, year, tecproduct, app, trend]</td>\n",
       "    </tr>\n",
       "    <tr>\n",
       "      <th>4</th>\n",
       "      <td>user great stuff fri trend marissa mayer tecproduct tim reilly tech book conference amp matt mullenweg wordpress</td>\n",
       "      <td>Positive emotion</td>\n",
       "      <td>Google</td>\n",
       "      <td>[user, great, stuff, fri, trend, marissa, mayer, tecproduct, tim, reilly, tech, book, conference, amp, matt, mullenweg, wordpress]</td>\n",
       "    </tr>\n",
       "  </tbody>\n",
       "</table>\n",
       "</div>"
      ],
      "text/plain": [
       "                                                                                                         tweet_text  \\\n",
       "0                                user monetwork tecproduct hr tweeting trend dead need upgrade plugin station trend   \n",
       "1        user know user awesome tecproduct tecproduct app likely appreciate design also they re giving free t trend   \n",
       "2                                                                              user wait tecproduct also sale trend   \n",
       "3                                                          user hope year festival crashy year tecproduct app trend   \n",
       "4  user great stuff fri trend marissa mayer tecproduct tim reilly tech book conference amp matt mullenweg wordpress   \n",
       "\n",
       "           emotion_type product_mention  \\\n",
       "0  Not Positive emotion           Apple   \n",
       "1      Positive emotion           Apple   \n",
       "2      Positive emotion           Apple   \n",
       "3  Not Positive emotion           Apple   \n",
       "4      Positive emotion          Google   \n",
       "\n",
       "                                                                                                                 tweet_text_tokenized  \n",
       "0                                     [user, monetwork, tecproduct, hr, tweeting, trend, dead, need, upgrade, plugin, station, trend]  \n",
       "1        [user, know, user, awesome, tecproduct, tecproduct, app, likely, appreciate, design, also, they, re, giving, free, t, trend]  \n",
       "2                                                                                         [user, wait, tecproduct, also, sale, trend]  \n",
       "3                                                                  [user, hope, year, festival, crashy, year, tecproduct, app, trend]  \n",
       "4  [user, great, stuff, fri, trend, marissa, mayer, tecproduct, tim, reilly, tech, book, conference, amp, matt, mullenweg, wordpress]  "
      ]
     },
     "execution_count": 15,
     "metadata": {},
     "output_type": "execute_result"
    }
   ],
   "source": [
    "# Tokenize the tweet_text\n",
    "df['tweet_text_tokenized'] = df['tweet_text'].map(lambda x: word_tokenize(x))\n",
    "\n",
    "df.head()"
   ]
  },
  {
   "cell_type": "markdown",
   "metadata": {},
   "source": [
    "## 3.6 Train test split"
   ]
  },
  {
   "cell_type": "markdown",
   "metadata": {},
   "source": [
    "Let's first define our variables"
   ]
  },
  {
   "cell_type": "code",
   "execution_count": 16,
   "metadata": {},
   "outputs": [],
   "source": [
    "y = df['emotion_type']\n",
    "X = df.drop(['emotion_type'], axis=1)"
   ]
  },
  {
   "cell_type": "markdown",
   "metadata": {},
   "source": [
    "We are going to transform the variable y to numeric. Because all models need their target to be numeric. We will use the LabelEncoder."
   ]
  },
  {
   "cell_type": "code",
   "execution_count": 17,
   "metadata": {},
   "outputs": [],
   "source": [
    "# Initialize the LabelEncoder\n",
    "label_encoder = LabelEncoder()\n",
    "\n",
    "# Fit the encoder and transform the 'emotion_type' column\n",
    "df['emotion_type_encoded'] = label_encoder.fit_transform(df['emotion_type'])\n",
    "\n",
    "# The result is a new column 'emotion_type_encoded' with numeric values\n",
    "y = df['emotion_type_encoded']"
   ]
  },
  {
   "cell_type": "code",
   "execution_count": 18,
   "metadata": {},
   "outputs": [],
   "source": [
    "# X is the feature set and y is the target variable\n",
    "X_train, X_test, y_train, y_test = train_test_split(X, y, test_size=0.35, random_state=42)"
   ]
  },
  {
   "cell_type": "markdown",
   "metadata": {},
   "source": [
    "Let's compare the shapes of y_test and y_train to see if they're somewhat similar"
   ]
  },
  {
   "cell_type": "code",
   "execution_count": 19,
   "metadata": {},
   "outputs": [
    {
     "data": {
      "text/plain": [
       "0    0.655877\n",
       "1    0.344123\n",
       "Name: emotion_type_encoded, dtype: float64"
      ]
     },
     "execution_count": 19,
     "metadata": {},
     "output_type": "execute_result"
    }
   ],
   "source": [
    "y_test.value_counts(normalize=True)"
   ]
  },
  {
   "cell_type": "code",
   "execution_count": 20,
   "metadata": {},
   "outputs": [
    {
     "data": {
      "text/plain": [
       "0    0.643355\n",
       "1    0.356645\n",
       "Name: emotion_type_encoded, dtype: float64"
      ]
     },
     "execution_count": 20,
     "metadata": {},
     "output_type": "execute_result"
    }
   ],
   "source": [
    "y_train.value_counts(normalize=True)"
   ]
  },
  {
   "cell_type": "markdown",
   "metadata": {},
   "source": [
    "Let's see a description of the distributions"
   ]
  },
  {
   "cell_type": "code",
   "execution_count": 21,
   "metadata": {},
   "outputs": [
    {
     "data": {
      "image/png": "[encoded data removed]",
      "text/plain": [
       "<Figure size 1008x504 with 2 Axes>"
      ]
     },
     "metadata": {
      "needs_background": "light"
     },
     "output_type": "display_data"
    }
   ],
   "source": [
    "# Create a larger figure\n",
    "plt.figure(figsize=(14, 7))\n",
    "\n",
    "# y_test Distribution\n",
    "plt.subplot(1, 2, 1)\n",
    "y_test_counts = y_test.value_counts(normalize=True)\n",
    "y_test_abs_counts = y_test.value_counts()\n",
    "\n",
    "y_test_counts.plot(kind='bar', color='skyblue')\n",
    "plt.title('y_test Distribution')\n",
    "plt.xlabel('Emotion Type')\n",
    "plt.ylabel('Proportion')\n",
    "\n",
    "for i, (count, pct) in enumerate(zip(y_test_abs_counts, y_test_counts)):\n",
    "    vertical_position = pct + 0.002 if pct > 0.5 else pct + 0.01  # Small offset for larger bars\n",
    "    plt.text(i, vertical_position, f'{count}\\n({pct:.2%})', ha='center', va='bottom', fontsize=7)\n",
    "\n",
    "# y_train Distribution\n",
    "plt.subplot(1, 2, 2)\n",
    "y_train_counts = y_train.value_counts(normalize=True)\n",
    "y_train_abs_counts = y_train.value_counts()\n",
    "\n",
    "y_train_counts.plot(kind='bar', color='lightgreen')\n",
    "plt.title('y_train Distribution')\n",
    "plt.xlabel('Emotion Type')\n",
    "plt.ylabel('Proportion')\n",
    "\n",
    "for i, (count, pct) in enumerate(zip(y_train_abs_counts, y_train_counts)):\n",
    "    vertical_position = pct + 0.002 if pct > 0.5 else pct + 0.01  # Small offset for larger bars\n",
    "    plt.text(i, vertical_position, f'{count}\\n({pct:.2%})', ha='center', va='bottom', fontsize=7.5)\n",
    "\n",
    "# Adjust layout to make more space around the plots\n",
    "plt.tight_layout()\n",
    "plt.subplots_adjust(left=0.05, right=0.95, top=0.9, bottom=0.1)\n",
    "plt.show()\n"
   ]
  },
  {
   "cell_type": "markdown",
   "metadata": {},
   "source": [
    "## 3.7 TFIDF"
   ]
  },
  {
   "cell_type": "markdown",
   "metadata": {},
   "source": [
    "Before starting the procedure of vectorizing our corpus with tfidf, we want to use the a descriptive chart with the cumulative relative frequency of the words in the corpus so we can know the best threshold to set in the vectorizing process."
   ]
  },
  {
   "cell_type": "code",
   "execution_count": 22,
   "metadata": {
    "scrolled": false
   },
   "outputs": [
    {
     "data": {
      "image/png": "[encoded data removed]",
      "text/plain": [
       "<Figure size 720x432 with 1 Axes>"
      ]
     },
     "metadata": {
      "needs_background": "light"
     },
     "output_type": "display_data"
    }
   ],
   "source": [
    "# Flatten the list of lists into a single list\n",
    "corpus = [word for sublist in X_train['tweet_text_tokenized'] for word in sublist]  \n",
    "\n",
    "# Count the frequency of each word\n",
    "word_freq = Counter(corpus)\n",
    "\n",
    "# Convert the word frequency to a pandas DataFrame\n",
    "word_freq_df = pd.DataFrame(word_freq.items(), columns=['Word', 'Frequency'])\n",
    "\n",
    "# Sort the DataFrame by frequency in descending order\n",
    "word_freq_df = word_freq_df.sort_values(by='Frequency', ascending=False).reset_index(drop=True)\n",
    "\n",
    "# Calculate the cumulative frequency and cumulative relative frequency\n",
    "word_freq_df['Cumulative Frequency'] = word_freq_df['Frequency'].cumsum()\n",
    "word_freq_df['Cumulative Relative Frequency'] = word_freq_df['Cumulative Frequency'] / word_freq_df['Frequency'].sum()\n",
    "\n",
    "# Find the rank where the cumulative relative frequency reaches 80%\n",
    "rank_80_percent = word_freq_df[word_freq_df['Cumulative Relative Frequency'] >= 0.8].index[0] + 1\n",
    "cumulative_80_percent = word_freq_df.loc[rank_80_percent - 1, 'Cumulative Relative Frequency']\n",
    "\n",
    "# Find the rank where the cumulative relative frequency reaches 90%\n",
    "rank_90_percent = word_freq_df[word_freq_df['Cumulative Relative Frequency'] >= 0.9].index[0] + 1\n",
    "cumulative_90_percent = word_freq_df.loc[rank_90_percent - 1, 'Cumulative Relative Frequency']\n",
    "\n",
    "# Find the rank where the cumulative relative frequency reaches 95%\n",
    "rank_95_percent = word_freq_df[word_freq_df['Cumulative Relative Frequency'] >= 0.95].index[0] + 1\n",
    "cumulative_95_percent = word_freq_df.loc[rank_95_percent - 1, 'Cumulative Relative Frequency']\n",
    "\n",
    "# Plot the cumulative relative frequency distribution\n",
    "plt.figure(figsize=(10, 6))\n",
    "plt.plot(np.arange(1, len(word_freq_df) + 1), word_freq_df['Cumulative Relative Frequency'], marker='o')\n",
    "plt.title('Cumulative Relative Frequency Distribution of Words')\n",
    "plt.xlabel('Rank of Word')\n",
    "plt.ylabel('Cumulative Relative Frequency')\n",
    "\n",
    "# Mark the point where the cumulative relative frequency reaches 80%\n",
    "plt.scatter(rank_80_percent, cumulative_80_percent, color='red', label=f'80% at Rank {rank_80_percent}')\n",
    "plt.axvline(x=rank_80_percent, color='red', linestyle='--')\n",
    "plt.axhline(y=cumulative_80_percent, color='red', linestyle='--')\n",
    "\n",
    "# Mark the point where the cumulative relative frequency reaches 90%\n",
    "plt.scatter(rank_90_percent, cumulative_90_percent, color='green', label=f'90% at Rank {rank_90_percent}')\n",
    "plt.axvline(x=rank_90_percent, color='green', linestyle='--')\n",
    "plt.axhline(y=cumulative_90_percent, color='green', linestyle='--')\n",
    "\n",
    "# Mark the point where the cumulative relative frequency reaches 95%\n",
    "plt.scatter(rank_95_percent, cumulative_95_percent, color='blue', label=f'95% at Rank {rank_95_percent}')\n",
    "plt.axvline(x=rank_95_percent, color='blue', linestyle='--')\n",
    "plt.axhline(y=cumulative_95_percent, color='blue', linestyle='--')\n",
    "\n",
    "plt.legend()\n",
    "plt.grid(True)\n",
    "plt.show()\n"
   ]
  },
  {
   "cell_type": "markdown",
   "metadata": {},
   "source": [
    "As we can see, by only using 615 words, we have 80% of our entire corpus. And using 1598 words, we have a 90% of our entire corpus. With that in mind, in the past, we thought it made sense to use max_features of 80% in the vectorization process given that we wouldn't win much if we considered 1598 words as it only a gain of 10% more.\n",
    "\n",
    "However, the results were not convincing and so we decided to eliminate the threshold and to get all the words. In this way we mitigated overfitting and improved the confusion matrix that is shown in notebook 03_modelling."
   ]
  },
  {
   "cell_type": "markdown",
   "metadata": {},
   "source": [
    "Knowing our max_features number, let's proceed and do the calculations of tfidf"
   ]
  },
  {
   "cell_type": "code",
   "execution_count": 23,
   "metadata": {},
   "outputs": [
    {
     "data": {
      "text/html": [
       "<div>\n",
       "<style scoped>\n",
       "    .dataframe tbody tr th:only-of-type {\n",
       "        vertical-align: middle;\n",
       "    }\n",
       "\n",
       "    .dataframe tbody tr th {\n",
       "        vertical-align: top;\n",
       "    }\n",
       "\n",
       "    .dataframe thead th {\n",
       "        text-align: right;\n",
       "    }\n",
       "</style>\n",
       "<table border=\"1\" class=\"dataframe\">\n",
       "  <thead>\n",
       "    <tr style=\"text-align: right;\">\n",
       "      <th></th>\n",
       "      <th>aapl</th>\n",
       "      <th>aaron</th>\n",
       "      <th>ab</th>\n",
       "      <th>abacus</th>\n",
       "      <th>abba</th>\n",
       "      <th>abc</th>\n",
       "      <th>aber</th>\n",
       "      <th>ability</th>\n",
       "      <th>able</th>\n",
       "      <th>abnormal</th>\n",
       "      <th>...</th>\n",
       "      <th>zimride</th>\n",
       "      <th>zing</th>\n",
       "      <th>zite</th>\n",
       "      <th>zms</th>\n",
       "      <th>zombie</th>\n",
       "      <th>zomg</th>\n",
       "      <th>zone</th>\n",
       "      <th>zoom</th>\n",
       "      <th>zynga</th>\n",
       "      <th>zzzs</th>\n",
       "    </tr>\n",
       "  </thead>\n",
       "  <tbody>\n",
       "    <tr>\n",
       "      <th>8236</th>\n",
       "      <td>0.0</td>\n",
       "      <td>0.0</td>\n",
       "      <td>0.0</td>\n",
       "      <td>0.0</td>\n",
       "      <td>0.0</td>\n",
       "      <td>0.0</td>\n",
       "      <td>0.0</td>\n",
       "      <td>0.0</td>\n",
       "      <td>0.0</td>\n",
       "      <td>0.0</td>\n",
       "      <td>...</td>\n",
       "      <td>0.0</td>\n",
       "      <td>0.0</td>\n",
       "      <td>0.0</td>\n",
       "      <td>0.0</td>\n",
       "      <td>0.0</td>\n",
       "      <td>0.0</td>\n",
       "      <td>0.0</td>\n",
       "      <td>0.0</td>\n",
       "      <td>0.0</td>\n",
       "      <td>0.0</td>\n",
       "    </tr>\n",
       "    <tr>\n",
       "      <th>6433</th>\n",
       "      <td>0.0</td>\n",
       "      <td>0.0</td>\n",
       "      <td>0.0</td>\n",
       "      <td>0.0</td>\n",
       "      <td>0.0</td>\n",
       "      <td>0.0</td>\n",
       "      <td>0.0</td>\n",
       "      <td>0.0</td>\n",
       "      <td>0.0</td>\n",
       "      <td>0.0</td>\n",
       "      <td>...</td>\n",
       "      <td>0.0</td>\n",
       "      <td>0.0</td>\n",
       "      <td>0.0</td>\n",
       "      <td>0.0</td>\n",
       "      <td>0.0</td>\n",
       "      <td>0.0</td>\n",
       "      <td>0.0</td>\n",
       "      <td>0.0</td>\n",
       "      <td>0.0</td>\n",
       "      <td>0.0</td>\n",
       "    </tr>\n",
       "    <tr>\n",
       "      <th>6987</th>\n",
       "      <td>0.0</td>\n",
       "      <td>0.0</td>\n",
       "      <td>0.0</td>\n",
       "      <td>0.0</td>\n",
       "      <td>0.0</td>\n",
       "      <td>0.0</td>\n",
       "      <td>0.0</td>\n",
       "      <td>0.0</td>\n",
       "      <td>0.0</td>\n",
       "      <td>0.0</td>\n",
       "      <td>...</td>\n",
       "      <td>0.0</td>\n",
       "      <td>0.0</td>\n",
       "      <td>0.0</td>\n",
       "      <td>0.0</td>\n",
       "      <td>0.0</td>\n",
       "      <td>0.0</td>\n",
       "      <td>0.0</td>\n",
       "      <td>0.0</td>\n",
       "      <td>0.0</td>\n",
       "      <td>0.0</td>\n",
       "    </tr>\n",
       "    <tr>\n",
       "      <th>952</th>\n",
       "      <td>0.0</td>\n",
       "      <td>0.0</td>\n",
       "      <td>0.0</td>\n",
       "      <td>0.0</td>\n",
       "      <td>0.0</td>\n",
       "      <td>0.0</td>\n",
       "      <td>0.0</td>\n",
       "      <td>0.0</td>\n",
       "      <td>0.0</td>\n",
       "      <td>0.0</td>\n",
       "      <td>...</td>\n",
       "      <td>0.0</td>\n",
       "      <td>0.0</td>\n",
       "      <td>0.0</td>\n",
       "      <td>0.0</td>\n",
       "      <td>0.0</td>\n",
       "      <td>0.0</td>\n",
       "      <td>0.0</td>\n",
       "      <td>0.0</td>\n",
       "      <td>0.0</td>\n",
       "      <td>0.0</td>\n",
       "    </tr>\n",
       "    <tr>\n",
       "      <th>5769</th>\n",
       "      <td>0.0</td>\n",
       "      <td>0.0</td>\n",
       "      <td>0.0</td>\n",
       "      <td>0.0</td>\n",
       "      <td>0.0</td>\n",
       "      <td>0.0</td>\n",
       "      <td>0.0</td>\n",
       "      <td>0.0</td>\n",
       "      <td>0.0</td>\n",
       "      <td>0.0</td>\n",
       "      <td>...</td>\n",
       "      <td>0.0</td>\n",
       "      <td>0.0</td>\n",
       "      <td>0.0</td>\n",
       "      <td>0.0</td>\n",
       "      <td>0.0</td>\n",
       "      <td>0.0</td>\n",
       "      <td>0.0</td>\n",
       "      <td>0.0</td>\n",
       "      <td>0.0</td>\n",
       "      <td>0.0</td>\n",
       "    </tr>\n",
       "    <tr>\n",
       "      <th>...</th>\n",
       "      <td>...</td>\n",
       "      <td>...</td>\n",
       "      <td>...</td>\n",
       "      <td>...</td>\n",
       "      <td>...</td>\n",
       "      <td>...</td>\n",
       "      <td>...</td>\n",
       "      <td>...</td>\n",
       "      <td>...</td>\n",
       "      <td>...</td>\n",
       "      <td>...</td>\n",
       "      <td>...</td>\n",
       "      <td>...</td>\n",
       "      <td>...</td>\n",
       "      <td>...</td>\n",
       "      <td>...</td>\n",
       "      <td>...</td>\n",
       "      <td>...</td>\n",
       "      <td>...</td>\n",
       "      <td>...</td>\n",
       "      <td>...</td>\n",
       "    </tr>\n",
       "    <tr>\n",
       "      <th>5734</th>\n",
       "      <td>0.0</td>\n",
       "      <td>0.0</td>\n",
       "      <td>0.0</td>\n",
       "      <td>0.0</td>\n",
       "      <td>0.0</td>\n",
       "      <td>0.0</td>\n",
       "      <td>0.0</td>\n",
       "      <td>0.0</td>\n",
       "      <td>0.0</td>\n",
       "      <td>0.0</td>\n",
       "      <td>...</td>\n",
       "      <td>0.0</td>\n",
       "      <td>0.0</td>\n",
       "      <td>0.0</td>\n",
       "      <td>0.0</td>\n",
       "      <td>0.0</td>\n",
       "      <td>0.0</td>\n",
       "      <td>0.0</td>\n",
       "      <td>0.0</td>\n",
       "      <td>0.0</td>\n",
       "      <td>0.0</td>\n",
       "    </tr>\n",
       "    <tr>\n",
       "      <th>5191</th>\n",
       "      <td>0.0</td>\n",
       "      <td>0.0</td>\n",
       "      <td>0.0</td>\n",
       "      <td>0.0</td>\n",
       "      <td>0.0</td>\n",
       "      <td>0.0</td>\n",
       "      <td>0.0</td>\n",
       "      <td>0.0</td>\n",
       "      <td>0.0</td>\n",
       "      <td>0.0</td>\n",
       "      <td>...</td>\n",
       "      <td>0.0</td>\n",
       "      <td>0.0</td>\n",
       "      <td>0.0</td>\n",
       "      <td>0.0</td>\n",
       "      <td>0.0</td>\n",
       "      <td>0.0</td>\n",
       "      <td>0.0</td>\n",
       "      <td>0.0</td>\n",
       "      <td>0.0</td>\n",
       "      <td>0.0</td>\n",
       "    </tr>\n",
       "    <tr>\n",
       "      <th>5390</th>\n",
       "      <td>0.0</td>\n",
       "      <td>0.0</td>\n",
       "      <td>0.0</td>\n",
       "      <td>0.0</td>\n",
       "      <td>0.0</td>\n",
       "      <td>0.0</td>\n",
       "      <td>0.0</td>\n",
       "      <td>0.0</td>\n",
       "      <td>0.0</td>\n",
       "      <td>0.0</td>\n",
       "      <td>...</td>\n",
       "      <td>0.0</td>\n",
       "      <td>0.0</td>\n",
       "      <td>0.0</td>\n",
       "      <td>0.0</td>\n",
       "      <td>0.0</td>\n",
       "      <td>0.0</td>\n",
       "      <td>0.0</td>\n",
       "      <td>0.0</td>\n",
       "      <td>0.0</td>\n",
       "      <td>0.0</td>\n",
       "    </tr>\n",
       "    <tr>\n",
       "      <th>860</th>\n",
       "      <td>0.0</td>\n",
       "      <td>0.0</td>\n",
       "      <td>0.0</td>\n",
       "      <td>0.0</td>\n",
       "      <td>0.0</td>\n",
       "      <td>0.0</td>\n",
       "      <td>0.0</td>\n",
       "      <td>0.0</td>\n",
       "      <td>0.0</td>\n",
       "      <td>0.0</td>\n",
       "      <td>...</td>\n",
       "      <td>0.0</td>\n",
       "      <td>0.0</td>\n",
       "      <td>0.0</td>\n",
       "      <td>0.0</td>\n",
       "      <td>0.0</td>\n",
       "      <td>0.0</td>\n",
       "      <td>0.0</td>\n",
       "      <td>0.0</td>\n",
       "      <td>0.0</td>\n",
       "      <td>0.0</td>\n",
       "    </tr>\n",
       "    <tr>\n",
       "      <th>7270</th>\n",
       "      <td>0.0</td>\n",
       "      <td>0.0</td>\n",
       "      <td>0.0</td>\n",
       "      <td>0.0</td>\n",
       "      <td>0.0</td>\n",
       "      <td>0.0</td>\n",
       "      <td>0.0</td>\n",
       "      <td>0.0</td>\n",
       "      <td>0.0</td>\n",
       "      <td>0.0</td>\n",
       "      <td>...</td>\n",
       "      <td>0.0</td>\n",
       "      <td>0.0</td>\n",
       "      <td>0.0</td>\n",
       "      <td>0.0</td>\n",
       "      <td>0.0</td>\n",
       "      <td>0.0</td>\n",
       "      <td>0.0</td>\n",
       "      <td>0.0</td>\n",
       "      <td>0.0</td>\n",
       "      <td>0.0</td>\n",
       "    </tr>\n",
       "  </tbody>\n",
       "</table>\n",
       "<p>5448 rows × 5918 columns</p>\n",
       "</div>"
      ],
      "text/plain": [
       "      aapl  aaron   ab  abacus  abba  abc  aber  ability  able  abnormal  ...  \\\n",
       "8236   0.0    0.0  0.0     0.0   0.0  0.0   0.0      0.0   0.0       0.0  ...   \n",
       "6433   0.0    0.0  0.0     0.0   0.0  0.0   0.0      0.0   0.0       0.0  ...   \n",
       "6987   0.0    0.0  0.0     0.0   0.0  0.0   0.0      0.0   0.0       0.0  ...   \n",
       "952    0.0    0.0  0.0     0.0   0.0  0.0   0.0      0.0   0.0       0.0  ...   \n",
       "5769   0.0    0.0  0.0     0.0   0.0  0.0   0.0      0.0   0.0       0.0  ...   \n",
       "...    ...    ...  ...     ...   ...  ...   ...      ...   ...       ...  ...   \n",
       "5734   0.0    0.0  0.0     0.0   0.0  0.0   0.0      0.0   0.0       0.0  ...   \n",
       "5191   0.0    0.0  0.0     0.0   0.0  0.0   0.0      0.0   0.0       0.0  ...   \n",
       "5390   0.0    0.0  0.0     0.0   0.0  0.0   0.0      0.0   0.0       0.0  ...   \n",
       "860    0.0    0.0  0.0     0.0   0.0  0.0   0.0      0.0   0.0       0.0  ...   \n",
       "7270   0.0    0.0  0.0     0.0   0.0  0.0   0.0      0.0   0.0       0.0  ...   \n",
       "\n",
       "      zimride  zing  zite  zms  zombie  zomg  zone  zoom  zynga  zzzs  \n",
       "8236      0.0   0.0   0.0  0.0     0.0   0.0   0.0   0.0    0.0   0.0  \n",
       "6433      0.0   0.0   0.0  0.0     0.0   0.0   0.0   0.0    0.0   0.0  \n",
       "6987      0.0   0.0   0.0  0.0     0.0   0.0   0.0   0.0    0.0   0.0  \n",
       "952       0.0   0.0   0.0  0.0     0.0   0.0   0.0   0.0    0.0   0.0  \n",
       "5769      0.0   0.0   0.0  0.0     0.0   0.0   0.0   0.0    0.0   0.0  \n",
       "...       ...   ...   ...  ...     ...   ...   ...   ...    ...   ...  \n",
       "5734      0.0   0.0   0.0  0.0     0.0   0.0   0.0   0.0    0.0   0.0  \n",
       "5191      0.0   0.0   0.0  0.0     0.0   0.0   0.0   0.0    0.0   0.0  \n",
       "5390      0.0   0.0   0.0  0.0     0.0   0.0   0.0   0.0    0.0   0.0  \n",
       "860       0.0   0.0   0.0  0.0     0.0   0.0   0.0   0.0    0.0   0.0  \n",
       "7270      0.0   0.0   0.0  0.0     0.0   0.0   0.0   0.0    0.0   0.0  \n",
       "\n",
       "[5448 rows x 5918 columns]"
      ]
     },
     "execution_count": 23,
     "metadata": {},
     "output_type": "execute_result"
    }
   ],
   "source": [
    "# Step 1: Initialize the TfidfVectorizer with the desired max_features parameter\n",
    "tfidf_vectorizer = TfidfVectorizer()\n",
    "\n",
    "# Step 2: Fit the vectorizer on the tweet texts and transform the data into TF-IDF features\n",
    "tfidf_matrix_train = tfidf_vectorizer.fit_transform(X_train['tweet_text'])\n",
    "\n",
    "# Step 3: Convert the TF-IDF matrix to a DataFrame for easier interpretation\n",
    "# The DataFrame will have words as columns and documents as rows, with each cell containing the TF-IDF score\n",
    "tfidf_df_train = pd.DataFrame(tfidf_matrix_train.toarray(), \n",
    "                              columns=tfidf_vectorizer.get_feature_names_out(),\n",
    "                              index=X_train.index) # Keep the original index\n",
    "\n",
    "tfidf_df_train"
   ]
  },
  {
   "cell_type": "markdown",
   "metadata": {},
   "source": [
    "Now, let's apply the tf-idf on the X_test"
   ]
  },
  {
   "cell_type": "code",
   "execution_count": null,
   "metadata": {},
   "outputs": [],
   "source": [
    "# Step 1: Transform the tweet texts on the X_test with the vectorizer and transform the data into TF-IDF features\n",
    "tfidf_matrix_test = tfidf_vectorizer.transform(X_test['tweet_text'])\n",
    "\n",
    "# Step 2: Convert the TF-IDF matrix to a DataFrame for easier interpretation\n",
    "# The DataFrame will have words as columns and documents as rows, with each cell containing the TF-IDF score\n",
    "tfidf_df_test = pd.DataFrame(tfidf_matrix_test.toarray(), \n",
    "                             columns=tfidf_vectorizer.get_feature_names_out(), \n",
    "                             index=X_test.index) # Keep the original index)\n",
    "\n",
    "tfidf_df_test"
   ]
  },
  {
   "cell_type": "markdown",
   "metadata": {},
   "source": [
    "We are first going to merge the product_mention and the y_train, y_test columns to tfidf_df_train and tfidf_df_test separately."
   ]
  },
  {
   "cell_type": "code",
   "execution_count": null,
   "metadata": {},
   "outputs": [],
   "source": [
    "# For tfidf_df_train. Let's join tfidf_df_train and X_train by index\n",
    "df_train = X_train[['product_mention']].join(tfidf_df_train)\n",
    "\n",
    "# Let's now join y_train with df_train\n",
    "df_train = df_train.join(y_train)\n",
    "\n",
    "df_train"
   ]
  },
  {
   "cell_type": "code",
   "execution_count": null,
   "metadata": {},
   "outputs": [],
   "source": [
    "# For tfidf_df_test. Let's join tfidf_df_test and X_test by index\n",
    "df_test = X_test[['product_mention']].join(tfidf_df_test)\n",
    "\n",
    "# Let's now join y_test with df_test\n",
    "df_test = df_test.join(y_test)\n",
    "\n",
    "df_test"
   ]
  },
  {
   "cell_type": "markdown",
   "metadata": {},
   "source": [
    "We shall now proceed to save the pickle of the tfidf_vectorizer"
   ]
  },
  {
   "cell_type": "code",
   "execution_count": null,
   "metadata": {},
   "outputs": [],
   "source": [
    "# Save the tfidf_vectorizer in a pickle folder called pickle_objects\n",
    "with open('pickle_objects/tfidf_vectorizer.pkl', 'wb') as file:\n",
    "    pickle.dump(tfidf_vectorizer, file)"
   ]
  },
  {
   "cell_type": "markdown",
   "metadata": {},
   "source": [
    "Let's do a one hot encoder on the product_mention column of df_train"
   ]
  },
  {
   "cell_type": "code",
   "execution_count": null,
   "metadata": {},
   "outputs": [],
   "source": [
    "# Initialize the OneHotEncoder\n",
    "onehot_encoder = OneHotEncoder(sparse=False, drop='first')  # drop='first' to avoid dummy variable trap\n",
    "\n",
    "# Fit and transform the 'product_mention' column\n",
    "encoded_features = onehot_encoder.fit_transform(df_train[['product_mention']])\n",
    "\n",
    "# Convert the array back to a DataFrame\n",
    "encoded_df = pd.DataFrame(encoded_features, columns=onehot_encoder.get_feature_names_out(['product_mention']))\n",
    "\n",
    "# Concatenate the encoded columns back to the original DataFrame\n",
    "df_train_encoded = pd.concat([df_train.reset_index(drop=True), encoded_df], axis=1)\n",
    "\n",
    "# Drop the 'product_mention' column\n",
    "df_train_encoded.drop('product_mention', axis=1, inplace=True)\n",
    "\n",
    "# Display the DataFrame with the encoded columns\n",
    "df_train_encoded.head()"
   ]
  },
  {
   "cell_type": "markdown",
   "metadata": {},
   "source": [
    "Let's do the One Hot Encoder for X_test"
   ]
  },
  {
   "cell_type": "code",
   "execution_count": null,
   "metadata": {},
   "outputs": [],
   "source": [
    "# Transform the 'product_mention' column\n",
    "encoded_features = onehot_encoder.transform(df_test[['product_mention']])\n",
    "\n",
    "# Convert the array back to a DataFrame\n",
    "encoded_df = pd.DataFrame(encoded_features, columns=onehot_encoder.get_feature_names_out(['product_mention']))\n",
    "\n",
    "# Concatenate the encoded columns back to the original DataFrame\n",
    "df_test_encoded = pd.concat([df_test.reset_index(drop=True), encoded_df], axis=1)\n",
    "\n",
    "# Drop the 'product_mention' column\n",
    "df_test_encoded.drop('product_mention', axis=1, inplace=True)\n",
    "\n",
    "# Display the DataFrame with the encoded columns\n",
    "df_test_encoded.head()"
   ]
  },
  {
   "cell_type": "markdown",
   "metadata": {},
   "source": [
    "Let's save the pickle for the One Hot Encoder"
   ]
  },
  {
   "cell_type": "code",
   "execution_count": null,
   "metadata": {},
   "outputs": [],
   "source": [
    "# Save the ohe in a pickle folder called pickle_objects\n",
    "with open('pickle_objects/ohe.pkl', 'wb') as file:\n",
    "    pickle.dump(onehot_encoder, file)"
   ]
  },
  {
   "cell_type": "markdown",
   "metadata": {},
   "source": [
    "# 4. Export to csv"
   ]
  },
  {
   "cell_type": "code",
   "execution_count": null,
   "metadata": {},
   "outputs": [],
   "source": [
    "# Save df_train_encoded to a CSV file\n",
    "df_train_encoded.to_csv('data/train_processed_prueba.csv', index=False)\n",
    "# The index=False argument ensures that the DataFrame index is not written to the file\n",
    "\n",
    "# Save df_test_encoded to a CSV file\n",
    "df_test_encoded.to_csv('data/test_processed_prueba.csv', index=False)"
   ]
  }
 ],
 "metadata": {
  "kernelspec": {
   "display_name": "Python 3.12.4",
   "language": "python",
   "name": "nombre_del_kernel"
  },
  "language_info": {
   "codemirror_mode": {
    "name": "ipython",
    "version": 3
   },
   "file_extension": ".py",
   "mimetype": "text/x-python",
   "name": "python",
   "nbconvert_exporter": "python",
   "pygments_lexer": "ipython3",
   "version": "3.8.5"
  }
 },
 "nbformat": 4,
 "nbformat_minor": 4
}
