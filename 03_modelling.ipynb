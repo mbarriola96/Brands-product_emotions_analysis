{
 "cells": [
  {
   "cell_type": "markdown",
   "metadata": {},
   "source": [
    "# 1. Overview"
   ]
  },
  {
   "cell_type": "code",
   "execution_count": null,
   "metadata": {},
   "outputs": [],
   "source": []
  },
  {
   "cell_type": "markdown",
   "metadata": {},
   "source": [
    "# 2. Import Necessary Libraries"
   ]
  },
  {
   "cell_type": "code",
   "execution_count": 1,
   "metadata": {},
   "outputs": [],
   "source": [
    "import pandas as pd\n",
    "import numpy as np\n",
    "import seaborn as sns\n",
    "import matplotlib.pyplot as plt\n",
    "from sklearn.metrics import f1_score\n",
    "from sklearn.ensemble import RandomForestClassifier\n",
    "from sklearn.metrics import confusion_matrix"
   ]
  },
  {
   "cell_type": "markdown",
   "metadata": {},
   "source": [
    "# 3. Define Global Variables"
   ]
  },
  {
   "cell_type": "code",
   "execution_count": 2,
   "metadata": {},
   "outputs": [],
   "source": [
    "input_X_train_path = 'data/train_processed.csv'\n",
    "input_X_test_path = 'data/test_processed.csv'"
   ]
  },
  {
   "cell_type": "markdown",
   "metadata": {},
   "source": [
    "# 4. Functions"
   ]
  },
  {
   "cell_type": "code",
   "execution_count": 10,
   "metadata": {},
   "outputs": [],
   "source": [
    "def plot_confusion_matrix_and_f1(y_test, y_pred, title='Confusion Matrix'):\n",
    "    \"\"\"\n",
    "    This function plots a confusion matrix and calculates the F1 score.\n",
    "\n",
    "    Parameters:\n",
    "    y_test (array-like): True labels\n",
    "    y_pred (array-like): Predicted labels\n",
    "    title (str): Title for the confusion matrix plot\n",
    "\n",
    "    Returns:\n",
    "    float: The weighted F1 score\n",
    "    \"\"\"\n",
    "\n",
    "    # Predefined labels list\n",
    "    labels_list = [\"Negative emotion\", \"Positive emotion\", \"No emotion\"]\n",
    "\n",
    "    # Generate the confusion matrix\n",
    "    conf_matrix = confusion_matrix(y_test, y_pred, labels=[0, 1, 2])\n",
    "\n",
    "    # Calculate percentages\n",
    "    conf_matrix_percent = conf_matrix.astype('float') / conf_matrix.sum(axis=1)[:, np.newaxis] * 100\n",
    "\n",
    "    # Combine the count and the percentage into one annotation\n",
    "    labels = [f\"{count}\\n{percent:.2f}%\" for count, percent in zip(conf_matrix.flatten(), conf_matrix_percent.flatten())]\n",
    "    labels = np.asarray(labels).reshape(3, 3)\n",
    "\n",
    "    # Plot the confusion matrix without the color bar\n",
    "    plt.figure(figsize=(8, 6))\n",
    "    sns.heatmap(conf_matrix, annot=labels, fmt=\"\", cmap=\"Blues\", cbar=False, \n",
    "                xticklabels=labels_list, \n",
    "                yticklabels=labels_list)\n",
    "\n",
    "    plt.xlabel(r'$\\bf{Predicted\\ labels}$')\n",
    "    plt.ylabel(r'$\\bf{True\\ labels}$')\n",
    "    plt.title(title)\n",
    "    plt.show()\n",
    "\n",
    "    # Calculate and return the F1 score\n",
    "    f1 = f1_score(y_test, y_pred, average='weighted')\n",
    "    print(f\"Weighted F1 Score: {f1:.2f}\")"
   ]
  },
  {
   "cell_type": "markdown",
   "metadata": {},
   "source": [
    "# 5. Code"
   ]
  },
  {
   "cell_type": "markdown",
   "metadata": {},
   "source": [
    "We are going to open both csv files from the notebook 02_data_preprocessing"
   ]
  },
  {
   "cell_type": "code",
   "execution_count": 4,
   "metadata": {},
   "outputs": [],
   "source": [
    "df_train = pd.read_csv(input_X_train_path)\n",
    "df_test = pd.read_csv(input_X_test_path)"
   ]
  },
  {
   "cell_type": "code",
   "execution_count": 5,
   "metadata": {},
   "outputs": [
    {
     "data": {
      "text/html": [
       "<div>\n",
       "<style scoped>\n",
       "    .dataframe tbody tr th:only-of-type {\n",
       "        vertical-align: middle;\n",
       "    }\n",
       "\n",
       "    .dataframe tbody tr th {\n",
       "        vertical-align: top;\n",
       "    }\n",
       "\n",
       "    .dataframe thead th {\n",
       "        text-align: right;\n",
       "    }\n",
       "</style>\n",
       "<table border=\"1\" class=\"dataframe\">\n",
       "  <thead>\n",
       "    <tr style=\"text-align: right;\">\n",
       "      <th></th>\n",
       "      <th>able</th>\n",
       "      <th>access</th>\n",
       "      <th>aclu</th>\n",
       "      <th>action</th>\n",
       "      <th>actually</th>\n",
       "      <th>ad</th>\n",
       "      <th>again</th>\n",
       "      <th>all</th>\n",
       "      <th>almost</th>\n",
       "      <th>already</th>\n",
       "      <th>...</th>\n",
       "      <th>wow</th>\n",
       "      <th>year</th>\n",
       "      <th>yes</th>\n",
       "      <th>yesterday</th>\n",
       "      <th>yet</th>\n",
       "      <th>you</th>\n",
       "      <th>yr</th>\n",
       "      <th>emotion_type_encoded</th>\n",
       "      <th>product_mention_Both</th>\n",
       "      <th>product_mention_Google</th>\n",
       "    </tr>\n",
       "  </thead>\n",
       "  <tbody>\n",
       "    <tr>\n",
       "      <th>0</th>\n",
       "      <td>0.0</td>\n",
       "      <td>0.0</td>\n",
       "      <td>0.0</td>\n",
       "      <td>0.0</td>\n",
       "      <td>0.0</td>\n",
       "      <td>0.0</td>\n",
       "      <td>0.0</td>\n",
       "      <td>0.0</td>\n",
       "      <td>0.0</td>\n",
       "      <td>0.0</td>\n",
       "      <td>...</td>\n",
       "      <td>0.0</td>\n",
       "      <td>0.0</td>\n",
       "      <td>0.0</td>\n",
       "      <td>0.0</td>\n",
       "      <td>0.0</td>\n",
       "      <td>0.0</td>\n",
       "      <td>0.0</td>\n",
       "      <td>2</td>\n",
       "      <td>1.0</td>\n",
       "      <td>0.0</td>\n",
       "    </tr>\n",
       "    <tr>\n",
       "      <th>1</th>\n",
       "      <td>0.0</td>\n",
       "      <td>0.0</td>\n",
       "      <td>0.0</td>\n",
       "      <td>0.0</td>\n",
       "      <td>0.0</td>\n",
       "      <td>0.0</td>\n",
       "      <td>0.0</td>\n",
       "      <td>0.0</td>\n",
       "      <td>0.0</td>\n",
       "      <td>0.0</td>\n",
       "      <td>...</td>\n",
       "      <td>0.0</td>\n",
       "      <td>0.0</td>\n",
       "      <td>0.0</td>\n",
       "      <td>0.0</td>\n",
       "      <td>0.0</td>\n",
       "      <td>0.0</td>\n",
       "      <td>0.0</td>\n",
       "      <td>2</td>\n",
       "      <td>0.0</td>\n",
       "      <td>0.0</td>\n",
       "    </tr>\n",
       "    <tr>\n",
       "      <th>2</th>\n",
       "      <td>0.0</td>\n",
       "      <td>0.0</td>\n",
       "      <td>0.0</td>\n",
       "      <td>0.0</td>\n",
       "      <td>0.0</td>\n",
       "      <td>0.0</td>\n",
       "      <td>0.0</td>\n",
       "      <td>0.0</td>\n",
       "      <td>0.0</td>\n",
       "      <td>0.0</td>\n",
       "      <td>...</td>\n",
       "      <td>0.0</td>\n",
       "      <td>0.0</td>\n",
       "      <td>0.0</td>\n",
       "      <td>0.0</td>\n",
       "      <td>0.0</td>\n",
       "      <td>0.0</td>\n",
       "      <td>0.0</td>\n",
       "      <td>2</td>\n",
       "      <td>0.0</td>\n",
       "      <td>0.0</td>\n",
       "    </tr>\n",
       "    <tr>\n",
       "      <th>3</th>\n",
       "      <td>0.0</td>\n",
       "      <td>0.0</td>\n",
       "      <td>0.0</td>\n",
       "      <td>0.0</td>\n",
       "      <td>0.0</td>\n",
       "      <td>0.0</td>\n",
       "      <td>0.0</td>\n",
       "      <td>0.0</td>\n",
       "      <td>0.0</td>\n",
       "      <td>0.0</td>\n",
       "      <td>...</td>\n",
       "      <td>0.0</td>\n",
       "      <td>0.0</td>\n",
       "      <td>0.0</td>\n",
       "      <td>0.0</td>\n",
       "      <td>0.0</td>\n",
       "      <td>0.0</td>\n",
       "      <td>0.0</td>\n",
       "      <td>2</td>\n",
       "      <td>1.0</td>\n",
       "      <td>0.0</td>\n",
       "    </tr>\n",
       "    <tr>\n",
       "      <th>4</th>\n",
       "      <td>0.0</td>\n",
       "      <td>0.0</td>\n",
       "      <td>0.0</td>\n",
       "      <td>0.0</td>\n",
       "      <td>0.0</td>\n",
       "      <td>0.0</td>\n",
       "      <td>0.0</td>\n",
       "      <td>0.0</td>\n",
       "      <td>0.0</td>\n",
       "      <td>0.0</td>\n",
       "      <td>...</td>\n",
       "      <td>0.0</td>\n",
       "      <td>0.0</td>\n",
       "      <td>0.0</td>\n",
       "      <td>0.0</td>\n",
       "      <td>0.0</td>\n",
       "      <td>0.0</td>\n",
       "      <td>0.0</td>\n",
       "      <td>2</td>\n",
       "      <td>0.0</td>\n",
       "      <td>0.0</td>\n",
       "    </tr>\n",
       "  </tbody>\n",
       "</table>\n",
       "<p>5 rows × 613 columns</p>\n",
       "</div>"
      ],
      "text/plain": [
       "   able  access  aclu  action  actually   ad  again  all  almost  already  \\\n",
       "0   0.0     0.0   0.0     0.0       0.0  0.0    0.0  0.0     0.0      0.0   \n",
       "1   0.0     0.0   0.0     0.0       0.0  0.0    0.0  0.0     0.0      0.0   \n",
       "2   0.0     0.0   0.0     0.0       0.0  0.0    0.0  0.0     0.0      0.0   \n",
       "3   0.0     0.0   0.0     0.0       0.0  0.0    0.0  0.0     0.0      0.0   \n",
       "4   0.0     0.0   0.0     0.0       0.0  0.0    0.0  0.0     0.0      0.0   \n",
       "\n",
       "   ...  wow  year  yes  yesterday  yet  you   yr  emotion_type_encoded  \\\n",
       "0  ...  0.0   0.0  0.0        0.0  0.0  0.0  0.0                     2   \n",
       "1  ...  0.0   0.0  0.0        0.0  0.0  0.0  0.0                     2   \n",
       "2  ...  0.0   0.0  0.0        0.0  0.0  0.0  0.0                     2   \n",
       "3  ...  0.0   0.0  0.0        0.0  0.0  0.0  0.0                     2   \n",
       "4  ...  0.0   0.0  0.0        0.0  0.0  0.0  0.0                     2   \n",
       "\n",
       "   product_mention_Both  product_mention_Google  \n",
       "0                   1.0                     0.0  \n",
       "1                   0.0                     0.0  \n",
       "2                   0.0                     0.0  \n",
       "3                   1.0                     0.0  \n",
       "4                   0.0                     0.0  \n",
       "\n",
       "[5 rows x 613 columns]"
      ]
     },
     "execution_count": 5,
     "metadata": {},
     "output_type": "execute_result"
    }
   ],
   "source": [
    "df_train.head()"
   ]
  },
  {
   "cell_type": "code",
   "execution_count": 6,
   "metadata": {},
   "outputs": [
    {
     "data": {
      "text/html": [
       "<div>\n",
       "<style scoped>\n",
       "    .dataframe tbody tr th:only-of-type {\n",
       "        vertical-align: middle;\n",
       "    }\n",
       "\n",
       "    .dataframe tbody tr th {\n",
       "        vertical-align: top;\n",
       "    }\n",
       "\n",
       "    .dataframe thead th {\n",
       "        text-align: right;\n",
       "    }\n",
       "</style>\n",
       "<table border=\"1\" class=\"dataframe\">\n",
       "  <thead>\n",
       "    <tr style=\"text-align: right;\">\n",
       "      <th></th>\n",
       "      <th>able</th>\n",
       "      <th>access</th>\n",
       "      <th>aclu</th>\n",
       "      <th>action</th>\n",
       "      <th>actually</th>\n",
       "      <th>ad</th>\n",
       "      <th>again</th>\n",
       "      <th>all</th>\n",
       "      <th>almost</th>\n",
       "      <th>already</th>\n",
       "      <th>...</th>\n",
       "      <th>wow</th>\n",
       "      <th>year</th>\n",
       "      <th>yes</th>\n",
       "      <th>yesterday</th>\n",
       "      <th>yet</th>\n",
       "      <th>you</th>\n",
       "      <th>yr</th>\n",
       "      <th>emotion_type_encoded</th>\n",
       "      <th>product_mention_Both</th>\n",
       "      <th>product_mention_Google</th>\n",
       "    </tr>\n",
       "  </thead>\n",
       "  <tbody>\n",
       "    <tr>\n",
       "      <th>0</th>\n",
       "      <td>0.0</td>\n",
       "      <td>0.0</td>\n",
       "      <td>0.0</td>\n",
       "      <td>0.0</td>\n",
       "      <td>0.0</td>\n",
       "      <td>0.0</td>\n",
       "      <td>0.0</td>\n",
       "      <td>0.0</td>\n",
       "      <td>0.0</td>\n",
       "      <td>0.0</td>\n",
       "      <td>...</td>\n",
       "      <td>0.0</td>\n",
       "      <td>0.0</td>\n",
       "      <td>0.0</td>\n",
       "      <td>0.0</td>\n",
       "      <td>0.0</td>\n",
       "      <td>0.0</td>\n",
       "      <td>0.0</td>\n",
       "      <td>2</td>\n",
       "      <td>0.0</td>\n",
       "      <td>0.0</td>\n",
       "    </tr>\n",
       "    <tr>\n",
       "      <th>1</th>\n",
       "      <td>0.0</td>\n",
       "      <td>0.0</td>\n",
       "      <td>0.0</td>\n",
       "      <td>0.0</td>\n",
       "      <td>0.0</td>\n",
       "      <td>0.0</td>\n",
       "      <td>0.0</td>\n",
       "      <td>0.0</td>\n",
       "      <td>0.0</td>\n",
       "      <td>0.0</td>\n",
       "      <td>...</td>\n",
       "      <td>0.0</td>\n",
       "      <td>0.0</td>\n",
       "      <td>0.0</td>\n",
       "      <td>0.0</td>\n",
       "      <td>0.0</td>\n",
       "      <td>0.0</td>\n",
       "      <td>0.0</td>\n",
       "      <td>2</td>\n",
       "      <td>1.0</td>\n",
       "      <td>0.0</td>\n",
       "    </tr>\n",
       "    <tr>\n",
       "      <th>2</th>\n",
       "      <td>0.0</td>\n",
       "      <td>0.0</td>\n",
       "      <td>0.0</td>\n",
       "      <td>0.0</td>\n",
       "      <td>0.0</td>\n",
       "      <td>0.0</td>\n",
       "      <td>0.0</td>\n",
       "      <td>0.0</td>\n",
       "      <td>0.0</td>\n",
       "      <td>0.0</td>\n",
       "      <td>...</td>\n",
       "      <td>0.0</td>\n",
       "      <td>0.0</td>\n",
       "      <td>0.0</td>\n",
       "      <td>0.0</td>\n",
       "      <td>0.0</td>\n",
       "      <td>0.0</td>\n",
       "      <td>0.0</td>\n",
       "      <td>2</td>\n",
       "      <td>0.0</td>\n",
       "      <td>0.0</td>\n",
       "    </tr>\n",
       "    <tr>\n",
       "      <th>3</th>\n",
       "      <td>0.0</td>\n",
       "      <td>0.0</td>\n",
       "      <td>0.0</td>\n",
       "      <td>0.0</td>\n",
       "      <td>0.0</td>\n",
       "      <td>0.0</td>\n",
       "      <td>0.0</td>\n",
       "      <td>0.0</td>\n",
       "      <td>0.0</td>\n",
       "      <td>0.0</td>\n",
       "      <td>...</td>\n",
       "      <td>0.0</td>\n",
       "      <td>0.0</td>\n",
       "      <td>0.0</td>\n",
       "      <td>0.0</td>\n",
       "      <td>0.0</td>\n",
       "      <td>0.0</td>\n",
       "      <td>0.0</td>\n",
       "      <td>2</td>\n",
       "      <td>0.0</td>\n",
       "      <td>1.0</td>\n",
       "    </tr>\n",
       "    <tr>\n",
       "      <th>4</th>\n",
       "      <td>0.0</td>\n",
       "      <td>0.0</td>\n",
       "      <td>0.0</td>\n",
       "      <td>0.0</td>\n",
       "      <td>0.0</td>\n",
       "      <td>0.0</td>\n",
       "      <td>0.0</td>\n",
       "      <td>0.0</td>\n",
       "      <td>0.0</td>\n",
       "      <td>0.0</td>\n",
       "      <td>...</td>\n",
       "      <td>0.0</td>\n",
       "      <td>0.0</td>\n",
       "      <td>0.0</td>\n",
       "      <td>0.0</td>\n",
       "      <td>0.0</td>\n",
       "      <td>0.0</td>\n",
       "      <td>0.0</td>\n",
       "      <td>2</td>\n",
       "      <td>0.0</td>\n",
       "      <td>0.0</td>\n",
       "    </tr>\n",
       "  </tbody>\n",
       "</table>\n",
       "<p>5 rows × 613 columns</p>\n",
       "</div>"
      ],
      "text/plain": [
       "   able  access  aclu  action  actually   ad  again  all  almost  already  \\\n",
       "0   0.0     0.0   0.0     0.0       0.0  0.0    0.0  0.0     0.0      0.0   \n",
       "1   0.0     0.0   0.0     0.0       0.0  0.0    0.0  0.0     0.0      0.0   \n",
       "2   0.0     0.0   0.0     0.0       0.0  0.0    0.0  0.0     0.0      0.0   \n",
       "3   0.0     0.0   0.0     0.0       0.0  0.0    0.0  0.0     0.0      0.0   \n",
       "4   0.0     0.0   0.0     0.0       0.0  0.0    0.0  0.0     0.0      0.0   \n",
       "\n",
       "   ...  wow  year  yes  yesterday  yet  you   yr  emotion_type_encoded  \\\n",
       "0  ...  0.0   0.0  0.0        0.0  0.0  0.0  0.0                     2   \n",
       "1  ...  0.0   0.0  0.0        0.0  0.0  0.0  0.0                     2   \n",
       "2  ...  0.0   0.0  0.0        0.0  0.0  0.0  0.0                     2   \n",
       "3  ...  0.0   0.0  0.0        0.0  0.0  0.0  0.0                     2   \n",
       "4  ...  0.0   0.0  0.0        0.0  0.0  0.0  0.0                     2   \n",
       "\n",
       "   product_mention_Both  product_mention_Google  \n",
       "0                   0.0                     0.0  \n",
       "1                   1.0                     0.0  \n",
       "2                   0.0                     0.0  \n",
       "3                   0.0                     1.0  \n",
       "4                   0.0                     0.0  \n",
       "\n",
       "[5 rows x 613 columns]"
      ]
     },
     "execution_count": 6,
     "metadata": {},
     "output_type": "execute_result"
    }
   ],
   "source": [
    "df_test.head()"
   ]
  },
  {
   "cell_type": "markdown",
   "metadata": {},
   "source": [
    "Let's do the separation between X_train, y_train, X_test, y_test"
   ]
  },
  {
   "cell_type": "code",
   "execution_count": 7,
   "metadata": {},
   "outputs": [],
   "source": [
    "# For train\n",
    "X_train, y_train = df_train.drop('emotion_type_encoded', axis=1), df_train['emotion_type_encoded']\n",
    "\n",
    "# For test\n",
    "X_test, y_test = df_test.drop('emotion_type_encoded', axis=1), df_test['emotion_type_encoded']"
   ]
  },
  {
   "cell_type": "markdown",
   "metadata": {},
   "source": [
    "We will now proceed to train different models"
   ]
  },
  {
   "cell_type": "markdown",
   "metadata": {},
   "source": [
    "## 5.1 Random Forest"
   ]
  },
  {
   "cell_type": "code",
   "execution_count": 8,
   "metadata": {},
   "outputs": [],
   "source": [
    "# Initializing the RandomForestClassifier\n",
    "rf = RandomForestClassifier(random_state=12)\n",
    "\n",
    "# Let's do a fit on X_train and y_train\n",
    "rf.fit(X_train, y_train)\n",
    "\n",
    "# Let's do the predict of X_test\n",
    "y_pred_rf = rf.predict(X_test)"
   ]
  },
  {
   "cell_type": "markdown",
   "metadata": {},
   "source": [
    "Given that we have a multiclass problem, we are going to use the f1-score to detect the errors in the most generic way. F1-score combines the errors of recall and precision. This metric is good for unbalanced datasets. \n",
    "\n",
    "We are going to use the confusion matrix and the f1_score to chose our best model"
   ]
  },
  {
   "cell_type": "code",
   "execution_count": 12,
   "metadata": {},
   "outputs": [
    {
     "data": {
      "image/png": "[encoded data removed]",
      "text/plain": [
       "<Figure size 576x432 with 1 Axes>"
      ]
     },
     "metadata": {
      "needs_background": "light"
     },
     "output_type": "display_data"
    },
    {
     "name": "stdout",
     "output_type": "stream",
     "text": [
      "Weighted F1 Score: 0.63\n"
     ]
    }
   ],
   "source": [
    "plot_confusion_matrix_and_f1(y_test, y_pred_rf, title='Confusion Matrix - Random Forest')"
   ]
  },
  {
   "cell_type": "markdown",
   "metadata": {},
   "source": [
    "## 5.2 Neural Networks"
   ]
  },
  {
   "cell_type": "code",
   "execution_count": null,
   "metadata": {},
   "outputs": [],
   "source": []
  },
  {
   "cell_type": "markdown",
   "metadata": {},
   "source": [
    "## 5.3 Xgboost"
   ]
  },
  {
   "cell_type": "code",
   "execution_count": null,
   "metadata": {},
   "outputs": [],
   "source": []
  },
  {
   "cell_type": "markdown",
   "metadata": {},
   "source": [
    "## 5.4 Multinomial LR"
   ]
  },
  {
   "cell_type": "code",
   "execution_count": null,
   "metadata": {},
   "outputs": [],
   "source": []
  }
 ],
 "metadata": {
  "kernelspec": {
   "display_name": "Python 3.12.4",
   "language": "python",
   "name": "nombre_del_kernel"
  },
  "language_info": {
   "codemirror_mode": {
    "name": "ipython",
    "version": 3
   },
   "file_extension": ".py",
   "mimetype": "text/x-python",
   "name": "python",
   "nbconvert_exporter": "python",
   "pygments_lexer": "ipython3",
   "version": "3.8.5"
  }
 },
 "nbformat": 4,
 "nbformat_minor": 4
}
